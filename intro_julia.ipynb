{
 "cells": [
  {
   "cell_type": "markdown",
   "id": "e3a292d4",
   "metadata": {},
   "source": [
    "# Comandos Básicos"
   ]
  },
  {
   "cell_type": "code",
   "execution_count": 1,
   "id": "3eacfd01",
   "metadata": {},
   "outputs": [
    {
     "data": {
      "text/plain": [
       "3"
      ]
     },
     "execution_count": 1,
     "metadata": {},
     "output_type": "execute_result"
    }
   ],
   "source": [
    "2+1"
   ]
  },
  {
   "cell_type": "code",
   "execution_count": 2,
   "id": "47aba369",
   "metadata": {},
   "outputs": [
    {
     "data": {
      "text/plain": [
       "128"
      ]
     },
     "execution_count": 2,
     "metadata": {},
     "output_type": "execute_result"
    }
   ],
   "source": [
    "2^7"
   ]
  },
  {
   "cell_type": "code",
   "execution_count": 3,
   "id": "6fbf6244",
   "metadata": {},
   "outputs": [
    {
     "data": {
      "text/plain": [
       "1.5"
      ]
     },
     "execution_count": 3,
     "metadata": {},
     "output_type": "execute_result"
    }
   ],
   "source": [
    "3/2"
   ]
  },
  {
   "cell_type": "code",
   "execution_count": 4,
   "id": "caee788c",
   "metadata": {},
   "outputs": [
    {
     "data": {
      "text/plain": [
       "7//3"
      ]
     },
     "execution_count": 4,
     "metadata": {},
     "output_type": "execute_result"
    }
   ],
   "source": [
    "2//3 + 5//3"
   ]
  },
  {
   "cell_type": "code",
   "execution_count": 5,
   "id": "d0143aff",
   "metadata": {},
   "outputs": [
    {
     "data": {
      "text/plain": [
       "2 + 1im"
      ]
     },
     "execution_count": 5,
     "metadata": {},
     "output_type": "execute_result"
    }
   ],
   "source": [
    "a = 2 + 1*im"
   ]
  },
  {
   "cell_type": "code",
   "execution_count": 6,
   "id": "1882291a",
   "metadata": {},
   "outputs": [
    {
     "data": {
      "text/plain": [
       "3 + 4im"
      ]
     },
     "execution_count": 6,
     "metadata": {},
     "output_type": "execute_result"
    }
   ],
   "source": [
    "b = 3 + 4im"
   ]
  },
  {
   "cell_type": "code",
   "execution_count": 7,
   "id": "f14a03a8",
   "metadata": {},
   "outputs": [
    {
     "data": {
      "text/plain": [
       "5 + 5im"
      ]
     },
     "execution_count": 7,
     "metadata": {},
     "output_type": "execute_result"
    }
   ],
   "source": [
    "a + b"
   ]
  },
  {
   "cell_type": "code",
   "execution_count": 8,
   "id": "cefb13eb",
   "metadata": {},
   "outputs": [
    {
     "data": {
      "text/plain": [
       "2 - 1im"
      ]
     },
     "execution_count": 8,
     "metadata": {},
     "output_type": "execute_result"
    }
   ],
   "source": [
    "conj(a)"
   ]
  },
  {
   "cell_type": "code",
   "execution_count": 9,
   "id": "3d8d8adb",
   "metadata": {},
   "outputs": [
    {
     "name": "stdout",
     "output_type": "stream",
     "text": [
      "search: \u001b[0m\u001b[1mc\u001b[22m\u001b[0m\u001b[1mo\u001b[22m\u001b[0m\u001b[1mn\u001b[22m\u001b[0m\u001b[1mj\u001b[22m \u001b[0m\u001b[1mc\u001b[22m\u001b[0m\u001b[1mo\u001b[22m\u001b[0m\u001b[1mn\u001b[22m\u001b[0m\u001b[1mj\u001b[22m! \u001b[0m\u001b[1mc\u001b[22m\u001b[0m\u001b[1mo\u001b[22m\u001b[0m\u001b[1mn\u001b[22mst \u001b[0m\u001b[1mc\u001b[22m\u001b[0m\u001b[1mo\u001b[22m\u001b[0m\u001b[1mn\u001b[22mvert \u001b[0m\u001b[1mc\u001b[22m\u001b[0m\u001b[1mo\u001b[22m\u001b[0m\u001b[1mn\u001b[22mtinue \u001b[0m\u001b[1mc\u001b[22m\u001b[0m\u001b[1mo\u001b[22m\u001b[0m\u001b[1mn\u001b[22mtains \u001b[0m\u001b[1mC\u001b[22m\u001b[0m\u001b[1mo\u001b[22m\u001b[0m\u001b[1mn\u001b[22mdition is\u001b[0m\u001b[1mc\u001b[22m\u001b[0m\u001b[1mo\u001b[22m\u001b[0m\u001b[1mn\u001b[22mst IO\u001b[0m\u001b[1mC\u001b[22m\u001b[0m\u001b[1mo\u001b[22m\u001b[0m\u001b[1mn\u001b[22mtext\n",
      "\n"
     ]
    },
    {
     "data": {
      "text/latex": [
       "\\begin{verbatim}\n",
       "conj(z)\n",
       "\\end{verbatim}\n",
       "Compute the complex conjugate of a complex number \\texttt{z}.\n",
       "\n",
       "\\section{Examples}\n",
       "\\begin{verbatim}\n",
       "julia> conj(1 + 3im)\n",
       "1 - 3im\n",
       "\\end{verbatim}\n"
      ],
      "text/markdown": [
       "```\n",
       "conj(z)\n",
       "```\n",
       "\n",
       "Compute the complex conjugate of a complex number `z`.\n",
       "\n",
       "# Examples\n",
       "\n",
       "```jldoctest\n",
       "julia> conj(1 + 3im)\n",
       "1 - 3im\n",
       "```\n"
      ],
      "text/plain": [
       "\u001b[36m  conj(z)\u001b[39m\n",
       "\n",
       "  Compute the complex conjugate of a complex number \u001b[36mz\u001b[39m.\n",
       "\n",
       "\u001b[1m  Examples\u001b[22m\n",
       "\u001b[1m  ≡≡≡≡≡≡≡≡≡≡\u001b[22m\n",
       "\n",
       "\u001b[36m  julia> conj(1 + 3im)\u001b[39m\n",
       "\u001b[36m  1 - 3im\u001b[39m"
      ]
     },
     "execution_count": 9,
     "metadata": {},
     "output_type": "execute_result"
    }
   ],
   "source": [
    "?conj"
   ]
  },
  {
   "cell_type": "code",
   "execution_count": 10,
   "id": "54e0cbd8",
   "metadata": {},
   "outputs": [
    {
     "name": "stdout",
     "output_type": "stream",
     "text": [
      "hello world"
     ]
    }
   ],
   "source": [
    "print(\"hello world\")"
   ]
  },
  {
   "cell_type": "code",
   "execution_count": 11,
   "id": "a25aa484",
   "metadata": {},
   "outputs": [
    {
     "data": {
      "text/plain": [
       "4-element Vector{Int64}:\n",
       " 1\n",
       " 2\n",
       " 3\n",
       " 4"
      ]
     },
     "execution_count": 11,
     "metadata": {},
     "output_type": "execute_result"
    }
   ],
   "source": [
    "x = [1, 2, 3, 4]"
   ]
  },
  {
   "cell_type": "code",
   "execution_count": 12,
   "id": "946acc75",
   "metadata": {},
   "outputs": [
    {
     "data": {
      "text/plain": [
       "1×4 Matrix{Int64}:\n",
       " 1  2  3  4"
      ]
     },
     "execution_count": 12,
     "metadata": {},
     "output_type": "execute_result"
    }
   ],
   "source": [
    "x_2 = [1 2 3 4]"
   ]
  },
  {
   "cell_type": "code",
   "execution_count": 13,
   "id": "66c21e0b",
   "metadata": {},
   "outputs": [
    {
     "data": {
      "text/plain": [
       "4-element Vector{Int64}:\n",
       " 1\n",
       " 2\n",
       " 3\n",
       " 4"
      ]
     },
     "execution_count": 13,
     "metadata": {},
     "output_type": "execute_result"
    }
   ],
   "source": [
    "x_3 = [1; 2; 3; 4]"
   ]
  },
  {
   "cell_type": "code",
   "execution_count": 14,
   "id": "b5567a0c",
   "metadata": {},
   "outputs": [
    {
     "data": {
      "text/plain": [
       "2×3 Matrix{Int64}:\n",
       " 1  3  2\n",
       " 1  4  3"
      ]
     },
     "execution_count": 14,
     "metadata": {},
     "output_type": "execute_result"
    }
   ],
   "source": [
    "aa = [[1 3 2]; [1 4 3]]"
   ]
  },
  {
   "cell_type": "code",
   "execution_count": 15,
   "id": "c93e9302",
   "metadata": {},
   "outputs": [
    {
     "data": {
      "text/plain": [
       "6-element Vector{Int64}:\n",
       " 1\n",
       " 1\n",
       " 3\n",
       " 4\n",
       " 2\n",
       " 3"
      ]
     },
     "execution_count": 15,
     "metadata": {},
     "output_type": "execute_result"
    }
   ],
   "source": [
    "aa[:]"
   ]
  },
  {
   "cell_type": "code",
   "execution_count": 16,
   "id": "c8e8d436",
   "metadata": {},
   "outputs": [
    {
     "data": {
      "text/plain": [
       "3×2 adjoint(::Matrix{Int64}) with eltype Int64:\n",
       " 1  1\n",
       " 3  4\n",
       " 2  3"
      ]
     },
     "execution_count": 16,
     "metadata": {},
     "output_type": "execute_result"
    }
   ],
   "source": [
    "aa'"
   ]
  },
  {
   "cell_type": "code",
   "execution_count": 23,
   "id": "a4612fe8",
   "metadata": {},
   "outputs": [
    {
     "data": {
      "text/plain": [
       "2×2 Matrix{Int64}:\n",
       " 1  2\n",
       " 3  2"
      ]
     },
     "execution_count": 23,
     "metadata": {},
     "output_type": "execute_result"
    }
   ],
   "source": [
    "A = [1 2; 3 2]"
   ]
  },
  {
   "cell_type": "code",
   "execution_count": 24,
   "id": "11780648",
   "metadata": {},
   "outputs": [
    {
     "data": {
      "text/plain": [
       "2×2 Matrix{Int64}:\n",
       " 1  1\n",
       " 1  1"
      ]
     },
     "execution_count": 24,
     "metadata": {},
     "output_type": "execute_result"
    }
   ],
   "source": [
    "B = [1 1; 1 1]"
   ]
  },
  {
   "cell_type": "code",
   "execution_count": 25,
   "id": "50b9a666",
   "metadata": {},
   "outputs": [
    {
     "data": {
      "text/plain": [
       "2×2 Matrix{Int64}:\n",
       " 3  3\n",
       " 5  5"
      ]
     },
     "execution_count": 25,
     "metadata": {},
     "output_type": "execute_result"
    }
   ],
   "source": [
    "A * B"
   ]
  },
  {
   "cell_type": "code",
   "execution_count": 26,
   "id": "9b0c757b",
   "metadata": {},
   "outputs": [
    {
     "data": {
      "text/plain": [
       "2×2 Matrix{Int64}:\n",
       " 1  2\n",
       " 3  2"
      ]
     },
     "execution_count": 26,
     "metadata": {},
     "output_type": "execute_result"
    }
   ],
   "source": [
    "A .* B"
   ]
  },
  {
   "cell_type": "code",
   "execution_count": 27,
   "id": "72578824",
   "metadata": {},
   "outputs": [
    {
     "data": {
      "text/plain": [
       "(2, 2)"
      ]
     },
     "execution_count": 27,
     "metadata": {},
     "output_type": "execute_result"
    }
   ],
   "source": [
    "size(A)"
   ]
  },
  {
   "cell_type": "markdown",
   "id": "513d17ef",
   "metadata": {},
   "source": [
    "$ A x = b $"
   ]
  },
  {
   "cell_type": "code",
   "execution_count": 28,
   "id": "4b02fa9e",
   "metadata": {},
   "outputs": [
    {
     "data": {
      "text/plain": [
       "2×2 Matrix{Float64}:\n",
       " 0.0  0.0\n",
       " 0.5  0.5"
      ]
     },
     "execution_count": 28,
     "metadata": {},
     "output_type": "execute_result"
    }
   ],
   "source": [
    "x_sol = A \\ B"
   ]
  },
  {
   "cell_type": "code",
   "execution_count": 29,
   "id": "eba46238",
   "metadata": {},
   "outputs": [
    {
     "data": {
      "text/plain": [
       "2×2 Matrix{Float64}:\n",
       " 1.0  1.0\n",
       " 1.0  1.0"
      ]
     },
     "execution_count": 29,
     "metadata": {},
     "output_type": "execute_result"
    }
   ],
   "source": [
    "A * x_sol"
   ]
  },
  {
   "cell_type": "code",
   "execution_count": 31,
   "id": "a7fa24b5",
   "metadata": {},
   "outputs": [
    {
     "ename": "LoadError",
     "evalue": "BoundsError: attempt to access 4-element Vector{Int64} at index [0]",
     "output_type": "error",
     "traceback": [
      "BoundsError: attempt to access 4-element Vector{Int64} at index [0]",
      "",
      "Stacktrace:",
      " [1] getindex(A::Vector{Int64}, i1::Int64)",
      "   @ Base ./array.jl:801",
      " [2] top-level scope",
      "   @ In[31]:2",
      " [3] eval",
      "   @ ./boot.jl:360 [inlined]",
      " [4] include_string(mapexpr::typeof(REPL.softscope), mod::Module, code::String, filename::String)",
      "   @ Base ./loading.jl:1094"
     ]
    }
   ],
   "source": [
    "x = [1, 2, 3, 4]\n",
    "x[0]"
   ]
  },
  {
   "cell_type": "code",
   "execution_count": 32,
   "id": "37e5b8ca",
   "metadata": {},
   "outputs": [
    {
     "data": {
      "text/plain": [
       "1"
      ]
     },
     "execution_count": 32,
     "metadata": {},
     "output_type": "execute_result"
    }
   ],
   "source": [
    "x[1]"
   ]
  },
  {
   "cell_type": "code",
   "execution_count": 33,
   "id": "4cb55900",
   "metadata": {},
   "outputs": [
    {
     "ename": "LoadError",
     "evalue": "BoundsError: attempt to access 4-element Vector{Int64} at index [-1]",
     "output_type": "error",
     "traceback": [
      "BoundsError: attempt to access 4-element Vector{Int64} at index [-1]",
      "",
      "Stacktrace:",
      " [1] getindex(A::Vector{Int64}, i1::Int64)",
      "   @ Base ./array.jl:801",
      " [2] top-level scope",
      "   @ In[33]:1",
      " [3] eval",
      "   @ ./boot.jl:360 [inlined]",
      " [4] include_string(mapexpr::typeof(REPL.softscope), mod::Module, code::String, filename::String)",
      "   @ Base ./loading.jl:1094"
     ]
    }
   ],
   "source": [
    "x[-1]"
   ]
  },
  {
   "cell_type": "code",
   "execution_count": 34,
   "id": "a0b8ea3d",
   "metadata": {},
   "outputs": [
    {
     "data": {
      "text/plain": [
       "4"
      ]
     },
     "execution_count": 34,
     "metadata": {},
     "output_type": "execute_result"
    }
   ],
   "source": [
    "x[end]"
   ]
  },
  {
   "cell_type": "markdown",
   "id": "39a127c0",
   "metadata": {},
   "source": [
    "# Funções"
   ]
  },
  {
   "cell_type": "code",
   "execution_count": 35,
   "id": "9d30ebfe",
   "metadata": {},
   "outputs": [
    {
     "data": {
      "text/plain": [
       "say_my_name (generic function with 1 method)"
      ]
     },
     "execution_count": 35,
     "metadata": {},
     "output_type": "execute_result"
    }
   ],
   "source": [
    "function say_my_name(name)\n",
    "    print(\"my name is \", name)\n",
    "end"
   ]
  },
  {
   "cell_type": "code",
   "execution_count": 36,
   "id": "f8e7e0a4",
   "metadata": {},
   "outputs": [
    {
     "name": "stdout",
     "output_type": "stream",
     "text": [
      "my name is João"
     ]
    }
   ],
   "source": [
    "say_my_name(\"João\")"
   ]
  },
  {
   "cell_type": "markdown",
   "id": "1ca5fb9a",
   "metadata": {},
   "source": [
    "# Type"
   ]
  },
  {
   "cell_type": "code",
   "execution_count": 37,
   "id": "07b883a1",
   "metadata": {},
   "outputs": [
    {
     "data": {
      "text/plain": [
       "Irrational{:π}"
      ]
     },
     "execution_count": 37,
     "metadata": {},
     "output_type": "execute_result"
    }
   ],
   "source": [
    "typeof(π)"
   ]
  },
  {
   "cell_type": "code",
   "execution_count": 41,
   "id": "b13cff8e",
   "metadata": {},
   "outputs": [
    {
     "data": {
      "text/plain": [
       "Vector{Int64} (alias for Array{Int64, 1})"
      ]
     },
     "execution_count": 41,
     "metadata": {},
     "output_type": "execute_result"
    }
   ],
   "source": [
    "typeof([3, 4, 7])"
   ]
  },
  {
   "cell_type": "code",
   "execution_count": 42,
   "id": "3b2c5be7",
   "metadata": {},
   "outputs": [
    {
     "data": {
      "text/plain": [
       "6.283185307179586"
      ]
     },
     "execution_count": 42,
     "metadata": {},
     "output_type": "execute_result"
    }
   ],
   "source": [
    "ω = 1\n",
    "y = 2* ω * π"
   ]
  },
  {
   "cell_type": "code",
   "execution_count": 43,
   "id": "abaa3e2c",
   "metadata": {},
   "outputs": [
    {
     "data": {
      "text/plain": [
       "3.1622776601683795"
      ]
     },
     "execution_count": 43,
     "metadata": {},
     "output_type": "execute_result"
    }
   ],
   "source": [
    "√10"
   ]
  },
  {
   "cell_type": "code",
   "execution_count": null,
   "id": "61f4f21b",
   "metadata": {},
   "outputs": [],
   "source": [
    "using Pkg\n",
    "Pkg.add(\"Package Name\")"
   ]
  },
  {
   "cell_type": "markdown",
   "id": "c625d753",
   "metadata": {},
   "source": [
    "# Loops"
   ]
  },
  {
   "cell_type": "code",
   "execution_count": 44,
   "id": "0c57f732",
   "metadata": {},
   "outputs": [
    {
     "name": "stdout",
     "output_type": "stream",
     "text": [
      "1\n",
      "2\n",
      "3\n",
      "4\n",
      "5\n",
      "6\n",
      "7\n",
      "8\n",
      "9\n",
      "10\n"
     ]
    }
   ],
   "source": [
    "n = 0\n",
    "while n < 10\n",
    "    n += 1\n",
    "    println(n)\n",
    "end"
   ]
  },
  {
   "cell_type": "code",
   "execution_count": 45,
   "id": "874e31f6",
   "metadata": {},
   "outputs": [
    {
     "name": "stdout",
     "output_type": "stream",
     "text": [
      "Hi Ted, it's great to see you!\n",
      "Hi Robyn, it's great to see you!\n",
      "Hi Barney, it's great to see you!\n",
      "Hi Lily, it's great to see you!\n",
      "Hi Marshall, it's great to see you!\n"
     ]
    }
   ],
   "source": [
    "myfriends = [\"Ted\", \"Robyn\", \"Barney\", \"Lily\", \"Marshall\"]\n",
    "\n",
    "i = 1\n",
    "while i <= length(myfriends)\n",
    "    friend = myfriends[i]\n",
    "    println(\"Hi $friend, it's great to see you!\")\n",
    "    i += 1\n",
    "end"
   ]
  },
  {
   "cell_type": "code",
   "execution_count": 46,
   "id": "80551163",
   "metadata": {},
   "outputs": [
    {
     "name": "stdout",
     "output_type": "stream",
     "text": [
      "1\n",
      "2\n",
      "3\n",
      "4\n",
      "5\n",
      "6\n",
      "7\n",
      "8\n",
      "9\n",
      "10\n"
     ]
    }
   ],
   "source": [
    "for n in 1:10\n",
    "    println(n)\n",
    "end"
   ]
  },
  {
   "cell_type": "code",
   "execution_count": 47,
   "id": "78c20cef",
   "metadata": {},
   "outputs": [
    {
     "name": "stdout",
     "output_type": "stream",
     "text": [
      "Hi Ted, it's great to see you!\n",
      "Hi Robyn, it's great to see you!\n",
      "Hi Barney, it's great to see you!\n",
      "Hi Lily, it's great to see you!\n",
      "Hi Marshall, it's great to see you!\n"
     ]
    }
   ],
   "source": [
    "myfriends = [\"Ted\", \"Robyn\", \"Barney\", \"Lily\", \"Marshall\"]\n",
    "\n",
    "for friend in myfriends\n",
    "    println(\"Hi $friend, it's great to see you!\")\n",
    "end"
   ]
  },
  {
   "cell_type": "code",
   "execution_count": 48,
   "id": "a6c9b51c",
   "metadata": {},
   "outputs": [
    {
     "data": {
      "text/plain": [
       "5×5 Matrix{Int64}:\n",
       " 0  0  0  0  0\n",
       " 0  0  0  0  0\n",
       " 0  0  0  0  0\n",
       " 0  0  0  0  0\n",
       " 0  0  0  0  0"
      ]
     },
     "execution_count": 48,
     "metadata": {},
     "output_type": "execute_result"
    }
   ],
   "source": [
    "m, n = 5, 5\n",
    "A = fill(0, (m, n))"
   ]
  },
  {
   "cell_type": "code",
   "execution_count": 49,
   "id": "151900af",
   "metadata": {},
   "outputs": [],
   "source": [
    "for j in 1:n\n",
    "    for i in 1:m\n",
    "        A[i, j] = i + j\n",
    "    end\n",
    "end"
   ]
  },
  {
   "cell_type": "code",
   "execution_count": 50,
   "id": "8b9ba7a6",
   "metadata": {},
   "outputs": [
    {
     "data": {
      "text/plain": [
       "5×5 Matrix{Int64}:\n",
       " 2  3  4  5   6\n",
       " 3  4  5  6   7\n",
       " 4  5  6  7   8\n",
       " 5  6  7  8   9\n",
       " 6  7  8  9  10"
      ]
     },
     "execution_count": 50,
     "metadata": {},
     "output_type": "execute_result"
    }
   ],
   "source": [
    "A"
   ]
  },
  {
   "cell_type": "markdown",
   "id": "79444cb4",
   "metadata": {},
   "source": [
    "# Plots"
   ]
  },
  {
   "cell_type": "code",
   "execution_count": 102,
   "id": "309a2d5d",
   "metadata": {},
   "outputs": [],
   "source": [
    "using Pkg\n",
    "Pkg.add(\"Plots\")"
   ]
  },
  {
   "cell_type": "code",
   "execution_count": 51,
   "id": "66e3456d",
   "metadata": {},
   "outputs": [],
   "source": [
    "using Plots"
   ]
  },
  {
   "cell_type": "code",
   "execution_count": 52,
   "id": "c530d935",
   "metadata": {},
   "outputs": [],
   "source": [
    "globaltemperatures = [14.4, 14.5, 14.8, 15.2, 15.5, 15.8];\n",
    "num_pirates = [45000, 20000, 15000, 5000, 400, 17];"
   ]
  },
  {
   "cell_type": "code",
   "execution_count": 56,
   "id": "f82a70d5",
   "metadata": {},
   "outputs": [
    {
     "data": {
      "image/svg+xml": [
       "<?xml version=\"1.0\" encoding=\"utf-8\"?>\n",
       "<svg xmlns=\"http://www.w3.org/2000/svg\" xmlns:xlink=\"http://www.w3.org/1999/xlink\" width=\"600\" height=\"400\" viewBox=\"0 0 2400 1600\">\n",
       "<defs>\n",
       "  <clipPath id=\"clip760\">\n",
       "    <rect x=\"0\" y=\"0\" width=\"2400\" height=\"1600\"/>\n",
       "  </clipPath>\n",
       "</defs>\n",
       "<path clip-path=\"url(#clip760)\" d=\"\n",
       "M0 1600 L2400 1600 L2400 0 L0 0  Z\n",
       "  \" fill=\"#ffffff\" fill-rule=\"evenodd\" fill-opacity=\"1\"/>\n",
       "<defs>\n",
       "  <clipPath id=\"clip761\">\n",
       "    <rect x=\"480\" y=\"0\" width=\"1681\" height=\"1600\"/>\n",
       "  </clipPath>\n",
       "</defs>\n",
       "<path clip-path=\"url(#clip760)\" d=\"\n",
       "M277.621 1410.9 L2352.76 1410.9 L2352.76 123.472 L277.621 123.472  Z\n",
       "  \" fill=\"#ffffff\" fill-rule=\"evenodd\" fill-opacity=\"1\"/>\n",
       "<defs>\n",
       "  <clipPath id=\"clip762\">\n",
       "    <rect x=\"277\" y=\"123\" width=\"2076\" height=\"1288\"/>\n",
       "  </clipPath>\n",
       "</defs>\n",
       "<polyline clip-path=\"url(#clip762)\" style=\"stroke:#000000; stroke-linecap:butt; stroke-linejoin:round; stroke-width:2; stroke-opacity:0.1; fill:none\" points=\"\n",
       "  2294.77,1410.9 2294.77,123.472 \n",
       "  \"/>\n",
       "<polyline clip-path=\"url(#clip762)\" style=\"stroke:#000000; stroke-linecap:butt; stroke-linejoin:round; stroke-width:2; stroke-opacity:0.1; fill:none\" points=\"\n",
       "  1859.56,1410.9 1859.56,123.472 \n",
       "  \"/>\n",
       "<polyline clip-path=\"url(#clip762)\" style=\"stroke:#000000; stroke-linecap:butt; stroke-linejoin:round; stroke-width:2; stroke-opacity:0.1; fill:none\" points=\"\n",
       "  1424.36,1410.9 1424.36,123.472 \n",
       "  \"/>\n",
       "<polyline clip-path=\"url(#clip762)\" style=\"stroke:#000000; stroke-linecap:butt; stroke-linejoin:round; stroke-width:2; stroke-opacity:0.1; fill:none\" points=\"\n",
       "  989.156,1410.9 989.156,123.472 \n",
       "  \"/>\n",
       "<polyline clip-path=\"url(#clip762)\" style=\"stroke:#000000; stroke-linecap:butt; stroke-linejoin:round; stroke-width:2; stroke-opacity:0.1; fill:none\" points=\"\n",
       "  553.952,1410.9 553.952,123.472 \n",
       "  \"/>\n",
       "<polyline clip-path=\"url(#clip760)\" style=\"stroke:#000000; stroke-linecap:butt; stroke-linejoin:round; stroke-width:4; stroke-opacity:1; fill:none\" points=\"\n",
       "  2352.76,1410.9 277.621,1410.9 \n",
       "  \"/>\n",
       "<polyline clip-path=\"url(#clip760)\" style=\"stroke:#000000; stroke-linecap:butt; stroke-linejoin:round; stroke-width:4; stroke-opacity:1; fill:none\" points=\"\n",
       "  2294.77,1410.9 2294.77,1392 \n",
       "  \"/>\n",
       "<polyline clip-path=\"url(#clip760)\" style=\"stroke:#000000; stroke-linecap:butt; stroke-linejoin:round; stroke-width:4; stroke-opacity:1; fill:none\" points=\"\n",
       "  1859.56,1410.9 1859.56,1392 \n",
       "  \"/>\n",
       "<polyline clip-path=\"url(#clip760)\" style=\"stroke:#000000; stroke-linecap:butt; stroke-linejoin:round; stroke-width:4; stroke-opacity:1; fill:none\" points=\"\n",
       "  1424.36,1410.9 1424.36,1392 \n",
       "  \"/>\n",
       "<polyline clip-path=\"url(#clip760)\" style=\"stroke:#000000; stroke-linecap:butt; stroke-linejoin:round; stroke-width:4; stroke-opacity:1; fill:none\" points=\"\n",
       "  989.156,1410.9 989.156,1392 \n",
       "  \"/>\n",
       "<polyline clip-path=\"url(#clip760)\" style=\"stroke:#000000; stroke-linecap:butt; stroke-linejoin:round; stroke-width:4; stroke-opacity:1; fill:none\" points=\"\n",
       "  553.952,1410.9 553.952,1392 \n",
       "  \"/>\n",
       "<path clip-path=\"url(#clip760)\" d=\"M2294.77 1441.82 Q2291.15 1441.82 2289.33 1445.38 Q2287.52 1448.92 2287.52 1456.05 Q2287.52 1463.16 2289.33 1466.72 Q2291.15 1470.26 2294.77 1470.26 Q2298.4 1470.26 2300.21 1466.72 Q2302.03 1463.16 2302.03 1456.05 Q2302.03 1448.92 2300.21 1445.38 Q2298.4 1441.82 2294.77 1441.82 M2294.77 1438.11 Q2300.58 1438.11 2303.63 1442.72 Q2306.71 1447.3 2306.71 1456.05 Q2306.71 1464.78 2303.63 1469.38 Q2300.58 1473.97 2294.77 1473.97 Q2288.96 1473.97 2285.88 1469.38 Q2282.82 1464.78 2282.82 1456.05 Q2282.82 1447.3 2285.88 1442.72 Q2288.96 1438.11 2294.77 1438.11 Z\" fill=\"#000000\" fill-rule=\"evenodd\" fill-opacity=\"1\" /><path clip-path=\"url(#clip760)\" d=\"M1766.46 1485.02 L1774.1 1485.02 L1774.1 1458.66 L1765.79 1460.32 L1765.79 1456.06 L1774.05 1454.4 L1778.73 1454.4 L1778.73 1485.02 L1786.37 1485.02 L1786.37 1488.96 L1766.46 1488.96 L1766.46 1485.02 Z\" fill=\"#000000\" fill-rule=\"evenodd\" fill-opacity=\"1\" /><path clip-path=\"url(#clip760)\" d=\"M1795.81 1483.08 L1800.7 1483.08 L1800.7 1488.96 L1795.81 1488.96 L1795.81 1483.08 Z\" fill=\"#000000\" fill-rule=\"evenodd\" fill-opacity=\"1\" /><path clip-path=\"url(#clip760)\" d=\"M1820.88 1457.48 Q1817.27 1457.48 1815.44 1461.04 Q1813.64 1464.58 1813.64 1471.71 Q1813.64 1478.82 1815.44 1482.38 Q1817.27 1485.92 1820.88 1485.92 Q1824.52 1485.92 1826.32 1482.38 Q1828.15 1478.82 1828.15 1471.71 Q1828.15 1464.58 1826.32 1461.04 Q1824.52 1457.48 1820.88 1457.48 M1820.88 1453.77 Q1826.69 1453.77 1829.75 1458.38 Q1832.83 1462.96 1832.83 1471.71 Q1832.83 1480.44 1829.75 1485.04 Q1826.69 1489.63 1820.88 1489.63 Q1815.07 1489.63 1811.99 1485.04 Q1808.94 1480.44 1808.94 1471.71 Q1808.94 1462.96 1811.99 1458.38 Q1815.07 1453.77 1820.88 1453.77 Z\" fill=\"#000000\" fill-rule=\"evenodd\" fill-opacity=\"1\" /><path clip-path=\"url(#clip760)\" d=\"M1869.21 1463.49 L1858.64 1474.12 L1869.21 1484.7 L1866.46 1487.5 L1855.84 1476.87 L1845.21 1487.5 L1842.48 1484.7 L1853.03 1474.12 L1842.48 1463.49 L1845.21 1460.69 L1855.84 1471.32 L1866.46 1460.69 L1869.21 1463.49 Z\" fill=\"#000000\" fill-rule=\"evenodd\" fill-opacity=\"1\" /><path clip-path=\"url(#clip760)\" d=\"M1881.58 1485.02 L1889.21 1485.02 L1889.21 1458.66 L1880.9 1460.32 L1880.9 1456.06 L1889.17 1454.4 L1893.84 1454.4 L1893.84 1485.02 L1901.48 1485.02 L1901.48 1488.96 L1881.58 1488.96 L1881.58 1485.02 Z\" fill=\"#000000\" fill-rule=\"evenodd\" fill-opacity=\"1\" /><path clip-path=\"url(#clip760)\" d=\"M1920.93 1457.48 Q1917.32 1457.48 1915.49 1461.04 Q1913.68 1464.58 1913.68 1471.71 Q1913.68 1478.82 1915.49 1482.38 Q1917.32 1485.92 1920.93 1485.92 Q1924.56 1485.92 1926.37 1482.38 Q1928.2 1478.82 1928.2 1471.71 Q1928.2 1464.58 1926.37 1461.04 Q1924.56 1457.48 1920.93 1457.48 M1920.93 1453.77 Q1926.74 1453.77 1929.79 1458.38 Q1932.87 1462.96 1932.87 1471.71 Q1932.87 1480.44 1929.79 1485.04 Q1926.74 1489.63 1920.93 1489.63 Q1915.12 1489.63 1912.04 1485.04 Q1908.98 1480.44 1908.98 1471.71 Q1908.98 1462.96 1912.04 1458.38 Q1915.12 1453.77 1920.93 1453.77 Z\" fill=\"#000000\" fill-rule=\"evenodd\" fill-opacity=\"1\" /><path clip-path=\"url(#clip760)\" d=\"M1945.55 1436.78 L1935.96 1451.77 L1945.55 1451.77 L1945.55 1436.78 M1944.55 1433.47 L1949.33 1433.47 L1949.33 1451.77 L1953.33 1451.77 L1953.33 1454.93 L1949.33 1454.93 L1949.33 1461.55 L1945.55 1461.55 L1945.55 1454.93 L1932.87 1454.93 L1932.87 1451.26 L1944.55 1433.47 Z\" fill=\"#000000\" fill-rule=\"evenodd\" fill-opacity=\"1\" /><path clip-path=\"url(#clip760)\" d=\"M1335.34 1485.02 L1351.66 1485.02 L1351.66 1488.96 L1329.72 1488.96 L1329.72 1485.02 Q1332.38 1482.27 1336.96 1477.64 Q1341.57 1472.98 1342.75 1471.64 Q1345 1469.12 1345.88 1467.38 Q1346.78 1465.62 1346.78 1463.93 Q1346.78 1461.18 1344.83 1459.44 Q1342.91 1457.71 1339.81 1457.71 Q1337.61 1457.71 1335.16 1458.47 Q1332.73 1459.23 1329.95 1460.79 L1329.95 1456.06 Q1332.77 1454.93 1335.23 1454.35 Q1337.68 1453.77 1339.72 1453.77 Q1345.09 1453.77 1348.28 1456.46 Q1351.48 1459.14 1351.48 1463.63 Q1351.48 1465.76 1350.67 1467.68 Q1349.88 1469.58 1347.77 1472.17 Q1347.2 1472.85 1344.09 1476.06 Q1340.99 1479.26 1335.34 1485.02 Z\" fill=\"#000000\" fill-rule=\"evenodd\" fill-opacity=\"1\" /><path clip-path=\"url(#clip760)\" d=\"M1361.48 1483.08 L1366.36 1483.08 L1366.36 1488.96 L1361.48 1488.96 L1361.48 1483.08 Z\" fill=\"#000000\" fill-rule=\"evenodd\" fill-opacity=\"1\" /><path clip-path=\"url(#clip760)\" d=\"M1386.55 1457.48 Q1382.94 1457.48 1381.11 1461.04 Q1379.3 1464.58 1379.3 1471.71 Q1379.3 1478.82 1381.11 1482.38 Q1382.94 1485.92 1386.55 1485.92 Q1390.18 1485.92 1391.99 1482.38 Q1393.82 1478.82 1393.82 1471.71 Q1393.82 1464.58 1391.99 1461.04 Q1390.18 1457.48 1386.55 1457.48 M1386.55 1453.77 Q1392.36 1453.77 1395.41 1458.38 Q1398.49 1462.96 1398.49 1471.71 Q1398.49 1480.44 1395.41 1485.04 Q1392.36 1489.63 1386.55 1489.63 Q1380.74 1489.63 1377.66 1485.04 Q1374.6 1480.44 1374.6 1471.71 Q1374.6 1462.96 1377.66 1458.38 Q1380.74 1453.77 1386.55 1453.77 Z\" fill=\"#000000\" fill-rule=\"evenodd\" fill-opacity=\"1\" /><path clip-path=\"url(#clip760)\" d=\"M1434.88 1463.49 L1424.3 1474.12 L1434.88 1484.7 L1432.13 1487.5 L1421.5 1476.87 L1410.88 1487.5 L1408.14 1484.7 L1418.7 1474.12 L1408.14 1463.49 L1410.88 1460.69 L1421.5 1471.32 L1432.13 1460.69 L1434.88 1463.49 Z\" fill=\"#000000\" fill-rule=\"evenodd\" fill-opacity=\"1\" /><path clip-path=\"url(#clip760)\" d=\"M1447.24 1485.02 L1454.88 1485.02 L1454.88 1458.66 L1446.57 1460.32 L1446.57 1456.06 L1454.83 1454.4 L1459.51 1454.4 L1459.51 1485.02 L1467.15 1485.02 L1467.15 1488.96 L1447.24 1488.96 L1447.24 1485.02 Z\" fill=\"#000000\" fill-rule=\"evenodd\" fill-opacity=\"1\" /><path clip-path=\"url(#clip760)\" d=\"M1486.59 1457.48 Q1482.98 1457.48 1481.15 1461.04 Q1479.35 1464.58 1479.35 1471.71 Q1479.35 1478.82 1481.15 1482.38 Q1482.98 1485.92 1486.59 1485.92 Q1490.23 1485.92 1492.03 1482.38 Q1493.86 1478.82 1493.86 1471.71 Q1493.86 1464.58 1492.03 1461.04 Q1490.23 1457.48 1486.59 1457.48 M1486.59 1453.77 Q1492.4 1453.77 1495.46 1458.38 Q1498.54 1462.96 1498.54 1471.71 Q1498.54 1480.44 1495.46 1485.04 Q1492.4 1489.63 1486.59 1489.63 Q1480.78 1489.63 1477.7 1485.04 Q1474.65 1480.44 1474.65 1471.71 Q1474.65 1462.96 1477.7 1458.38 Q1480.78 1453.77 1486.59 1453.77 Z\" fill=\"#000000\" fill-rule=\"evenodd\" fill-opacity=\"1\" /><path clip-path=\"url(#clip760)\" d=\"M1511.21 1436.78 L1501.62 1451.77 L1511.21 1451.77 L1511.21 1436.78 M1510.22 1433.47 L1514.99 1433.47 L1514.99 1451.77 L1519 1451.77 L1519 1454.93 L1514.99 1454.93 L1514.99 1461.55 L1511.21 1461.55 L1511.21 1454.93 L1498.54 1454.93 L1498.54 1451.26 L1510.22 1433.47 Z\" fill=\"#000000\" fill-rule=\"evenodd\" fill-opacity=\"1\" /><path clip-path=\"url(#clip760)\" d=\"M910.209 1470.32 Q913.566 1471.04 915.441 1473.31 Q917.339 1475.58 917.339 1478.91 Q917.339 1484.03 913.82 1486.83 Q910.302 1489.63 903.821 1489.63 Q901.645 1489.63 899.33 1489.19 Q897.038 1488.77 894.584 1487.91 L894.584 1483.4 Q896.529 1484.54 898.844 1485.11 Q901.159 1485.69 903.682 1485.69 Q908.08 1485.69 910.371 1483.96 Q912.686 1482.22 912.686 1478.91 Q912.686 1475.85 910.533 1474.14 Q908.404 1472.41 904.584 1472.41 L900.557 1472.41 L900.557 1468.56 L904.77 1468.56 Q908.219 1468.56 910.047 1467.2 Q911.876 1465.81 911.876 1463.22 Q911.876 1460.55 909.978 1459.14 Q908.103 1457.71 904.584 1457.71 Q902.663 1457.71 900.464 1458.12 Q898.265 1458.54 895.626 1459.42 L895.626 1455.25 Q898.288 1454.51 900.603 1454.14 Q902.941 1453.77 905.001 1453.77 Q910.325 1453.77 913.427 1456.2 Q916.529 1458.61 916.529 1462.73 Q916.529 1465.6 914.885 1467.59 Q913.242 1469.56 910.209 1470.32 Z\" fill=\"#000000\" fill-rule=\"evenodd\" fill-opacity=\"1\" /><path clip-path=\"url(#clip760)\" d=\"M926.205 1483.08 L931.089 1483.08 L931.089 1488.96 L926.205 1488.96 L926.205 1483.08 Z\" fill=\"#000000\" fill-rule=\"evenodd\" fill-opacity=\"1\" /><path clip-path=\"url(#clip760)\" d=\"M951.274 1457.48 Q947.663 1457.48 945.834 1461.04 Q944.029 1464.58 944.029 1471.71 Q944.029 1478.82 945.834 1482.38 Q947.663 1485.92 951.274 1485.92 Q954.908 1485.92 956.714 1482.38 Q958.542 1478.82 958.542 1471.71 Q958.542 1464.58 956.714 1461.04 Q954.908 1457.48 951.274 1457.48 M951.274 1453.77 Q957.084 1453.77 960.14 1458.38 Q963.218 1462.96 963.218 1471.71 Q963.218 1480.44 960.14 1485.04 Q957.084 1489.63 951.274 1489.63 Q945.464 1489.63 942.385 1485.04 Q939.33 1480.44 939.33 1471.71 Q939.33 1462.96 942.385 1458.38 Q945.464 1453.77 951.274 1453.77 Z\" fill=\"#000000\" fill-rule=\"evenodd\" fill-opacity=\"1\" /><path clip-path=\"url(#clip760)\" d=\"M999.607 1463.49 L989.028 1474.12 L999.607 1484.7 L996.852 1487.5 L986.227 1476.87 L975.603 1487.5 L972.871 1484.7 L983.427 1474.12 L972.871 1463.49 L975.603 1460.69 L986.227 1471.32 L996.852 1460.69 L999.607 1463.49 Z\" fill=\"#000000\" fill-rule=\"evenodd\" fill-opacity=\"1\" /><path clip-path=\"url(#clip760)\" d=\"M1011.97 1485.02 L1019.61 1485.02 L1019.61 1458.66 L1011.3 1460.32 L1011.3 1456.06 L1019.56 1454.4 L1024.24 1454.4 L1024.24 1485.02 L1031.88 1485.02 L1031.88 1488.96 L1011.97 1488.96 L1011.97 1485.02 Z\" fill=\"#000000\" fill-rule=\"evenodd\" fill-opacity=\"1\" /><path clip-path=\"url(#clip760)\" d=\"M1051.32 1457.48 Q1047.71 1457.48 1045.88 1461.04 Q1044.07 1464.58 1044.07 1471.71 Q1044.07 1478.82 1045.88 1482.38 Q1047.71 1485.92 1051.32 1485.92 Q1054.95 1485.92 1056.76 1482.38 Q1058.59 1478.82 1058.59 1471.71 Q1058.59 1464.58 1056.76 1461.04 Q1054.95 1457.48 1051.32 1457.48 M1051.32 1453.77 Q1057.13 1453.77 1060.19 1458.38 Q1063.26 1462.96 1063.26 1471.71 Q1063.26 1480.44 1060.19 1485.04 Q1057.13 1489.63 1051.32 1489.63 Q1045.51 1489.63 1042.43 1485.04 Q1039.38 1480.44 1039.38 1471.71 Q1039.38 1462.96 1042.43 1458.38 Q1045.51 1453.77 1051.32 1453.77 Z\" fill=\"#000000\" fill-rule=\"evenodd\" fill-opacity=\"1\" /><path clip-path=\"url(#clip760)\" d=\"M1075.94 1436.78 L1066.35 1451.77 L1075.94 1451.77 L1075.94 1436.78 M1074.94 1433.47 L1079.72 1433.47 L1079.72 1451.77 L1083.73 1451.77 L1083.73 1454.93 L1079.72 1454.93 L1079.72 1461.55 L1075.94 1461.55 L1075.94 1454.93 L1063.26 1454.93 L1063.26 1451.26 L1074.94 1433.47 Z\" fill=\"#000000\" fill-rule=\"evenodd\" fill-opacity=\"1\" /><path clip-path=\"url(#clip760)\" d=\"M474.335 1458.47 L462.529 1476.92 L474.335 1476.92 L474.335 1458.47 M473.108 1454.4 L478.988 1454.4 L478.988 1476.92 L483.918 1476.92 L483.918 1480.81 L478.988 1480.81 L478.988 1488.96 L474.335 1488.96 L474.335 1480.81 L458.733 1480.81 L458.733 1476.29 L473.108 1454.4 Z\" fill=\"#000000\" fill-rule=\"evenodd\" fill-opacity=\"1\" /><path clip-path=\"url(#clip760)\" d=\"M491.65 1483.08 L496.534 1483.08 L496.534 1488.96 L491.65 1488.96 L491.65 1483.08 Z\" fill=\"#000000\" fill-rule=\"evenodd\" fill-opacity=\"1\" /><path clip-path=\"url(#clip760)\" d=\"M516.719 1457.48 Q513.108 1457.48 511.279 1461.04 Q509.474 1464.58 509.474 1471.71 Q509.474 1478.82 511.279 1482.38 Q513.108 1485.92 516.719 1485.92 Q520.353 1485.92 522.159 1482.38 Q523.987 1478.82 523.987 1471.71 Q523.987 1464.58 522.159 1461.04 Q520.353 1457.48 516.719 1457.48 M516.719 1453.77 Q522.529 1453.77 525.585 1458.38 Q528.663 1462.96 528.663 1471.71 Q528.663 1480.44 525.585 1485.04 Q522.529 1489.63 516.719 1489.63 Q510.909 1489.63 507.83 1485.04 Q504.774 1480.44 504.774 1471.71 Q504.774 1462.96 507.83 1458.38 Q510.909 1453.77 516.719 1453.77 Z\" fill=\"#000000\" fill-rule=\"evenodd\" fill-opacity=\"1\" /><path clip-path=\"url(#clip760)\" d=\"M565.052 1463.49 L554.473 1474.12 L565.052 1484.7 L562.297 1487.5 L551.672 1476.87 L541.047 1487.5 L538.316 1484.7 L548.871 1474.12 L538.316 1463.49 L541.047 1460.69 L551.672 1471.32 L562.297 1460.69 L565.052 1463.49 Z\" fill=\"#000000\" fill-rule=\"evenodd\" fill-opacity=\"1\" /><path clip-path=\"url(#clip760)\" d=\"M577.413 1485.02 L585.052 1485.02 L585.052 1458.66 L576.742 1460.32 L576.742 1456.06 L585.006 1454.4 L589.681 1454.4 L589.681 1485.02 L597.32 1485.02 L597.32 1488.96 L577.413 1488.96 L577.413 1485.02 Z\" fill=\"#000000\" fill-rule=\"evenodd\" fill-opacity=\"1\" /><path clip-path=\"url(#clip760)\" d=\"M616.765 1457.48 Q613.154 1457.48 611.325 1461.04 Q609.519 1464.58 609.519 1471.71 Q609.519 1478.82 611.325 1482.38 Q613.154 1485.92 616.765 1485.92 Q620.399 1485.92 622.204 1482.38 Q624.033 1478.82 624.033 1471.71 Q624.033 1464.58 622.204 1461.04 Q620.399 1457.48 616.765 1457.48 M616.765 1453.77 Q622.575 1453.77 625.63 1458.38 Q628.709 1462.96 628.709 1471.71 Q628.709 1480.44 625.63 1485.04 Q622.575 1489.63 616.765 1489.63 Q610.954 1489.63 607.876 1485.04 Q604.82 1480.44 604.82 1471.71 Q604.82 1462.96 607.876 1458.38 Q610.954 1453.77 616.765 1453.77 Z\" fill=\"#000000\" fill-rule=\"evenodd\" fill-opacity=\"1\" /><path clip-path=\"url(#clip760)\" d=\"M641.385 1436.78 L631.793 1451.77 L641.385 1451.77 L641.385 1436.78 M640.389 1433.47 L645.166 1433.47 L645.166 1451.77 L649.172 1451.77 L649.172 1454.93 L645.166 1454.93 L645.166 1461.55 L641.385 1461.55 L641.385 1454.93 L628.709 1454.93 L628.709 1451.26 L640.389 1433.47 Z\" fill=\"#000000\" fill-rule=\"evenodd\" fill-opacity=\"1\" /><path clip-path=\"url(#clip760)\" d=\"M782.967 1526.67 L791.625 1526.67 L812.695 1566.42 L812.695 1526.67 L818.934 1526.67 L818.934 1574.19 L810.276 1574.19 L789.206 1534.43 L789.206 1574.19 L782.967 1574.19 L782.967 1526.67 Z\" fill=\"#000000\" fill-rule=\"evenodd\" fill-opacity=\"1\" /><path clip-path=\"url(#clip760)\" d=\"M830.869 1560.12 L830.869 1538.54 L836.726 1538.54 L836.726 1559.89 Q836.726 1564.96 838.699 1567.5 Q840.673 1570.02 844.619 1570.02 Q849.362 1570.02 852.099 1566.99 Q854.868 1563.97 854.868 1558.75 L854.868 1538.54 L860.725 1538.54 L860.725 1574.19 L854.868 1574.19 L854.868 1568.71 Q852.736 1571.96 849.903 1573.55 Q847.102 1575.11 843.378 1575.11 Q837.235 1575.11 834.052 1571.29 Q830.869 1567.47 830.869 1560.12 M845.606 1537.68 L845.606 1537.68 Z\" fill=\"#000000\" fill-rule=\"evenodd\" fill-opacity=\"1\" /><path clip-path=\"url(#clip760)\" d=\"M900.542 1545.38 Q902.738 1541.43 905.794 1539.56 Q908.849 1537.68 912.987 1537.68 Q918.557 1537.68 921.581 1541.59 Q924.604 1545.48 924.604 1552.67 L924.604 1574.19 L918.716 1574.19 L918.716 1552.86 Q918.716 1547.74 916.902 1545.25 Q915.088 1542.77 911.364 1542.77 Q906.812 1542.77 904.17 1545.79 Q901.529 1548.82 901.529 1554.04 L901.529 1574.19 L895.64 1574.19 L895.64 1552.86 Q895.64 1547.7 893.826 1545.25 Q892.012 1542.77 888.224 1542.77 Q883.737 1542.77 881.095 1545.83 Q878.453 1548.85 878.453 1554.04 L878.453 1574.19 L872.565 1574.19 L872.565 1538.54 L878.453 1538.54 L878.453 1544.08 Q880.458 1540.8 883.259 1539.24 Q886.06 1537.68 889.911 1537.68 Q893.794 1537.68 896.5 1539.65 Q899.237 1541.62 900.542 1545.38 Z\" fill=\"#000000\" fill-rule=\"evenodd\" fill-opacity=\"1\" /><path clip-path=\"url(#clip760)\" d=\"M961.876 1556.39 Q961.876 1549.93 959.202 1546.27 Q956.56 1542.58 951.913 1542.58 Q947.266 1542.58 944.593 1546.27 Q941.951 1549.93 941.951 1556.39 Q941.951 1562.85 944.593 1566.55 Q947.266 1570.21 951.913 1570.21 Q956.56 1570.21 959.202 1566.55 Q961.876 1562.85 961.876 1556.39 M941.951 1543.95 Q943.797 1540.77 946.598 1539.24 Q949.431 1537.68 953.346 1537.68 Q959.839 1537.68 963.881 1542.83 Q967.955 1547.99 967.955 1556.39 Q967.955 1564.8 963.881 1569.95 Q959.839 1575.11 953.346 1575.11 Q949.431 1575.11 946.598 1573.58 Q943.797 1572.02 941.951 1568.84 L941.951 1574.19 L936.063 1574.19 L936.063 1524.66 L941.951 1524.66 L941.951 1543.95 Z\" fill=\"#000000\" fill-rule=\"evenodd\" fill-opacity=\"1\" /><path clip-path=\"url(#clip760)\" d=\"M1008.15 1554.9 L1008.15 1557.76 L981.227 1557.76 Q981.609 1563.81 984.856 1566.99 Q988.134 1570.14 993.959 1570.14 Q997.333 1570.14 1000.48 1569.32 Q1003.67 1568.49 1006.79 1566.83 L1006.79 1572.37 Q1003.63 1573.71 1000.32 1574.41 Q997.014 1575.11 993.609 1575.11 Q985.079 1575.11 980.082 1570.14 Q975.116 1565.18 975.116 1556.71 Q975.116 1547.96 979.827 1542.83 Q984.569 1537.68 992.59 1537.68 Q999.783 1537.68 1003.95 1542.33 Q1008.15 1546.94 1008.15 1554.9 M1002.3 1553.18 Q1002.23 1548.37 999.592 1545.51 Q996.982 1542.64 992.654 1542.64 Q987.752 1542.64 984.792 1545.41 Q981.864 1548.18 981.418 1553.21 L1002.3 1553.18 Z\" fill=\"#000000\" fill-rule=\"evenodd\" fill-opacity=\"1\" /><path clip-path=\"url(#clip760)\" d=\"M1038.42 1544.01 Q1037.44 1543.44 1036.26 1543.18 Q1035.11 1542.9 1033.71 1542.9 Q1028.75 1542.9 1026.07 1546.14 Q1023.43 1549.36 1023.43 1555.41 L1023.43 1574.19 L1017.54 1574.19 L1017.54 1538.54 L1023.43 1538.54 L1023.43 1544.08 Q1025.28 1540.83 1028.24 1539.27 Q1031.2 1537.68 1035.43 1537.68 Q1036.04 1537.68 1036.77 1537.77 Q1037.5 1537.84 1038.39 1538 L1038.42 1544.01 Z\" fill=\"#000000\" fill-rule=\"evenodd\" fill-opacity=\"1\" /><path clip-path=\"url(#clip760)\" d=\"M1079.1 1542.64 Q1074.39 1542.64 1071.65 1546.34 Q1068.91 1550 1068.91 1556.39 Q1068.91 1562.79 1071.62 1566.48 Q1074.36 1570.14 1079.1 1570.14 Q1083.78 1570.14 1086.52 1566.45 Q1089.25 1562.76 1089.25 1556.39 Q1089.25 1550.06 1086.52 1546.37 Q1083.78 1542.64 1079.1 1542.64 M1079.1 1537.68 Q1086.74 1537.68 1091.1 1542.64 Q1095.46 1547.61 1095.46 1556.39 Q1095.46 1565.15 1091.1 1570.14 Q1086.74 1575.11 1079.1 1575.11 Q1071.43 1575.11 1067.07 1570.14 Q1062.74 1565.15 1062.74 1556.39 Q1062.74 1547.61 1067.07 1542.64 Q1071.43 1537.68 1079.1 1537.68 Z\" fill=\"#000000\" fill-rule=\"evenodd\" fill-opacity=\"1\" /><path clip-path=\"url(#clip760)\" d=\"M1123.21 1524.66 L1123.21 1529.53 L1117.61 1529.53 Q1114.46 1529.53 1113.22 1530.8 Q1112.01 1532.08 1112.01 1535.39 L1112.01 1538.54 L1121.65 1538.54 L1121.65 1543.09 L1112.01 1543.09 L1112.01 1574.19 L1106.12 1574.19 L1106.12 1543.09 L1100.52 1543.09 L1100.52 1538.54 L1106.12 1538.54 L1106.12 1536.05 Q1106.12 1530.1 1108.89 1527.4 Q1111.66 1524.66 1117.68 1524.66 L1123.21 1524.66 Z\" fill=\"#000000\" fill-rule=\"evenodd\" fill-opacity=\"1\" /><path clip-path=\"url(#clip760)\" d=\"M1155.52 1531.95 L1155.52 1549.8 L1163.6 1549.8 Q1168.09 1549.8 1170.54 1547.48 Q1172.99 1545.16 1172.99 1540.86 Q1172.99 1536.6 1170.54 1534.27 Q1168.09 1531.95 1163.6 1531.95 L1155.52 1531.95 M1149.09 1526.67 L1163.6 1526.67 Q1171.59 1526.67 1175.67 1530.29 Q1179.77 1533.89 1179.77 1540.86 Q1179.77 1547.9 1175.67 1551.49 Q1171.59 1555.09 1163.6 1555.09 L1155.52 1555.09 L1155.52 1574.19 L1149.09 1574.19 L1149.09 1526.67 Z\" fill=\"#000000\" fill-rule=\"evenodd\" fill-opacity=\"1\" /><path clip-path=\"url(#clip760)\" d=\"M1186.71 1538.54 L1192.57 1538.54 L1192.57 1574.19 L1186.71 1574.19 L1186.71 1538.54 M1186.71 1524.66 L1192.57 1524.66 L1192.57 1532.08 L1186.71 1532.08 L1186.71 1524.66 Z\" fill=\"#000000\" fill-rule=\"evenodd\" fill-opacity=\"1\" /><path clip-path=\"url(#clip760)\" d=\"M1225.48 1544.01 Q1224.49 1543.44 1223.32 1543.18 Q1222.17 1542.9 1220.77 1542.9 Q1215.8 1542.9 1213.13 1546.14 Q1210.49 1549.36 1210.49 1555.41 L1210.49 1574.19 L1204.6 1574.19 L1204.6 1538.54 L1210.49 1538.54 L1210.49 1544.08 Q1212.33 1540.83 1215.29 1539.27 Q1218.25 1537.68 1222.49 1537.68 Q1223.09 1537.68 1223.82 1537.77 Q1224.56 1537.84 1225.45 1538 L1225.48 1544.01 Z\" fill=\"#000000\" fill-rule=\"evenodd\" fill-opacity=\"1\" /><path clip-path=\"url(#clip760)\" d=\"M1247.82 1556.27 Q1240.73 1556.27 1237.99 1557.89 Q1235.25 1559.51 1235.25 1563.43 Q1235.25 1566.55 1237.29 1568.39 Q1239.36 1570.21 1242.89 1570.21 Q1247.76 1570.21 1250.69 1566.77 Q1253.65 1563.3 1253.65 1557.57 L1253.65 1556.27 L1247.82 1556.27 M1259.5 1553.85 L1259.5 1574.19 L1253.65 1574.19 L1253.65 1568.77 Q1251.64 1572.02 1248.65 1573.58 Q1245.66 1575.11 1241.33 1575.11 Q1235.86 1575.11 1232.61 1572.05 Q1229.39 1568.97 1229.39 1563.81 Q1229.39 1557.79 1233.4 1554.74 Q1237.45 1551.68 1245.44 1551.68 L1253.65 1551.68 L1253.65 1551.11 Q1253.65 1547.07 1250.97 1544.87 Q1248.33 1542.64 1243.53 1542.64 Q1240.47 1542.64 1237.57 1543.38 Q1234.68 1544.11 1232 1545.57 L1232 1540.16 Q1235.22 1538.92 1238.24 1538.31 Q1241.27 1537.68 1244.13 1537.68 Q1251.87 1537.68 1255.68 1541.69 Q1259.5 1545.7 1259.5 1553.85 Z\" fill=\"#000000\" fill-rule=\"evenodd\" fill-opacity=\"1\" /><path clip-path=\"url(#clip760)\" d=\"M1277.36 1528.42 L1277.36 1538.54 L1289.42 1538.54 L1289.42 1543.09 L1277.36 1543.09 L1277.36 1562.44 Q1277.36 1566.8 1278.54 1568.04 Q1279.75 1569.28 1283.41 1569.28 L1289.42 1569.28 L1289.42 1574.19 L1283.41 1574.19 Q1276.63 1574.19 1274.05 1571.67 Q1271.47 1569.12 1271.47 1562.44 L1271.47 1543.09 L1267.17 1543.09 L1267.17 1538.54 L1271.47 1538.54 L1271.47 1528.42 L1277.36 1528.42 Z\" fill=\"#000000\" fill-rule=\"evenodd\" fill-opacity=\"1\" /><path clip-path=\"url(#clip760)\" d=\"M1327.62 1554.9 L1327.62 1557.76 L1300.69 1557.76 Q1301.07 1563.81 1304.32 1566.99 Q1307.6 1570.14 1313.42 1570.14 Q1316.8 1570.14 1319.95 1569.32 Q1323.13 1568.49 1326.25 1566.83 L1326.25 1572.37 Q1323.1 1573.71 1319.79 1574.41 Q1316.48 1575.11 1313.07 1575.11 Q1304.54 1575.11 1299.54 1570.14 Q1294.58 1565.18 1294.58 1556.71 Q1294.58 1547.96 1299.29 1542.83 Q1304.03 1537.68 1312.05 1537.68 Q1319.25 1537.68 1323.42 1542.33 Q1327.62 1546.94 1327.62 1554.9 M1321.76 1553.18 Q1321.7 1548.37 1319.06 1545.51 Q1316.45 1542.64 1312.12 1542.64 Q1307.22 1542.64 1304.26 1545.41 Q1301.33 1548.18 1300.88 1553.21 L1321.76 1553.18 Z\" fill=\"#000000\" fill-rule=\"evenodd\" fill-opacity=\"1\" /><path clip-path=\"url(#clip760)\" d=\"M1359.96 1539.59 L1359.96 1545.13 Q1357.47 1543.85 1354.8 1543.22 Q1352.13 1542.58 1349.26 1542.58 Q1344.9 1542.58 1342.7 1543.92 Q1340.54 1545.25 1340.54 1547.93 Q1340.54 1549.96 1342.1 1551.14 Q1343.66 1552.29 1348.37 1553.34 L1350.37 1553.78 Q1356.61 1555.12 1359.22 1557.57 Q1361.86 1559.99 1361.86 1564.35 Q1361.86 1569.32 1357.92 1572.21 Q1354 1575.11 1347.13 1575.11 Q1344.26 1575.11 1341.14 1574.54 Q1338.06 1573.99 1334.62 1572.88 L1334.62 1566.83 Q1337.87 1568.52 1341.02 1569.38 Q1344.17 1570.21 1347.26 1570.21 Q1351.39 1570.21 1353.62 1568.81 Q1355.85 1567.37 1355.85 1564.8 Q1355.85 1562.41 1354.23 1561.14 Q1352.63 1559.86 1347.19 1558.68 L1345.15 1558.21 Q1339.71 1557.06 1337.29 1554.71 Q1334.87 1552.32 1334.87 1548.18 Q1334.87 1543.15 1338.44 1540.42 Q1342 1537.68 1348.56 1537.68 Q1351.81 1537.68 1354.67 1538.16 Q1357.54 1538.63 1359.96 1539.59 Z\" fill=\"#000000\" fill-rule=\"evenodd\" fill-opacity=\"1\" /><path clip-path=\"url(#clip760)\" d=\"M1391.37 1524.66 L1404.87 1524.66 L1404.87 1529.21 L1397.23 1529.21 L1397.23 1578.23 L1404.87 1578.23 L1404.87 1582.78 L1391.37 1582.78 L1391.37 1524.66 Z\" fill=\"#000000\" fill-rule=\"evenodd\" fill-opacity=\"1\" /><path clip-path=\"url(#clip760)\" d=\"M1433.48 1533 L1424.76 1556.65 L1442.23 1556.65 L1433.48 1533 M1429.85 1526.67 L1437.14 1526.67 L1455.25 1574.19 L1448.57 1574.19 L1444.24 1562 L1422.82 1562 L1418.49 1574.19 L1411.71 1574.19 L1429.85 1526.67 Z\" fill=\"#000000\" fill-rule=\"evenodd\" fill-opacity=\"1\" /><path clip-path=\"url(#clip760)\" d=\"M1467.6 1568.84 L1467.6 1587.74 L1461.71 1587.74 L1461.71 1538.54 L1467.6 1538.54 L1467.6 1543.95 Q1469.45 1540.77 1472.25 1539.24 Q1475.08 1537.68 1478.99 1537.68 Q1485.49 1537.68 1489.53 1542.83 Q1493.6 1547.99 1493.6 1556.39 Q1493.6 1564.8 1489.53 1569.95 Q1485.49 1575.11 1478.99 1575.11 Q1475.08 1575.11 1472.25 1573.58 Q1469.45 1572.02 1467.6 1568.84 M1487.52 1556.39 Q1487.52 1549.93 1484.85 1546.27 Q1482.21 1542.58 1477.56 1542.58 Q1472.91 1542.58 1470.24 1546.27 Q1467.6 1549.93 1467.6 1556.39 Q1467.6 1562.85 1470.24 1566.55 Q1472.91 1570.21 1477.56 1570.21 Q1482.21 1570.21 1484.85 1566.55 Q1487.52 1562.85 1487.52 1556.39 Z\" fill=\"#000000\" fill-rule=\"evenodd\" fill-opacity=\"1\" /><path clip-path=\"url(#clip760)\" d=\"M1508.98 1568.84 L1508.98 1587.74 L1503.09 1587.74 L1503.09 1538.54 L1508.98 1538.54 L1508.98 1543.95 Q1510.82 1540.77 1513.62 1539.24 Q1516.46 1537.68 1520.37 1537.68 Q1526.86 1537.68 1530.91 1542.83 Q1534.98 1547.99 1534.98 1556.39 Q1534.98 1564.8 1530.91 1569.95 Q1526.86 1575.11 1520.37 1575.11 Q1516.46 1575.11 1513.62 1573.58 Q1510.82 1572.02 1508.98 1568.84 M1528.9 1556.39 Q1528.9 1549.93 1526.23 1546.27 Q1523.59 1542.58 1518.94 1542.58 Q1514.29 1542.58 1511.62 1546.27 Q1508.98 1549.93 1508.98 1556.39 Q1508.98 1562.85 1511.62 1566.55 Q1514.29 1570.21 1518.94 1570.21 Q1523.59 1570.21 1526.23 1566.55 Q1528.9 1562.85 1528.9 1556.39 Z\" fill=\"#000000\" fill-rule=\"evenodd\" fill-opacity=\"1\" /><path clip-path=\"url(#clip760)\" d=\"M1565.34 1544.01 Q1564.36 1543.44 1563.18 1543.18 Q1562.03 1542.9 1560.63 1542.9 Q1555.67 1542.9 1553 1546.14 Q1550.35 1549.36 1550.35 1555.41 L1550.35 1574.19 L1544.47 1574.19 L1544.47 1538.54 L1550.35 1538.54 L1550.35 1544.08 Q1552.2 1540.83 1555.16 1539.27 Q1558.12 1537.68 1562.35 1537.68 Q1562.96 1537.68 1563.69 1537.77 Q1564.42 1537.84 1565.31 1538 L1565.34 1544.01 Z\" fill=\"#000000\" fill-rule=\"evenodd\" fill-opacity=\"1\" /><path clip-path=\"url(#clip760)\" d=\"M1583.87 1542.64 Q1579.16 1542.64 1576.42 1546.34 Q1573.68 1550 1573.68 1556.39 Q1573.68 1562.79 1576.39 1566.48 Q1579.13 1570.14 1583.87 1570.14 Q1588.55 1570.14 1591.28 1566.45 Q1594.02 1562.76 1594.02 1556.39 Q1594.02 1550.06 1591.28 1546.37 Q1588.55 1542.64 1583.87 1542.64 M1583.87 1537.68 Q1591.51 1537.68 1595.87 1542.64 Q1600.23 1547.61 1600.23 1556.39 Q1600.23 1565.15 1595.87 1570.14 Q1591.51 1575.11 1583.87 1575.11 Q1576.2 1575.11 1571.84 1570.14 Q1567.51 1565.15 1567.51 1556.39 Q1567.51 1547.61 1571.84 1542.64 Q1576.2 1537.68 1583.87 1537.68 Z\" fill=\"#000000\" fill-rule=\"evenodd\" fill-opacity=\"1\" /><path clip-path=\"url(#clip760)\" d=\"M1637.56 1538.54 L1624.67 1555.88 L1638.23 1574.19 L1631.33 1574.19 L1620.95 1560.18 L1610.57 1574.19 L1603.67 1574.19 L1617.51 1555.53 L1604.84 1538.54 L1611.75 1538.54 L1621.2 1551.24 L1630.66 1538.54 L1637.56 1538.54 Z\" fill=\"#000000\" fill-rule=\"evenodd\" fill-opacity=\"1\" /><path clip-path=\"url(#clip760)\" d=\"M1646.51 1538.54 L1652.36 1538.54 L1652.36 1574.19 L1646.51 1574.19 L1646.51 1538.54 M1646.51 1524.66 L1652.36 1524.66 L1652.36 1532.08 L1646.51 1532.08 L1646.51 1524.66 Z\" fill=\"#000000\" fill-rule=\"evenodd\" fill-opacity=\"1\" /><path clip-path=\"url(#clip760)\" d=\"M1692.37 1545.38 Q1694.57 1541.43 1697.62 1539.56 Q1700.68 1537.68 1704.82 1537.68 Q1710.39 1537.68 1713.41 1541.59 Q1716.43 1545.48 1716.43 1552.67 L1716.43 1574.19 L1710.55 1574.19 L1710.55 1552.86 Q1710.55 1547.74 1708.73 1545.25 Q1706.92 1542.77 1703.19 1542.77 Q1698.64 1542.77 1696 1545.79 Q1693.36 1548.82 1693.36 1554.04 L1693.36 1574.19 L1687.47 1574.19 L1687.47 1552.86 Q1687.47 1547.7 1685.66 1545.25 Q1683.84 1542.77 1680.05 1542.77 Q1675.57 1542.77 1672.93 1545.83 Q1670.28 1548.85 1670.28 1554.04 L1670.28 1574.19 L1664.39 1574.19 L1664.39 1538.54 L1670.28 1538.54 L1670.28 1544.08 Q1672.29 1540.8 1675.09 1539.24 Q1677.89 1537.68 1681.74 1537.68 Q1685.62 1537.68 1688.33 1539.65 Q1691.07 1541.62 1692.37 1545.38 Z\" fill=\"#000000\" fill-rule=\"evenodd\" fill-opacity=\"1\" /><path clip-path=\"url(#clip760)\" d=\"M1744.32 1556.27 Q1737.22 1556.27 1734.48 1557.89 Q1731.74 1559.51 1731.74 1563.43 Q1731.74 1566.55 1733.78 1568.39 Q1735.85 1570.21 1739.38 1570.21 Q1744.25 1570.21 1747.18 1566.77 Q1750.14 1563.3 1750.14 1557.57 L1750.14 1556.27 L1744.32 1556.27 M1756 1553.85 L1756 1574.19 L1750.14 1574.19 L1750.14 1568.77 Q1748.14 1572.02 1745.14 1573.58 Q1742.15 1575.11 1737.82 1575.11 Q1732.35 1575.11 1729.1 1572.05 Q1725.89 1568.97 1725.89 1563.81 Q1725.89 1557.79 1729.9 1554.74 Q1733.94 1551.68 1741.93 1551.68 L1750.14 1551.68 L1750.14 1551.11 Q1750.14 1547.07 1747.47 1544.87 Q1744.83 1542.64 1740.02 1542.64 Q1736.96 1542.64 1734.07 1543.38 Q1731.17 1544.11 1728.5 1545.57 L1728.5 1540.16 Q1731.71 1538.92 1734.74 1538.31 Q1737.76 1537.68 1740.62 1537.68 Q1748.36 1537.68 1752.18 1541.69 Q1756 1545.7 1756 1553.85 Z\" fill=\"#000000\" fill-rule=\"evenodd\" fill-opacity=\"1\" /><path clip-path=\"url(#clip760)\" d=\"M1773.85 1528.42 L1773.85 1538.54 L1785.92 1538.54 L1785.92 1543.09 L1773.85 1543.09 L1773.85 1562.44 Q1773.85 1566.8 1775.03 1568.04 Q1776.24 1569.28 1779.9 1569.28 L1785.92 1569.28 L1785.92 1574.19 L1779.9 1574.19 Q1773.12 1574.19 1770.54 1571.67 Q1767.97 1569.12 1767.97 1562.44 L1767.97 1543.09 L1763.67 1543.09 L1763.67 1538.54 L1767.97 1538.54 L1767.97 1528.42 L1773.85 1528.42 Z\" fill=\"#000000\" fill-rule=\"evenodd\" fill-opacity=\"1\" /><path clip-path=\"url(#clip760)\" d=\"M1824.11 1554.9 L1824.11 1557.76 L1797.18 1557.76 Q1797.57 1563.81 1800.81 1566.99 Q1804.09 1570.14 1809.92 1570.14 Q1813.29 1570.14 1816.44 1569.32 Q1819.62 1568.49 1822.74 1566.83 L1822.74 1572.37 Q1819.59 1573.71 1816.28 1574.41 Q1812.97 1575.11 1809.56 1575.11 Q1801.03 1575.11 1796.04 1570.14 Q1791.07 1565.18 1791.07 1556.71 Q1791.07 1547.96 1795.78 1542.83 Q1800.53 1537.68 1808.55 1537.68 Q1815.74 1537.68 1819.91 1542.33 Q1824.11 1546.94 1824.11 1554.9 M1818.25 1553.18 Q1818.19 1548.37 1815.55 1545.51 Q1812.94 1542.64 1808.61 1542.64 Q1803.71 1542.64 1800.75 1545.41 Q1797.82 1548.18 1797.37 1553.21 L1818.25 1553.18 Z\" fill=\"#000000\" fill-rule=\"evenodd\" fill-opacity=\"1\" /><path clip-path=\"url(#clip760)\" d=\"M1847.41 1524.66 L1847.41 1582.78 L1833.91 1582.78 L1833.91 1578.23 L1841.52 1578.23 L1841.52 1529.21 L1833.91 1529.21 L1833.91 1524.66 L1847.41 1524.66 Z\" fill=\"#000000\" fill-rule=\"evenodd\" fill-opacity=\"1\" /><polyline clip-path=\"url(#clip762)\" style=\"stroke:#000000; stroke-linecap:butt; stroke-linejoin:round; stroke-width:2; stroke-opacity:0.1; fill:none\" points=\"\n",
       "  2352.76,1287.71 277.621,1287.71 \n",
       "  \"/>\n",
       "<polyline clip-path=\"url(#clip762)\" style=\"stroke:#000000; stroke-linecap:butt; stroke-linejoin:round; stroke-width:2; stroke-opacity:0.1; fill:none\" points=\"\n",
       "  2352.76,1070.82 277.621,1070.82 \n",
       "  \"/>\n",
       "<polyline clip-path=\"url(#clip762)\" style=\"stroke:#000000; stroke-linecap:butt; stroke-linejoin:round; stroke-width:2; stroke-opacity:0.1; fill:none\" points=\"\n",
       "  2352.76,853.938 277.621,853.938 \n",
       "  \"/>\n",
       "<polyline clip-path=\"url(#clip762)\" style=\"stroke:#000000; stroke-linecap:butt; stroke-linejoin:round; stroke-width:2; stroke-opacity:0.1; fill:none\" points=\"\n",
       "  2352.76,637.054 277.621,637.054 \n",
       "  \"/>\n",
       "<polyline clip-path=\"url(#clip762)\" style=\"stroke:#000000; stroke-linecap:butt; stroke-linejoin:round; stroke-width:2; stroke-opacity:0.1; fill:none\" points=\"\n",
       "  2352.76,420.17 277.621,420.17 \n",
       "  \"/>\n",
       "<polyline clip-path=\"url(#clip762)\" style=\"stroke:#000000; stroke-linecap:butt; stroke-linejoin:round; stroke-width:2; stroke-opacity:0.1; fill:none\" points=\"\n",
       "  2352.76,203.286 277.621,203.286 \n",
       "  \"/>\n",
       "<polyline clip-path=\"url(#clip760)\" style=\"stroke:#000000; stroke-linecap:butt; stroke-linejoin:round; stroke-width:4; stroke-opacity:1; fill:none\" points=\"\n",
       "  277.621,1410.9 277.621,123.472 \n",
       "  \"/>\n",
       "<polyline clip-path=\"url(#clip760)\" style=\"stroke:#000000; stroke-linecap:butt; stroke-linejoin:round; stroke-width:4; stroke-opacity:1; fill:none\" points=\"\n",
       "  277.621,1287.71 296.518,1287.71 \n",
       "  \"/>\n",
       "<polyline clip-path=\"url(#clip760)\" style=\"stroke:#000000; stroke-linecap:butt; stroke-linejoin:round; stroke-width:4; stroke-opacity:1; fill:none\" points=\"\n",
       "  277.621,1070.82 296.518,1070.82 \n",
       "  \"/>\n",
       "<polyline clip-path=\"url(#clip760)\" style=\"stroke:#000000; stroke-linecap:butt; stroke-linejoin:round; stroke-width:4; stroke-opacity:1; fill:none\" points=\"\n",
       "  277.621,853.938 296.518,853.938 \n",
       "  \"/>\n",
       "<polyline clip-path=\"url(#clip760)\" style=\"stroke:#000000; stroke-linecap:butt; stroke-linejoin:round; stroke-width:4; stroke-opacity:1; fill:none\" points=\"\n",
       "  277.621,637.054 296.518,637.054 \n",
       "  \"/>\n",
       "<polyline clip-path=\"url(#clip760)\" style=\"stroke:#000000; stroke-linecap:butt; stroke-linejoin:round; stroke-width:4; stroke-opacity:1; fill:none\" points=\"\n",
       "  277.621,420.17 296.518,420.17 \n",
       "  \"/>\n",
       "<polyline clip-path=\"url(#clip760)\" style=\"stroke:#000000; stroke-linecap:butt; stroke-linejoin:round; stroke-width:4; stroke-opacity:1; fill:none\" points=\"\n",
       "  277.621,203.286 296.518,203.286 \n",
       "  \"/>\n",
       "<path clip-path=\"url(#clip760)\" d=\"M114.931 1301.05 L122.57 1301.05 L122.57 1274.69 L114.26 1276.35 L114.26 1272.09 L122.524 1270.43 L127.2 1270.43 L127.2 1301.05 L134.839 1301.05 L134.839 1304.99 L114.931 1304.99 L114.931 1301.05 Z\" fill=\"#000000\" fill-rule=\"evenodd\" fill-opacity=\"1\" /><path clip-path=\"url(#clip760)\" d=\"M157.13 1274.5 L145.325 1292.95 L157.13 1292.95 L157.13 1274.5 M155.903 1270.43 L161.783 1270.43 L161.783 1292.95 L166.714 1292.95 L166.714 1296.84 L161.783 1296.84 L161.783 1304.99 L157.13 1304.99 L157.13 1296.84 L141.529 1296.84 L141.529 1292.32 L155.903 1270.43 Z\" fill=\"#000000\" fill-rule=\"evenodd\" fill-opacity=\"1\" /><path clip-path=\"url(#clip760)\" d=\"M174.445 1299.11 L179.329 1299.11 L179.329 1304.99 L174.445 1304.99 L174.445 1299.11 Z\" fill=\"#000000\" fill-rule=\"evenodd\" fill-opacity=\"1\" /><path clip-path=\"url(#clip760)\" d=\"M189.561 1270.43 L207.917 1270.43 L207.917 1274.36 L193.843 1274.36 L193.843 1282.83 Q194.862 1282.49 195.88 1282.32 Q196.899 1282.14 197.917 1282.14 Q203.704 1282.14 207.084 1285.31 Q210.463 1288.48 210.463 1293.9 Q210.463 1299.48 206.991 1302.58 Q203.519 1305.66 197.2 1305.66 Q195.024 1305.66 192.755 1305.29 Q190.51 1304.92 188.102 1304.18 L188.102 1299.48 Q190.186 1300.61 192.408 1301.17 Q194.63 1301.72 197.107 1301.72 Q201.112 1301.72 203.449 1299.62 Q205.787 1297.51 205.787 1293.9 Q205.787 1290.29 203.449 1288.18 Q201.112 1286.07 197.107 1286.07 Q195.232 1286.07 193.357 1286.49 Q191.505 1286.91 189.561 1287.79 L189.561 1270.43 Z\" fill=\"#000000\" fill-rule=\"evenodd\" fill-opacity=\"1\" /><path clip-path=\"url(#clip760)\" d=\"M229.676 1273.51 Q226.065 1273.51 224.236 1277.07 Q222.431 1280.61 222.431 1287.74 Q222.431 1294.85 224.236 1298.41 Q226.065 1301.95 229.676 1301.95 Q233.31 1301.95 235.116 1298.41 Q236.945 1294.85 236.945 1287.74 Q236.945 1280.61 235.116 1277.07 Q233.31 1273.51 229.676 1273.51 M229.676 1269.8 Q235.486 1269.8 238.542 1274.41 Q241.621 1278.99 241.621 1287.74 Q241.621 1296.47 238.542 1301.07 Q235.486 1305.66 229.676 1305.66 Q223.866 1305.66 220.787 1301.07 Q217.732 1296.47 217.732 1287.74 Q217.732 1278.99 220.787 1274.41 Q223.866 1269.8 229.676 1269.8 Z\" fill=\"#000000\" fill-rule=\"evenodd\" fill-opacity=\"1\" /><path clip-path=\"url(#clip760)\" d=\"M115.927 1084.17 L123.566 1084.17 L123.566 1057.8 L115.256 1059.47 L115.256 1055.21 L123.519 1053.54 L128.195 1053.54 L128.195 1084.17 L135.834 1084.17 L135.834 1088.1 L115.927 1088.1 L115.927 1084.17 Z\" fill=\"#000000\" fill-rule=\"evenodd\" fill-opacity=\"1\" /><path clip-path=\"url(#clip760)\" d=\"M158.126 1057.62 L146.32 1076.07 L158.126 1076.07 L158.126 1057.62 M156.899 1053.54 L162.778 1053.54 L162.778 1076.07 L167.709 1076.07 L167.709 1079.95 L162.778 1079.95 L162.778 1088.1 L158.126 1088.1 L158.126 1079.95 L142.524 1079.95 L142.524 1075.44 L156.899 1053.54 Z\" fill=\"#000000\" fill-rule=\"evenodd\" fill-opacity=\"1\" /><path clip-path=\"url(#clip760)\" d=\"M175.44 1082.22 L180.325 1082.22 L180.325 1088.1 L175.44 1088.1 L175.44 1082.22 Z\" fill=\"#000000\" fill-rule=\"evenodd\" fill-opacity=\"1\" /><path clip-path=\"url(#clip760)\" d=\"M189.329 1053.54 L211.551 1053.54 L211.551 1055.53 L199.005 1088.1 L194.121 1088.1 L205.926 1057.48 L189.329 1057.48 L189.329 1053.54 Z\" fill=\"#000000\" fill-rule=\"evenodd\" fill-opacity=\"1\" /><path clip-path=\"url(#clip760)\" d=\"M220.718 1053.54 L239.074 1053.54 L239.074 1057.48 L225 1057.48 L225 1065.95 Q226.019 1065.6 227.037 1065.44 Q228.056 1065.26 229.074 1065.26 Q234.861 1065.26 238.241 1068.43 Q241.621 1071.6 241.621 1077.01 Q241.621 1082.59 238.148 1085.69 Q234.676 1088.77 228.357 1088.77 Q226.181 1088.77 223.912 1088.4 Q221.667 1088.03 219.26 1087.29 L219.26 1082.59 Q221.343 1083.73 223.565 1084.28 Q225.787 1084.84 228.264 1084.84 Q232.269 1084.84 234.607 1082.73 Q236.945 1080.63 236.945 1077.01 Q236.945 1073.4 234.607 1071.3 Q232.269 1069.19 228.264 1069.19 Q226.389 1069.19 224.514 1069.61 Q222.662 1070.02 220.718 1070.9 L220.718 1053.54 Z\" fill=\"#000000\" fill-rule=\"evenodd\" fill-opacity=\"1\" /><path clip-path=\"url(#clip760)\" d=\"M114.931 867.283 L122.57 867.283 L122.57 840.917 L114.26 842.584 L114.26 838.325 L122.524 836.658 L127.2 836.658 L127.2 867.283 L134.839 867.283 L134.839 871.218 L114.931 871.218 L114.931 867.283 Z\" fill=\"#000000\" fill-rule=\"evenodd\" fill-opacity=\"1\" /><path clip-path=\"url(#clip760)\" d=\"M144.329 836.658 L162.686 836.658 L162.686 840.593 L148.612 840.593 L148.612 849.065 Q149.63 848.718 150.649 848.556 Q151.667 848.371 152.686 848.371 Q158.473 848.371 161.852 851.542 Q165.232 854.714 165.232 860.13 Q165.232 865.709 161.76 868.811 Q158.288 871.889 151.968 871.889 Q149.792 871.889 147.524 871.519 Q145.279 871.149 142.871 870.408 L142.871 865.709 Q144.954 866.843 147.177 867.399 Q149.399 867.954 151.876 867.954 Q155.88 867.954 158.218 865.848 Q160.556 863.741 160.556 860.13 Q160.556 856.519 158.218 854.413 Q155.88 852.306 151.876 852.306 Q150.001 852.306 148.126 852.723 Q146.274 853.139 144.329 854.019 L144.329 836.658 Z\" fill=\"#000000\" fill-rule=\"evenodd\" fill-opacity=\"1\" /><path clip-path=\"url(#clip760)\" d=\"M174.445 865.338 L179.329 865.338 L179.329 871.218 L174.445 871.218 L174.445 865.338 Z\" fill=\"#000000\" fill-rule=\"evenodd\" fill-opacity=\"1\" /><path clip-path=\"url(#clip760)\" d=\"M199.514 839.737 Q195.903 839.737 194.075 843.302 Q192.269 846.843 192.269 853.973 Q192.269 861.079 194.075 864.644 Q195.903 868.186 199.514 868.186 Q203.149 868.186 204.954 864.644 Q206.783 861.079 206.783 853.973 Q206.783 846.843 204.954 843.302 Q203.149 839.737 199.514 839.737 M199.514 836.033 Q205.324 836.033 208.38 840.64 Q211.459 845.223 211.459 853.973 Q211.459 862.7 208.38 867.306 Q205.324 871.889 199.514 871.889 Q193.704 871.889 190.625 867.306 Q187.57 862.7 187.57 853.973 Q187.57 845.223 190.625 840.64 Q193.704 836.033 199.514 836.033 Z\" fill=\"#000000\" fill-rule=\"evenodd\" fill-opacity=\"1\" /><path clip-path=\"url(#clip760)\" d=\"M229.676 839.737 Q226.065 839.737 224.236 843.302 Q222.431 846.843 222.431 853.973 Q222.431 861.079 224.236 864.644 Q226.065 868.186 229.676 868.186 Q233.31 868.186 235.116 864.644 Q236.945 861.079 236.945 853.973 Q236.945 846.843 235.116 843.302 Q233.31 839.737 229.676 839.737 M229.676 836.033 Q235.486 836.033 238.542 840.64 Q241.621 845.223 241.621 853.973 Q241.621 862.7 238.542 867.306 Q235.486 871.889 229.676 871.889 Q223.866 871.889 220.787 867.306 Q217.732 862.7 217.732 853.973 Q217.732 845.223 220.787 840.64 Q223.866 836.033 229.676 836.033 Z\" fill=\"#000000\" fill-rule=\"evenodd\" fill-opacity=\"1\" /><path clip-path=\"url(#clip760)\" d=\"M115.927 650.399 L123.566 650.399 L123.566 624.033 L115.256 625.7 L115.256 621.441 L123.519 619.774 L128.195 619.774 L128.195 650.399 L135.834 650.399 L135.834 654.334 L115.927 654.334 L115.927 650.399 Z\" fill=\"#000000\" fill-rule=\"evenodd\" fill-opacity=\"1\" /><path clip-path=\"url(#clip760)\" d=\"M145.325 619.774 L163.681 619.774 L163.681 623.709 L149.607 623.709 L149.607 632.181 Q150.626 631.834 151.644 631.672 Q152.663 631.487 153.681 631.487 Q159.468 631.487 162.848 634.658 Q166.227 637.829 166.227 643.246 Q166.227 648.825 162.755 651.926 Q159.283 655.005 152.964 655.005 Q150.788 655.005 148.519 654.635 Q146.274 654.264 143.866 653.524 L143.866 648.825 Q145.95 649.959 148.172 650.514 Q150.394 651.07 152.871 651.07 Q156.876 651.07 159.214 648.964 Q161.552 646.857 161.552 643.246 Q161.552 639.635 159.214 637.528 Q156.876 635.422 152.871 635.422 Q150.996 635.422 149.121 635.839 Q147.269 636.255 145.325 637.135 L145.325 619.774 Z\" fill=\"#000000\" fill-rule=\"evenodd\" fill-opacity=\"1\" /><path clip-path=\"url(#clip760)\" d=\"M175.44 648.454 L180.325 648.454 L180.325 654.334 L175.44 654.334 L175.44 648.454 Z\" fill=\"#000000\" fill-rule=\"evenodd\" fill-opacity=\"1\" /><path clip-path=\"url(#clip760)\" d=\"M194.538 650.399 L210.857 650.399 L210.857 654.334 L188.913 654.334 L188.913 650.399 Q191.575 647.644 196.158 643.014 Q200.764 638.362 201.945 637.019 Q204.19 634.496 205.07 632.76 Q205.973 631.001 205.973 629.311 Q205.973 626.556 204.028 624.82 Q202.107 623.084 199.005 623.084 Q196.806 623.084 194.352 623.848 Q191.922 624.612 189.144 626.163 L189.144 621.441 Q191.968 620.306 194.422 619.728 Q196.875 619.149 198.912 619.149 Q204.283 619.149 207.477 621.834 Q210.672 624.519 210.672 629.01 Q210.672 631.14 209.861 633.061 Q209.074 634.959 206.968 637.552 Q206.389 638.223 203.287 641.44 Q200.186 644.635 194.538 650.399 Z\" fill=\"#000000\" fill-rule=\"evenodd\" fill-opacity=\"1\" /><path clip-path=\"url(#clip760)\" d=\"M220.718 619.774 L239.074 619.774 L239.074 623.709 L225 623.709 L225 632.181 Q226.019 631.834 227.037 631.672 Q228.056 631.487 229.074 631.487 Q234.861 631.487 238.241 634.658 Q241.621 637.829 241.621 643.246 Q241.621 648.825 238.148 651.926 Q234.676 655.005 228.357 655.005 Q226.181 655.005 223.912 654.635 Q221.667 654.264 219.26 653.524 L219.26 648.825 Q221.343 649.959 223.565 650.514 Q225.787 651.07 228.264 651.07 Q232.269 651.07 234.607 648.964 Q236.945 646.857 236.945 643.246 Q236.945 639.635 234.607 637.528 Q232.269 635.422 228.264 635.422 Q226.389 635.422 224.514 635.839 Q222.662 636.255 220.718 637.135 L220.718 619.774 Z\" fill=\"#000000\" fill-rule=\"evenodd\" fill-opacity=\"1\" /><path clip-path=\"url(#clip760)\" d=\"M114.931 433.515 L122.57 433.515 L122.57 407.149 L114.26 408.816 L114.26 404.556 L122.524 402.89 L127.2 402.89 L127.2 433.515 L134.839 433.515 L134.839 437.45 L114.931 437.45 L114.931 433.515 Z\" fill=\"#000000\" fill-rule=\"evenodd\" fill-opacity=\"1\" /><path clip-path=\"url(#clip760)\" d=\"M144.329 402.89 L162.686 402.89 L162.686 406.825 L148.612 406.825 L148.612 415.297 Q149.63 414.95 150.649 414.788 Q151.667 414.603 152.686 414.603 Q158.473 414.603 161.852 417.774 Q165.232 420.945 165.232 426.362 Q165.232 431.94 161.76 435.042 Q158.288 438.121 151.968 438.121 Q149.792 438.121 147.524 437.751 Q145.279 437.38 142.871 436.64 L142.871 431.94 Q144.954 433.075 147.177 433.63 Q149.399 434.186 151.876 434.186 Q155.88 434.186 158.218 432.079 Q160.556 429.973 160.556 426.362 Q160.556 422.751 158.218 420.644 Q155.88 418.538 151.876 418.538 Q150.001 418.538 148.126 418.954 Q146.274 419.371 144.329 420.251 L144.329 402.89 Z\" fill=\"#000000\" fill-rule=\"evenodd\" fill-opacity=\"1\" /><path clip-path=\"url(#clip760)\" d=\"M174.445 431.57 L179.329 431.57 L179.329 437.45 L174.445 437.45 L174.445 431.57 Z\" fill=\"#000000\" fill-rule=\"evenodd\" fill-opacity=\"1\" /><path clip-path=\"url(#clip760)\" d=\"M189.561 402.89 L207.917 402.89 L207.917 406.825 L193.843 406.825 L193.843 415.297 Q194.862 414.95 195.88 414.788 Q196.899 414.603 197.917 414.603 Q203.704 414.603 207.084 417.774 Q210.463 420.945 210.463 426.362 Q210.463 431.94 206.991 435.042 Q203.519 438.121 197.2 438.121 Q195.024 438.121 192.755 437.751 Q190.51 437.38 188.102 436.64 L188.102 431.94 Q190.186 433.075 192.408 433.63 Q194.63 434.186 197.107 434.186 Q201.112 434.186 203.449 432.079 Q205.787 429.973 205.787 426.362 Q205.787 422.751 203.449 420.644 Q201.112 418.538 197.107 418.538 Q195.232 418.538 193.357 418.954 Q191.505 419.371 189.561 420.251 L189.561 402.89 Z\" fill=\"#000000\" fill-rule=\"evenodd\" fill-opacity=\"1\" /><path clip-path=\"url(#clip760)\" d=\"M229.676 405.968 Q226.065 405.968 224.236 409.533 Q222.431 413.075 222.431 420.204 Q222.431 427.311 224.236 430.876 Q226.065 434.417 229.676 434.417 Q233.31 434.417 235.116 430.876 Q236.945 427.311 236.945 420.204 Q236.945 413.075 235.116 409.533 Q233.31 405.968 229.676 405.968 M229.676 402.265 Q235.486 402.265 238.542 406.871 Q241.621 411.454 241.621 420.204 Q241.621 428.931 238.542 433.538 Q235.486 438.121 229.676 438.121 Q223.866 438.121 220.787 433.538 Q217.732 428.931 217.732 420.204 Q217.732 411.454 220.787 406.871 Q223.866 402.265 229.676 402.265 Z\" fill=\"#000000\" fill-rule=\"evenodd\" fill-opacity=\"1\" /><path clip-path=\"url(#clip760)\" d=\"M115.927 216.63 L123.566 216.63 L123.566 190.265 L115.256 191.931 L115.256 187.672 L123.519 186.006 L128.195 186.006 L128.195 216.63 L135.834 216.63 L135.834 220.566 L115.927 220.566 L115.927 216.63 Z\" fill=\"#000000\" fill-rule=\"evenodd\" fill-opacity=\"1\" /><path clip-path=\"url(#clip760)\" d=\"M145.325 186.006 L163.681 186.006 L163.681 189.941 L149.607 189.941 L149.607 198.413 Q150.626 198.066 151.644 197.904 Q152.663 197.718 153.681 197.718 Q159.468 197.718 162.848 200.89 Q166.227 204.061 166.227 209.478 Q166.227 215.056 162.755 218.158 Q159.283 221.237 152.964 221.237 Q150.788 221.237 148.519 220.866 Q146.274 220.496 143.866 219.755 L143.866 215.056 Q145.95 216.191 148.172 216.746 Q150.394 217.302 152.871 217.302 Q156.876 217.302 159.214 215.195 Q161.552 213.089 161.552 209.478 Q161.552 205.867 159.214 203.76 Q156.876 201.654 152.871 201.654 Q150.996 201.654 149.121 202.07 Q147.269 202.487 145.325 203.367 L145.325 186.006 Z\" fill=\"#000000\" fill-rule=\"evenodd\" fill-opacity=\"1\" /><path clip-path=\"url(#clip760)\" d=\"M175.44 214.686 L180.325 214.686 L180.325 220.566 L175.44 220.566 L175.44 214.686 Z\" fill=\"#000000\" fill-rule=\"evenodd\" fill-opacity=\"1\" /><path clip-path=\"url(#clip760)\" d=\"M189.329 186.006 L211.551 186.006 L211.551 187.996 L199.005 220.566 L194.121 220.566 L205.926 189.941 L189.329 189.941 L189.329 186.006 Z\" fill=\"#000000\" fill-rule=\"evenodd\" fill-opacity=\"1\" /><path clip-path=\"url(#clip760)\" d=\"M220.718 186.006 L239.074 186.006 L239.074 189.941 L225 189.941 L225 198.413 Q226.019 198.066 227.037 197.904 Q228.056 197.718 229.074 197.718 Q234.861 197.718 238.241 200.89 Q241.621 204.061 241.621 209.478 Q241.621 215.056 238.148 218.158 Q234.676 221.237 228.357 221.237 Q226.181 221.237 223.912 220.866 Q221.667 220.496 219.26 219.755 L219.26 215.056 Q221.343 216.191 223.565 216.746 Q225.787 217.302 228.264 217.302 Q232.269 217.302 234.607 215.195 Q236.945 213.089 236.945 209.478 Q236.945 205.867 234.607 203.76 Q232.269 201.654 228.264 201.654 Q226.389 201.654 224.514 202.07 Q222.662 202.487 220.718 203.367 L220.718 186.006 Z\" fill=\"#000000\" fill-rule=\"evenodd\" fill-opacity=\"1\" /><path clip-path=\"url(#clip760)\" d=\"M57.2247 1106.75 L44.4614 1106.75 L44.4614 1117.25 L39.1779 1117.25 L39.1779 1100.38 L59.58 1100.38 Q62.2218 1104.11 63.5904 1108.59 Q64.9272 1113.08 64.9272 1118.17 Q64.9272 1129.31 58.4342 1135.62 Q51.9093 1141.89 40.2919 1141.89 Q28.6427 1141.89 22.1496 1135.62 Q15.6248 1129.31 15.6248 1118.17 Q15.6248 1113.53 16.7706 1109.36 Q17.9164 1105.16 20.1444 1101.62 L26.9876 1101.62 Q23.9639 1105.19 22.4361 1109.2 Q20.9083 1113.21 20.9083 1117.63 Q20.9083 1126.35 25.7781 1130.75 Q30.6479 1135.11 40.2919 1135.11 Q49.9041 1135.11 54.7739 1130.75 Q59.6436 1126.35 59.6436 1117.63 Q59.6436 1114.23 59.0707 1111.55 Q58.466 1108.88 57.2247 1106.75 Z\" fill=\"#000000\" fill-rule=\"evenodd\" fill-opacity=\"1\" /><path clip-path=\"url(#clip760)\" d=\"M14.479 1088.89 L14.479 1083.03 L64.0042 1083.03 L64.0042 1088.89 L14.479 1088.89 Z\" fill=\"#000000\" fill-rule=\"evenodd\" fill-opacity=\"1\" /><path clip-path=\"url(#clip760)\" d=\"M32.4621 1056.97 Q32.4621 1061.68 36.1542 1064.42 Q39.8145 1067.15 46.212 1067.15 Q52.6095 1067.15 56.3017 1064.45 Q59.9619 1061.71 59.9619 1056.97 Q59.9619 1052.29 56.2698 1049.55 Q52.5777 1046.81 46.212 1046.81 Q39.8781 1046.81 36.186 1049.55 Q32.4621 1052.29 32.4621 1056.97 M27.4968 1056.97 Q27.4968 1049.33 32.4621 1044.97 Q37.4273 1040.61 46.212 1040.61 Q54.9649 1040.61 59.9619 1044.97 Q64.9272 1049.33 64.9272 1056.97 Q64.9272 1064.64 59.9619 1069 Q54.9649 1073.33 46.212 1073.33 Q37.4273 1073.33 32.4621 1069 Q27.4968 1064.64 27.4968 1056.97 Z\" fill=\"#000000\" fill-rule=\"evenodd\" fill-opacity=\"1\" /><path clip-path=\"url(#clip760)\" d=\"M46.212 1005.31 Q39.7508 1005.31 36.0905 1007.98 Q32.3984 1010.62 32.3984 1015.27 Q32.3984 1019.92 36.0905 1022.59 Q39.7508 1025.23 46.212 1025.23 Q52.6732 1025.23 56.3653 1022.59 Q60.0256 1019.92 60.0256 1015.27 Q60.0256 1010.62 56.3653 1007.98 Q52.6732 1005.31 46.212 1005.31 M33.7671 1025.23 Q30.5842 1023.39 29.0564 1020.59 Q27.4968 1017.75 27.4968 1013.84 Q27.4968 1007.35 32.6531 1003.3 Q37.8093 999.23 46.212 999.23 Q54.6147 999.23 59.771 1003.3 Q64.9272 1007.35 64.9272 1013.84 Q64.9272 1017.75 63.3994 1020.59 Q61.8398 1023.39 58.657 1025.23 L64.0042 1025.23 L64.0042 1031.12 L14.479 1031.12 L14.479 1025.23 L33.7671 1025.23 Z\" fill=\"#000000\" fill-rule=\"evenodd\" fill-opacity=\"1\" /><path clip-path=\"url(#clip760)\" d=\"M46.0847 973.322 Q46.0847 980.42 47.7079 983.157 Q49.3312 985.894 53.2461 985.894 Q56.3653 985.894 58.2114 983.857 Q60.0256 981.788 60.0256 978.255 Q60.0256 973.386 56.5881 970.457 Q53.1188 967.497 47.3897 967.497 L46.0847 967.497 L46.0847 973.322 M43.6657 961.641 L64.0042 961.641 L64.0042 967.497 L58.5933 967.497 Q61.8398 969.502 63.3994 972.494 Q64.9272 975.486 64.9272 979.815 Q64.9272 985.289 61.8716 988.536 Q58.7843 991.751 53.6281 991.751 Q47.6125 991.751 44.5569 987.74 Q41.5014 983.698 41.5014 975.709 L41.5014 967.497 L40.9285 967.497 Q36.8862 967.497 34.6901 970.171 Q32.4621 972.813 32.4621 977.619 Q32.4621 980.674 33.1941 983.571 Q33.9262 986.467 35.3903 989.141 L29.9795 989.141 Q28.7381 985.926 28.1334 982.902 Q27.4968 979.879 27.4968 977.014 Q27.4968 969.28 31.5072 965.46 Q35.5176 961.641 43.6657 961.641 Z\" fill=\"#000000\" fill-rule=\"evenodd\" fill-opacity=\"1\" /><path clip-path=\"url(#clip760)\" d=\"M14.479 949.578 L14.479 943.721 L64.0042 943.721 L64.0042 949.578 L14.479 949.578 Z\" fill=\"#000000\" fill-rule=\"evenodd\" fill-opacity=\"1\" /><path clip-path=\"url(#clip760)\" d=\"M16.4842 917.081 L16.4842 876.881 L21.895 876.881 L21.895 893.751 L64.0042 893.751 L64.0042 900.212 L21.895 900.212 L21.895 917.081 L16.4842 917.081 Z\" fill=\"#000000\" fill-rule=\"evenodd\" fill-opacity=\"1\" /><path clip-path=\"url(#clip760)\" d=\"M44.7161 851.514 L47.5806 851.514 L47.5806 878.441 Q53.6281 878.059 56.8109 874.813 Q59.9619 871.534 59.9619 865.71 Q59.9619 862.336 59.1344 859.185 Q58.3069 856.002 56.6518 852.883 L62.1899 852.883 Q63.5267 856.034 64.227 859.344 Q64.9272 862.654 64.9272 866.06 Q64.9272 874.59 59.9619 879.587 Q54.9967 884.552 46.5303 884.552 Q37.7774 884.552 32.6531 879.841 Q27.4968 875.099 27.4968 867.078 Q27.4968 859.885 32.1438 855.715 Q36.7589 851.514 44.7161 851.514 M42.9973 857.371 Q38.1912 857.434 35.3266 860.076 Q32.4621 862.686 32.4621 867.015 Q32.4621 871.916 35.2312 874.876 Q38.0002 877.804 43.0292 878.25 L42.9973 857.371 Z\" fill=\"#000000\" fill-rule=\"evenodd\" fill-opacity=\"1\" /><path clip-path=\"url(#clip760)\" d=\"M35.1993 814.147 Q31.2526 811.951 29.3747 808.896 Q27.4968 805.84 27.4968 801.702 Q27.4968 796.132 31.4117 793.109 Q35.2948 790.085 42.4881 790.085 L64.0042 790.085 L64.0042 795.973 L42.679 795.973 Q37.5546 795.973 35.072 797.788 Q32.5894 799.602 32.5894 803.326 Q32.5894 807.877 35.6131 810.519 Q38.6368 813.161 43.8567 813.161 L64.0042 813.161 L64.0042 819.049 L42.679 819.049 Q37.5228 819.049 35.072 820.863 Q32.5894 822.677 32.5894 826.465 Q32.5894 830.953 35.6449 833.595 Q38.6686 836.236 43.8567 836.236 L64.0042 836.236 L64.0042 842.125 L28.3562 842.125 L28.3562 836.236 L33.8944 836.236 Q30.616 834.231 29.0564 831.43 Q27.4968 828.629 27.4968 824.778 Q27.4968 820.895 29.4702 818.19 Q31.4436 815.452 35.1993 814.147 Z\" fill=\"#000000\" fill-rule=\"evenodd\" fill-opacity=\"1\" /><path clip-path=\"url(#clip760)\" d=\"M58.657 772.738 L77.5631 772.738 L77.5631 778.627 L28.3562 778.627 L28.3562 772.738 L33.7671 772.738 Q30.5842 770.892 29.0564 768.091 Q27.4968 765.259 27.4968 761.344 Q27.4968 754.851 32.6531 750.809 Q37.8093 746.735 46.212 746.735 Q54.6147 746.735 59.771 750.809 Q64.9272 754.851 64.9272 761.344 Q64.9272 765.259 63.3994 768.091 Q61.8398 770.892 58.657 772.738 M46.212 752.814 Q39.7508 752.814 36.0905 755.487 Q32.3984 758.129 32.3984 762.776 Q32.3984 767.423 36.0905 770.097 Q39.7508 772.738 46.212 772.738 Q52.6732 772.738 56.3653 770.097 Q60.0256 767.423 60.0256 762.776 Q60.0256 758.129 56.3653 755.487 Q52.6732 752.814 46.212 752.814 Z\" fill=\"#000000\" fill-rule=\"evenodd\" fill-opacity=\"1\" /><path clip-path=\"url(#clip760)\" d=\"M44.7161 706.535 L47.5806 706.535 L47.5806 733.462 Q53.6281 733.08 56.8109 729.834 Q59.9619 726.555 59.9619 720.731 Q59.9619 717.357 59.1344 714.206 Q58.3069 711.023 56.6518 707.904 L62.1899 707.904 Q63.5267 711.055 64.227 714.365 Q64.9272 717.675 64.9272 721.081 Q64.9272 729.611 59.9619 734.608 Q54.9967 739.573 46.5303 739.573 Q37.7774 739.573 32.6531 734.863 Q27.4968 730.12 27.4968 722.099 Q27.4968 714.906 32.1438 710.736 Q36.7589 706.535 44.7161 706.535 M42.9973 712.392 Q38.1912 712.455 35.3266 715.097 Q32.4621 717.707 32.4621 722.036 Q32.4621 726.937 35.2312 729.897 Q38.0002 732.825 43.0292 733.271 L42.9973 712.392 Z\" fill=\"#000000\" fill-rule=\"evenodd\" fill-opacity=\"1\" /><path clip-path=\"url(#clip760)\" d=\"M33.8307 676.266 Q33.2578 677.253 33.0032 678.431 Q32.7167 679.576 32.7167 680.977 Q32.7167 685.942 35.9632 688.616 Q39.1779 691.257 45.2253 691.257 L64.0042 691.257 L64.0042 697.146 L28.3562 697.146 L28.3562 691.257 L33.8944 691.257 Q30.6479 689.411 29.0883 686.451 Q27.4968 683.491 27.4968 679.258 Q27.4968 678.653 27.5923 677.921 Q27.656 677.189 27.8151 676.298 L33.8307 676.266 Z\" fill=\"#000000\" fill-rule=\"evenodd\" fill-opacity=\"1\" /><path clip-path=\"url(#clip760)\" d=\"M46.0847 653.923 Q46.0847 661.02 47.7079 663.758 Q49.3312 666.495 53.2461 666.495 Q56.3653 666.495 58.2114 664.458 Q60.0256 662.389 60.0256 658.856 Q60.0256 653.986 56.5881 651.058 Q53.1188 648.098 47.3897 648.098 L46.0847 648.098 L46.0847 653.923 M43.6657 642.241 L64.0042 642.241 L64.0042 648.098 L58.5933 648.098 Q61.8398 650.103 63.3994 653.095 Q64.9272 656.087 64.9272 660.416 Q64.9272 665.89 61.8716 669.137 Q58.7843 672.351 53.6281 672.351 Q47.6125 672.351 44.5569 668.341 Q41.5014 664.299 41.5014 656.31 L41.5014 648.098 L40.9285 648.098 Q36.8862 648.098 34.6901 650.772 Q32.4621 653.413 32.4621 658.219 Q32.4621 661.275 33.1941 664.171 Q33.9262 667.068 35.3903 669.741 L29.9795 669.741 Q28.7381 666.527 28.1334 663.503 Q27.4968 660.479 27.4968 657.615 Q27.4968 649.88 31.5072 646.061 Q35.5176 642.241 43.6657 642.241 Z\" fill=\"#000000\" fill-rule=\"evenodd\" fill-opacity=\"1\" /><path clip-path=\"url(#clip760)\" d=\"M18.2347 624.386 L28.3562 624.386 L28.3562 612.323 L32.9077 612.323 L32.9077 624.386 L52.2594 624.386 Q56.6199 624.386 57.8613 623.208 Q59.1026 621.999 59.1026 618.338 L59.1026 612.323 L64.0042 612.323 L64.0042 618.338 Q64.0042 625.118 61.4897 627.696 Q58.9434 630.274 52.2594 630.274 L32.9077 630.274 L32.9077 634.571 L28.3562 634.571 L28.3562 630.274 L18.2347 630.274 L18.2347 624.386 Z\" fill=\"#000000\" fill-rule=\"evenodd\" fill-opacity=\"1\" /><path clip-path=\"url(#clip760)\" d=\"M49.9359 605.225 L28.3562 605.225 L28.3562 599.368 L49.7131 599.368 Q54.7739 599.368 57.3202 597.395 Q59.8346 595.422 59.8346 591.475 Q59.8346 586.733 56.8109 583.995 Q53.7872 581.226 48.5673 581.226 L28.3562 581.226 L28.3562 575.37 L64.0042 575.37 L64.0042 581.226 L58.5296 581.226 Q61.7762 583.359 63.3676 586.191 Q64.9272 588.992 64.9272 592.716 Q64.9272 598.859 61.1078 602.042 Q57.2883 605.225 49.9359 605.225 M27.4968 590.488 L27.4968 590.488 Z\" fill=\"#000000\" fill-rule=\"evenodd\" fill-opacity=\"1\" /><path clip-path=\"url(#clip760)\" d=\"M33.8307 542.65 Q33.2578 543.637 33.0032 544.814 Q32.7167 545.96 32.7167 547.361 Q32.7167 552.326 35.9632 554.999 Q39.1779 557.641 45.2253 557.641 L64.0042 557.641 L64.0042 563.53 L28.3562 563.53 L28.3562 557.641 L33.8944 557.641 Q30.6479 555.795 29.0883 552.835 Q27.4968 549.875 27.4968 545.642 Q27.4968 545.037 27.5923 544.305 Q27.656 543.573 27.8151 542.682 L33.8307 542.65 Z\" fill=\"#000000\" fill-rule=\"evenodd\" fill-opacity=\"1\" /><path clip-path=\"url(#clip760)\" d=\"M44.7161 507.448 L47.5806 507.448 L47.5806 534.375 Q53.6281 533.993 56.8109 530.746 Q59.9619 527.468 59.9619 521.643 Q59.9619 518.269 59.1344 515.118 Q58.3069 511.935 56.6518 508.816 L62.1899 508.816 Q63.5267 511.967 64.227 515.277 Q64.9272 518.588 64.9272 521.993 Q64.9272 530.523 59.9619 535.52 Q54.9967 540.486 46.5303 540.486 Q37.7774 540.486 32.6531 535.775 Q27.4968 531.033 27.4968 523.012 Q27.4968 515.819 32.1438 511.649 Q36.7589 507.448 44.7161 507.448 M42.9973 513.304 Q38.1912 513.368 35.3266 516.01 Q32.4621 518.619 32.4621 522.948 Q32.4621 527.85 35.2312 530.81 Q38.0002 533.738 43.0292 534.184 L42.9973 513.304 Z\" fill=\"#000000\" fill-rule=\"evenodd\" fill-opacity=\"1\" /><path clip-path=\"url(#clip760)\" d=\"M14.5426 463.047 Q21.8632 467.312 29.0246 469.381 Q36.186 471.45 43.5384 471.45 Q50.8908 471.45 58.1159 469.381 Q65.3091 467.28 72.5979 463.047 L72.5979 468.139 Q65.1182 472.914 57.8931 475.301 Q50.668 477.656 43.5384 477.656 Q36.4406 477.656 29.2474 475.301 Q22.0542 472.946 14.5426 468.139 L14.5426 463.047 Z\" fill=\"#000000\" fill-rule=\"evenodd\" fill-opacity=\"1\" /><path clip-path=\"url(#clip760)\" d=\"M20.1444 415.845 L26.9239 415.845 Q23.9002 419.092 22.4043 422.784 Q20.9083 426.444 20.9083 430.582 Q20.9083 438.73 25.9054 443.059 Q30.8707 447.387 40.2919 447.387 Q49.6813 447.387 54.6784 443.059 Q59.6436 438.73 59.6436 430.582 Q59.6436 426.444 58.1477 422.784 Q56.6518 419.092 53.6281 415.845 L60.3439 415.845 Q62.6355 419.219 63.7814 423.007 Q64.9272 426.762 64.9272 430.964 Q64.9272 441.754 58.3387 447.96 Q51.7183 454.167 40.2919 454.167 Q28.8336 454.167 22.2451 447.96 Q15.6248 441.754 15.6248 430.964 Q15.6248 426.699 16.7706 422.943 Q17.8846 419.155 20.1444 415.845 Z\" fill=\"#000000\" fill-rule=\"evenodd\" fill-opacity=\"1\" /><path clip-path=\"url(#clip760)\" d=\"M14.5426 407.092 L14.5426 402 Q22.0542 397.225 29.2474 394.87 Q36.4406 392.483 43.5384 392.483 Q50.668 392.483 57.8931 394.87 Q65.1182 397.225 72.5979 402 L72.5979 407.092 Q65.3091 402.859 58.1159 400.79 Q50.8908 398.69 43.5384 398.69 Q36.186 398.69 29.0246 400.79 Q21.8632 402.859 14.5426 407.092 Z\" fill=\"#000000\" fill-rule=\"evenodd\" fill-opacity=\"1\" /><path clip-path=\"url(#clip760)\" d=\"M311.597 12.096 L319.78 12.096 L319.78 72.576 L311.597 72.576 L311.597 12.096 Z\" fill=\"#000000\" fill-rule=\"evenodd\" fill-opacity=\"1\" /><path clip-path=\"url(#clip760)\" d=\"M373.454 45.1919 L373.454 72.576 L366.001 72.576 L366.001 45.4349 Q366.001 38.994 363.489 35.7938 Q360.978 32.5936 355.954 32.5936 Q349.919 32.5936 346.435 36.4419 Q342.951 40.2903 342.951 46.9338 L342.951 72.576 L335.457 72.576 L335.457 27.2059 L342.951 27.2059 L342.951 34.2544 Q345.625 30.163 349.23 28.1376 Q352.876 26.1121 357.615 26.1121 Q365.433 26.1121 369.444 30.9732 Q373.454 35.7938 373.454 45.1919 Z\" fill=\"#000000\" fill-rule=\"evenodd\" fill-opacity=\"1\" /><path clip-path=\"url(#clip760)\" d=\"M411.29 9.54393 L411.29 15.7418 L404.16 15.7418 Q400.15 15.7418 398.57 17.3622 Q397.031 18.9825 397.031 23.1955 L397.031 27.2059 L409.305 27.2059 L409.305 32.9987 L397.031 32.9987 L397.031 72.576 L389.536 72.576 L389.536 32.9987 L382.407 32.9987 L382.407 27.2059 L389.536 27.2059 L389.536 24.0462 Q389.536 16.471 393.061 13.0277 Q396.585 9.54393 404.241 9.54393 L411.29 9.54393 Z\" fill=\"#000000\" fill-rule=\"evenodd\" fill-opacity=\"1\" /><path clip-path=\"url(#clip760)\" d=\"M417.528 9.54393 L424.982 9.54393 L424.982 72.576 L417.528 72.576 L417.528 9.54393 Z\" fill=\"#000000\" fill-rule=\"evenodd\" fill-opacity=\"1\" /><path clip-path=\"url(#clip760)\" d=\"M439.808 54.671 L439.808 27.2059 L447.262 27.2059 L447.262 54.3874 Q447.262 60.8284 449.773 64.0691 Q452.285 67.2693 457.308 67.2693 Q463.344 67.2693 466.828 63.421 Q470.352 59.5726 470.352 52.9291 L470.352 27.2059 L477.806 27.2059 L477.806 72.576 L470.352 72.576 L470.352 65.6084 Q467.638 69.7404 464.033 71.7658 Q460.468 73.7508 455.728 73.7508 Q447.91 73.7508 443.859 68.8897 Q439.808 64.0286 439.808 54.671 M458.564 26.1121 L458.564 26.1121 Z\" fill=\"#000000\" fill-rule=\"evenodd\" fill-opacity=\"1\" /><path clip-path=\"url(#clip760)\" d=\"M531.966 48.0275 L531.966 51.6733 L497.696 51.6733 Q498.182 59.3701 502.314 63.421 Q506.486 67.4314 513.899 67.4314 Q518.193 67.4314 522.203 66.3781 Q526.254 65.3249 530.224 63.2184 L530.224 70.267 Q526.214 71.9684 522.001 72.8596 Q517.788 73.7508 513.454 73.7508 Q502.597 73.7508 496.237 67.4314 Q489.918 61.1119 489.918 50.3365 Q489.918 39.1965 495.913 32.6746 Q501.949 26.1121 512.157 26.1121 Q521.312 26.1121 526.619 32.0264 Q531.966 37.9003 531.966 48.0275 M524.513 45.84 Q524.431 39.7232 521.069 36.0774 Q517.747 32.4315 512.238 32.4315 Q506 32.4315 502.233 35.9558 Q498.506 39.4801 497.939 45.8805 L524.513 45.84 Z\" fill=\"#000000\" fill-rule=\"evenodd\" fill-opacity=\"1\" /><path clip-path=\"url(#clip760)\" d=\"M581.914 45.1919 L581.914 72.576 L574.46 72.576 L574.46 45.4349 Q574.46 38.994 571.949 35.7938 Q569.437 32.5936 564.414 32.5936 Q558.378 32.5936 554.894 36.4419 Q551.411 40.2903 551.411 46.9338 L551.411 72.576 L543.916 72.576 L543.916 27.2059 L551.411 27.2059 L551.411 34.2544 Q554.084 30.163 557.689 28.1376 Q561.335 26.1121 566.075 26.1121 Q573.893 26.1121 577.903 30.9732 Q581.914 35.7938 581.914 45.1919 Z\" fill=\"#000000\" fill-rule=\"evenodd\" fill-opacity=\"1\" /><path clip-path=\"url(#clip760)\" d=\"M629.431 28.9478 L629.431 35.9153 Q626.271 34.1734 623.071 33.3227 Q619.911 32.4315 616.671 32.4315 Q609.419 32.4315 605.409 37.0496 Q601.399 41.6271 601.399 49.9314 Q601.399 58.2358 605.409 62.8538 Q609.419 67.4314 616.671 67.4314 Q619.911 67.4314 623.071 66.5807 Q626.271 65.6895 629.431 63.9476 L629.431 70.8341 Q626.312 72.2924 622.949 73.0216 Q619.628 73.7508 615.86 73.7508 Q605.612 73.7508 599.576 67.3098 Q593.54 60.8689 593.54 49.9314 Q593.54 38.832 599.616 32.472 Q605.733 26.1121 616.347 26.1121 Q619.79 26.1121 623.071 26.8413 Q626.352 27.5299 629.431 28.9478 Z\" fill=\"#000000\" fill-rule=\"evenodd\" fill-opacity=\"1\" /><path clip-path=\"url(#clip760)\" d=\"M681.201 48.0275 L681.201 51.6733 L646.931 51.6733 Q647.417 59.3701 651.549 63.421 Q655.721 67.4314 663.134 67.4314 Q667.428 67.4314 671.439 66.3781 Q675.49 65.3249 679.46 63.2184 L679.46 70.267 Q675.449 71.9684 671.236 72.8596 Q667.023 73.7508 662.689 73.7508 Q651.832 73.7508 645.473 67.4314 Q639.153 61.1119 639.153 50.3365 Q639.153 39.1965 645.148 32.6746 Q651.184 26.1121 661.393 26.1121 Q670.548 26.1121 675.854 32.0264 Q681.201 37.9003 681.201 48.0275 M673.748 45.84 Q673.667 39.7232 670.305 36.0774 Q666.983 32.4315 661.474 32.4315 Q655.235 32.4315 651.468 35.9558 Q647.741 39.4801 647.174 45.8805 L673.748 45.84 Z\" fill=\"#000000\" fill-rule=\"evenodd\" fill-opacity=\"1\" /><path clip-path=\"url(#clip760)\" d=\"M737.388 32.4315 Q731.392 32.4315 727.908 37.1306 Q724.425 41.7891 724.425 49.9314 Q724.425 58.0738 727.868 62.7728 Q731.352 67.4314 737.388 67.4314 Q743.342 67.4314 746.826 62.7323 Q750.31 58.0333 750.31 49.9314 Q750.31 41.8701 746.826 37.1711 Q743.342 32.4315 737.388 32.4315 M737.388 26.1121 Q747.11 26.1121 752.659 32.4315 Q758.209 38.7509 758.209 49.9314 Q758.209 61.0714 752.659 67.4314 Q747.11 73.7508 737.388 73.7508 Q727.625 73.7508 722.075 67.4314 Q716.566 61.0714 716.566 49.9314 Q716.566 38.7509 722.075 32.4315 Q727.625 26.1121 737.388 26.1121 Z\" fill=\"#000000\" fill-rule=\"evenodd\" fill-opacity=\"1\" /><path clip-path=\"url(#clip760)\" d=\"M793.533 9.54393 L793.533 15.7418 L786.403 15.7418 Q782.393 15.7418 780.813 17.3622 Q779.274 18.9825 779.274 23.1955 L779.274 27.2059 L791.548 27.2059 L791.548 32.9987 L779.274 32.9987 L779.274 72.576 L771.78 72.576 L771.78 32.9987 L764.65 32.9987 L764.65 27.2059 L771.78 27.2059 L771.78 24.0462 Q771.78 16.471 775.304 13.0277 Q778.828 9.54393 786.484 9.54393 L793.533 9.54393 Z\" fill=\"#000000\" fill-rule=\"evenodd\" fill-opacity=\"1\" /><path clip-path=\"url(#clip760)\" d=\"M833.353 65.7705 L833.353 89.8329 L825.859 89.8329 L825.859 27.2059 L833.353 27.2059 L833.353 34.0924 Q835.703 30.0415 839.268 28.0971 Q842.873 26.1121 847.856 26.1121 Q856.12 26.1121 861.264 32.6746 Q866.449 39.2371 866.449 49.9314 Q866.449 60.6258 861.264 67.1883 Q856.12 73.7508 847.856 73.7508 Q842.873 73.7508 839.268 71.8063 Q835.703 69.8214 833.353 65.7705 M858.712 49.9314 Q858.712 41.7081 855.309 37.0496 Q851.947 32.3505 846.033 32.3505 Q840.118 32.3505 836.716 37.0496 Q833.353 41.7081 833.353 49.9314 Q833.353 58.1548 836.716 62.8538 Q840.118 67.5124 846.033 67.5124 Q851.947 67.5124 855.309 62.8538 Q858.712 58.1548 858.712 49.9314 Z\" fill=\"#000000\" fill-rule=\"evenodd\" fill-opacity=\"1\" /><path clip-path=\"url(#clip760)\" d=\"M878.805 27.2059 L886.258 27.2059 L886.258 72.576 L878.805 72.576 L878.805 27.2059 M878.805 9.54393 L886.258 9.54393 L886.258 18.9825 L878.805 18.9825 L878.805 9.54393 Z\" fill=\"#000000\" fill-rule=\"evenodd\" fill-opacity=\"1\" /><path clip-path=\"url(#clip760)\" d=\"M928.145 34.1734 Q926.889 33.4443 925.39 33.1202 Q923.932 32.7556 922.149 32.7556 Q915.83 32.7556 912.427 36.8875 Q909.065 40.9789 909.065 48.6757 L909.065 72.576 L901.571 72.576 L901.571 27.2059 L909.065 27.2059 L909.065 34.2544 Q911.414 30.1225 915.182 28.1376 Q918.949 26.1121 924.337 26.1121 Q925.106 26.1121 926.038 26.2337 Q926.97 26.3147 928.104 26.5172 L928.145 34.1734 Z\" fill=\"#000000\" fill-rule=\"evenodd\" fill-opacity=\"1\" /><path clip-path=\"url(#clip760)\" d=\"M956.582 49.7694 Q947.548 49.7694 944.065 51.8354 Q940.581 53.9013 940.581 58.8839 Q940.581 62.8538 943.173 65.2034 Q945.807 67.5124 950.303 67.5124 Q956.501 67.5124 960.228 63.1374 Q963.995 58.7219 963.995 51.4303 L963.995 49.7694 L956.582 49.7694 M971.449 46.6907 L971.449 72.576 L963.995 72.576 L963.995 65.6895 Q961.443 69.8214 957.635 71.8063 Q953.827 73.7508 948.318 73.7508 Q941.351 73.7508 937.219 69.8619 Q933.127 65.9325 933.127 59.3701 Q933.127 51.7138 938.231 47.825 Q943.376 43.9361 953.544 43.9361 L963.995 43.9361 L963.995 43.2069 Q963.995 38.0623 960.592 35.2672 Q957.23 32.4315 951.113 32.4315 Q947.224 32.4315 943.538 33.3632 Q939.852 34.295 936.449 36.1584 L936.449 29.2718 Q940.54 27.692 944.389 26.9223 Q948.237 26.1121 951.883 26.1121 Q961.727 26.1121 966.588 31.2163 Q971.449 36.3204 971.449 46.6907 Z\" fill=\"#000000\" fill-rule=\"evenodd\" fill-opacity=\"1\" /><path clip-path=\"url(#clip760)\" d=\"M994.174 14.324 L994.174 27.2059 L1009.53 27.2059 L1009.53 32.9987 L994.174 32.9987 L994.174 57.6282 Q994.174 63.1779 995.673 64.7578 Q997.213 66.3376 1001.87 66.3376 L1009.53 66.3376 L1009.53 72.576 L1001.87 72.576 Q993.243 72.576 989.961 69.3758 Q986.68 66.1351 986.68 57.6282 L986.68 32.9987 L981.211 32.9987 L981.211 27.2059 L986.68 27.2059 L986.68 14.324 L994.174 14.324 Z\" fill=\"#000000\" fill-rule=\"evenodd\" fill-opacity=\"1\" /><path clip-path=\"url(#clip760)\" d=\"M1058.14 48.0275 L1058.14 51.6733 L1023.87 51.6733 Q1024.35 59.3701 1028.49 63.421 Q1032.66 67.4314 1040.07 67.4314 Q1044.37 67.4314 1048.38 66.3781 Q1052.43 65.3249 1056.4 63.2184 L1056.4 70.267 Q1052.39 71.9684 1048.17 72.8596 Q1043.96 73.7508 1039.63 73.7508 Q1028.77 73.7508 1022.41 67.4314 Q1016.09 61.1119 1016.09 50.3365 Q1016.09 39.1965 1022.09 32.6746 Q1028.12 26.1121 1038.33 26.1121 Q1047.48 26.1121 1052.79 32.0264 Q1058.14 37.9003 1058.14 48.0275 M1050.68 45.84 Q1050.6 39.7232 1047.24 36.0774 Q1043.92 32.4315 1038.41 32.4315 Q1032.17 32.4315 1028.4 35.9558 Q1024.68 39.4801 1024.11 45.8805 L1050.68 45.84 Z\" fill=\"#000000\" fill-rule=\"evenodd\" fill-opacity=\"1\" /><path clip-path=\"url(#clip760)\" d=\"M1103.95 65.7705 L1103.95 89.8329 L1096.46 89.8329 L1096.46 27.2059 L1103.95 27.2059 L1103.95 34.0924 Q1106.3 30.0415 1109.87 28.0971 Q1113.47 26.1121 1118.46 26.1121 Q1126.72 26.1121 1131.86 32.6746 Q1137.05 39.2371 1137.05 49.9314 Q1137.05 60.6258 1131.86 67.1883 Q1126.72 73.7508 1118.46 73.7508 Q1113.47 73.7508 1109.87 71.8063 Q1106.3 69.8214 1103.95 65.7705 M1129.31 49.9314 Q1129.31 41.7081 1125.91 37.0496 Q1122.55 32.3505 1116.63 32.3505 Q1110.72 32.3505 1107.32 37.0496 Q1103.95 41.7081 1103.95 49.9314 Q1103.95 58.1548 1107.32 62.8538 Q1110.72 67.5124 1116.63 67.5124 Q1122.55 67.5124 1125.91 62.8538 Q1129.31 58.1548 1129.31 49.9314 Z\" fill=\"#000000\" fill-rule=\"evenodd\" fill-opacity=\"1\" /><path clip-path=\"url(#clip760)\" d=\"M1166.99 32.4315 Q1160.99 32.4315 1157.51 37.1306 Q1154.02 41.7891 1154.02 49.9314 Q1154.02 58.0738 1157.47 62.7728 Q1160.95 67.4314 1166.99 67.4314 Q1172.94 67.4314 1176.42 62.7323 Q1179.91 58.0333 1179.91 49.9314 Q1179.91 41.8701 1176.42 37.1711 Q1172.94 32.4315 1166.99 32.4315 M1166.99 26.1121 Q1176.71 26.1121 1182.26 32.4315 Q1187.81 38.7509 1187.81 49.9314 Q1187.81 61.0714 1182.26 67.4314 Q1176.71 73.7508 1166.99 73.7508 Q1157.22 73.7508 1151.67 67.4314 Q1146.16 61.0714 1146.16 49.9314 Q1146.16 38.7509 1151.67 32.4315 Q1157.22 26.1121 1166.99 26.1121 Z\" fill=\"#000000\" fill-rule=\"evenodd\" fill-opacity=\"1\" /><path clip-path=\"url(#clip760)\" d=\"M1207.37 65.7705 L1207.37 89.8329 L1199.88 89.8329 L1199.88 27.2059 L1207.37 27.2059 L1207.37 34.0924 Q1209.72 30.0415 1213.29 28.0971 Q1216.89 26.1121 1221.88 26.1121 Q1230.14 26.1121 1235.28 32.6746 Q1240.47 39.2371 1240.47 49.9314 Q1240.47 60.6258 1235.28 67.1883 Q1230.14 73.7508 1221.88 73.7508 Q1216.89 73.7508 1213.29 71.8063 Q1209.72 69.8214 1207.37 65.7705 M1232.73 49.9314 Q1232.73 41.7081 1229.33 37.0496 Q1225.97 32.3505 1220.05 32.3505 Q1214.14 32.3505 1210.74 37.0496 Q1207.37 41.7081 1207.37 49.9314 Q1207.37 58.1548 1210.74 62.8538 Q1214.14 67.5124 1220.05 67.5124 Q1225.97 67.5124 1229.33 62.8538 Q1232.73 58.1548 1232.73 49.9314 Z\" fill=\"#000000\" fill-rule=\"evenodd\" fill-opacity=\"1\" /><path clip-path=\"url(#clip760)\" d=\"M1252.05 54.671 L1252.05 27.2059 L1259.51 27.2059 L1259.51 54.3874 Q1259.51 60.8284 1262.02 64.0691 Q1264.53 67.2693 1269.55 67.2693 Q1275.59 67.2693 1279.07 63.421 Q1282.6 59.5726 1282.6 52.9291 L1282.6 27.2059 L1290.05 27.2059 L1290.05 72.576 L1282.6 72.576 L1282.6 65.6084 Q1279.88 69.7404 1276.28 71.7658 Q1272.71 73.7508 1267.97 73.7508 Q1260.16 73.7508 1256.11 68.8897 Q1252.05 64.0286 1252.05 54.671 M1270.81 26.1121 L1270.81 26.1121 Z\" fill=\"#000000\" fill-rule=\"evenodd\" fill-opacity=\"1\" /><path clip-path=\"url(#clip760)\" d=\"M1305.41 9.54393 L1312.86 9.54393 L1312.86 72.576 L1305.41 72.576 L1305.41 9.54393 Z\" fill=\"#000000\" fill-rule=\"evenodd\" fill-opacity=\"1\" /><path clip-path=\"url(#clip760)\" d=\"M1349.07 49.7694 Q1340.04 49.7694 1336.56 51.8354 Q1333.07 53.9013 1333.07 58.8839 Q1333.07 62.8538 1335.67 65.2034 Q1338.3 67.5124 1342.8 67.5124 Q1348.99 67.5124 1352.72 63.1374 Q1356.49 58.7219 1356.49 51.4303 L1356.49 49.7694 L1349.07 49.7694 M1363.94 46.6907 L1363.94 72.576 L1356.49 72.576 L1356.49 65.6895 Q1353.94 69.8214 1350.13 71.8063 Q1346.32 73.7508 1340.81 73.7508 Q1333.84 73.7508 1329.71 69.8619 Q1325.62 65.9325 1325.62 59.3701 Q1325.62 51.7138 1330.72 47.825 Q1335.87 43.9361 1346.04 43.9361 L1356.49 43.9361 L1356.49 43.2069 Q1356.49 38.0623 1353.08 35.2672 Q1349.72 32.4315 1343.61 32.4315 Q1339.72 32.4315 1336.03 33.3632 Q1332.34 34.295 1328.94 36.1584 L1328.94 29.2718 Q1333.03 27.692 1336.88 26.9223 Q1340.73 26.1121 1344.38 26.1121 Q1354.22 26.1121 1359.08 31.2163 Q1363.94 36.3204 1363.94 46.6907 Z\" fill=\"#000000\" fill-rule=\"evenodd\" fill-opacity=\"1\" /><path clip-path=\"url(#clip760)\" d=\"M1386.67 14.324 L1386.67 27.2059 L1402.02 27.2059 L1402.02 32.9987 L1386.67 32.9987 L1386.67 57.6282 Q1386.67 63.1779 1388.17 64.7578 Q1389.7 66.3376 1394.36 66.3376 L1402.02 66.3376 L1402.02 72.576 L1394.36 72.576 Q1385.73 72.576 1382.45 69.3758 Q1379.17 66.1351 1379.17 57.6282 L1379.17 32.9987 L1373.7 32.9987 L1373.7 27.2059 L1379.17 27.2059 L1379.17 14.324 L1386.67 14.324 Z\" fill=\"#000000\" fill-rule=\"evenodd\" fill-opacity=\"1\" /><path clip-path=\"url(#clip760)\" d=\"M1411.82 27.2059 L1419.28 27.2059 L1419.28 72.576 L1411.82 72.576 L1411.82 27.2059 M1411.82 9.54393 L1419.28 9.54393 L1419.28 18.9825 L1411.82 18.9825 L1411.82 9.54393 Z\" fill=\"#000000\" fill-rule=\"evenodd\" fill-opacity=\"1\" /><path clip-path=\"url(#clip760)\" d=\"M1452.45 32.4315 Q1446.46 32.4315 1442.97 37.1306 Q1439.49 41.7891 1439.49 49.9314 Q1439.49 58.0738 1442.93 62.7728 Q1446.42 67.4314 1452.45 67.4314 Q1458.41 67.4314 1461.89 62.7323 Q1465.38 58.0333 1465.38 49.9314 Q1465.38 41.8701 1461.89 37.1711 Q1458.41 32.4315 1452.45 32.4315 M1452.45 26.1121 Q1462.18 26.1121 1467.73 32.4315 Q1473.27 38.7509 1473.27 49.9314 Q1473.27 61.0714 1467.73 67.4314 Q1462.18 73.7508 1452.45 73.7508 Q1442.69 73.7508 1437.14 67.4314 Q1431.63 61.0714 1431.63 49.9314 Q1431.63 38.7509 1437.14 32.4315 Q1442.69 26.1121 1452.45 26.1121 Z\" fill=\"#000000\" fill-rule=\"evenodd\" fill-opacity=\"1\" /><path clip-path=\"url(#clip760)\" d=\"M1523.34 45.1919 L1523.34 72.576 L1515.89 72.576 L1515.89 45.4349 Q1515.89 38.994 1513.38 35.7938 Q1510.87 32.5936 1505.84 32.5936 Q1499.81 32.5936 1496.32 36.4419 Q1492.84 40.2903 1492.84 46.9338 L1492.84 72.576 L1485.35 72.576 L1485.35 27.2059 L1492.84 27.2059 L1492.84 34.2544 Q1495.51 30.163 1499.12 28.1376 Q1502.77 26.1121 1507.5 26.1121 Q1515.32 26.1121 1519.33 30.9732 Q1523.34 35.7938 1523.34 45.1919 Z\" fill=\"#000000\" fill-rule=\"evenodd\" fill-opacity=\"1\" /><path clip-path=\"url(#clip760)\" d=\"M1582.16 32.4315 Q1576.17 32.4315 1572.68 37.1306 Q1569.2 41.7891 1569.2 49.9314 Q1569.2 58.0738 1572.64 62.7728 Q1576.13 67.4314 1582.16 67.4314 Q1588.12 67.4314 1591.6 62.7323 Q1595.09 58.0333 1595.09 49.9314 Q1595.09 41.8701 1591.6 37.1711 Q1588.12 32.4315 1582.16 32.4315 M1582.16 26.1121 Q1591.89 26.1121 1597.43 32.4315 Q1602.98 38.7509 1602.98 49.9314 Q1602.98 61.0714 1597.43 67.4314 Q1591.89 73.7508 1582.16 73.7508 Q1572.4 73.7508 1566.85 67.4314 Q1561.34 61.0714 1561.34 49.9314 Q1561.34 38.7509 1566.85 32.4315 Q1572.4 26.1121 1582.16 26.1121 Z\" fill=\"#000000\" fill-rule=\"evenodd\" fill-opacity=\"1\" /><path clip-path=\"url(#clip760)\" d=\"M1653.05 45.1919 L1653.05 72.576 L1645.6 72.576 L1645.6 45.4349 Q1645.6 38.994 1643.09 35.7938 Q1640.58 32.5936 1635.55 32.5936 Q1629.52 32.5936 1626.03 36.4419 Q1622.55 40.2903 1622.55 46.9338 L1622.55 72.576 L1615.06 72.576 L1615.06 27.2059 L1622.55 27.2059 L1622.55 34.2544 Q1625.22 30.163 1628.83 28.1376 Q1632.48 26.1121 1637.21 26.1121 Q1645.03 26.1121 1649.04 30.9732 Q1653.05 35.7938 1653.05 45.1919 Z\" fill=\"#000000\" fill-rule=\"evenodd\" fill-opacity=\"1\" /><path clip-path=\"url(#clip760)\" d=\"M1724.15 49.3643 Q1724.15 41.2625 1720.79 36.8065 Q1717.46 32.3505 1711.43 32.3505 Q1705.43 32.3505 1702.07 36.8065 Q1698.75 41.2625 1698.75 49.3643 Q1698.75 57.4256 1702.07 61.8816 Q1705.43 66.3376 1711.43 66.3376 Q1717.46 66.3376 1720.79 61.8816 Q1724.15 57.4256 1724.15 49.3643 M1731.6 66.9452 Q1731.6 78.5308 1726.46 84.1616 Q1721.31 89.8329 1710.7 89.8329 Q1706.77 89.8329 1703.29 89.2252 Q1699.8 88.6581 1696.52 87.4428 L1696.52 80.1917 Q1699.8 81.9741 1703 82.8248 Q1706.2 83.6755 1709.52 83.6755 Q1716.86 83.6755 1720.5 79.8271 Q1724.15 76.0193 1724.15 68.282 L1724.15 64.5957 Q1721.84 68.6061 1718.23 70.5911 Q1714.63 72.576 1709.6 72.576 Q1701.26 72.576 1696.16 66.2161 Q1691.05 59.8562 1691.05 49.3643 Q1691.05 38.832 1696.16 32.472 Q1701.26 26.1121 1709.6 26.1121 Q1714.63 26.1121 1718.23 28.0971 Q1721.84 30.082 1724.15 34.0924 L1724.15 27.2059 L1731.6 27.2059 L1731.6 66.9452 Z\" fill=\"#000000\" fill-rule=\"evenodd\" fill-opacity=\"1\" /><path clip-path=\"url(#clip760)\" d=\"M1746.95 9.54393 L1754.41 9.54393 L1754.41 72.576 L1746.95 72.576 L1746.95 9.54393 Z\" fill=\"#000000\" fill-rule=\"evenodd\" fill-opacity=\"1\" /><path clip-path=\"url(#clip760)\" d=\"M1787.58 32.4315 Q1781.59 32.4315 1778.11 37.1306 Q1774.62 41.7891 1774.62 49.9314 Q1774.62 58.0738 1778.06 62.7728 Q1781.55 67.4314 1787.58 67.4314 Q1793.54 67.4314 1797.02 62.7323 Q1800.51 58.0333 1800.51 49.9314 Q1800.51 41.8701 1797.02 37.1711 Q1793.54 32.4315 1787.58 32.4315 M1787.58 26.1121 Q1797.31 26.1121 1802.86 32.4315 Q1808.41 38.7509 1808.41 49.9314 Q1808.41 61.0714 1802.86 67.4314 Q1797.31 73.7508 1787.58 73.7508 Q1777.82 73.7508 1772.27 67.4314 Q1766.76 61.0714 1766.76 49.9314 Q1766.76 38.7509 1772.27 32.4315 Q1777.82 26.1121 1787.58 26.1121 Z\" fill=\"#000000\" fill-rule=\"evenodd\" fill-opacity=\"1\" /><path clip-path=\"url(#clip760)\" d=\"M1853.33 49.9314 Q1853.33 41.7081 1849.93 37.0496 Q1846.57 32.3505 1840.65 32.3505 Q1834.74 32.3505 1831.33 37.0496 Q1827.97 41.7081 1827.97 49.9314 Q1827.97 58.1548 1831.33 62.8538 Q1834.74 67.5124 1840.65 67.5124 Q1846.57 67.5124 1849.93 62.8538 Q1853.33 58.1548 1853.33 49.9314 M1827.97 34.0924 Q1830.32 30.0415 1833.89 28.0971 Q1837.49 26.1121 1842.47 26.1121 Q1850.74 26.1121 1855.88 32.6746 Q1861.07 39.2371 1861.07 49.9314 Q1861.07 60.6258 1855.88 67.1883 Q1850.74 73.7508 1842.47 73.7508 Q1837.49 73.7508 1833.89 71.8063 Q1830.32 69.8214 1827.97 65.7705 L1827.97 72.576 L1820.48 72.576 L1820.48 9.54393 L1827.97 9.54393 L1827.97 34.0924 Z\" fill=\"#000000\" fill-rule=\"evenodd\" fill-opacity=\"1\" /><path clip-path=\"url(#clip760)\" d=\"M1894.04 49.7694 Q1885.01 49.7694 1881.52 51.8354 Q1878.04 53.9013 1878.04 58.8839 Q1878.04 62.8538 1880.63 65.2034 Q1883.27 67.5124 1887.76 67.5124 Q1893.96 67.5124 1897.69 63.1374 Q1901.46 58.7219 1901.46 51.4303 L1901.46 49.7694 L1894.04 49.7694 M1908.91 46.6907 L1908.91 72.576 L1901.46 72.576 L1901.46 65.6895 Q1898.9 69.8214 1895.1 71.8063 Q1891.29 73.7508 1885.78 73.7508 Q1878.81 73.7508 1874.68 69.8619 Q1870.59 65.9325 1870.59 59.3701 Q1870.59 51.7138 1875.69 47.825 Q1880.84 43.9361 1891 43.9361 L1901.46 43.9361 L1901.46 43.2069 Q1901.46 38.0623 1898.05 35.2672 Q1894.69 32.4315 1888.57 32.4315 Q1884.68 32.4315 1881 33.3632 Q1877.31 34.295 1873.91 36.1584 L1873.91 29.2718 Q1878 27.692 1881.85 26.9223 Q1885.7 26.1121 1889.34 26.1121 Q1899.19 26.1121 1904.05 31.2163 Q1908.91 36.3204 1908.91 46.6907 Z\" fill=\"#000000\" fill-rule=\"evenodd\" fill-opacity=\"1\" /><path clip-path=\"url(#clip760)\" d=\"M1924.26 9.54393 L1931.72 9.54393 L1931.72 72.576 L1924.26 72.576 L1924.26 9.54393 Z\" fill=\"#000000\" fill-rule=\"evenodd\" fill-opacity=\"1\" /><path clip-path=\"url(#clip760)\" d=\"M1969.35 27.2059 L1976.8 27.2059 L1986.12 62.6108 L1995.4 27.2059 L2004.19 27.2059 L2013.5 62.6108 L2022.78 27.2059 L2030.23 27.2059 L2018.36 72.576 L2009.57 72.576 L1999.81 35.3887 L1990.01 72.576 L1981.22 72.576 L1969.35 27.2059 Z\" fill=\"#000000\" fill-rule=\"evenodd\" fill-opacity=\"1\" /><path clip-path=\"url(#clip760)\" d=\"M2062.15 49.7694 Q2053.12 49.7694 2049.64 51.8354 Q2046.15 53.9013 2046.15 58.8839 Q2046.15 62.8538 2048.75 65.2034 Q2051.38 67.5124 2055.88 67.5124 Q2062.07 67.5124 2065.8 63.1374 Q2069.57 58.7219 2069.57 51.4303 L2069.57 49.7694 L2062.15 49.7694 M2077.02 46.6907 L2077.02 72.576 L2069.57 72.576 L2069.57 65.6895 Q2067.02 69.8214 2063.21 71.8063 Q2059.4 73.7508 2053.89 73.7508 Q2046.92 73.7508 2042.79 69.8619 Q2038.7 65.9325 2038.7 59.3701 Q2038.7 51.7138 2043.8 47.825 Q2048.95 43.9361 2059.12 43.9361 L2069.57 43.9361 L2069.57 43.2069 Q2069.57 38.0623 2066.17 35.2672 Q2062.8 32.4315 2056.69 32.4315 Q2052.8 32.4315 2049.11 33.3632 Q2045.42 34.295 2042.02 36.1584 L2042.02 29.2718 Q2046.11 27.692 2049.96 26.9223 Q2053.81 26.1121 2057.46 26.1121 Q2067.3 26.1121 2072.16 31.2163 Q2077.02 36.3204 2077.02 46.6907 Z\" fill=\"#000000\" fill-rule=\"evenodd\" fill-opacity=\"1\" /><path clip-path=\"url(#clip760)\" d=\"M2118.66 34.1734 Q2117.41 33.4443 2115.91 33.1202 Q2114.45 32.7556 2112.67 32.7556 Q2106.35 32.7556 2102.95 36.8875 Q2099.59 40.9789 2099.59 48.6757 L2099.59 72.576 L2092.09 72.576 L2092.09 27.2059 L2099.59 27.2059 L2099.59 34.2544 Q2101.93 30.1225 2105.7 28.1376 Q2109.47 26.1121 2114.86 26.1121 Q2115.63 26.1121 2116.56 26.2337 Q2117.49 26.3147 2118.62 26.5172 L2118.66 34.1734 Z\" fill=\"#000000\" fill-rule=\"evenodd\" fill-opacity=\"1\" /><path clip-path=\"url(#clip760)\" d=\"M2160.35 35.9153 Q2163.14 30.8922 2167.03 28.5022 Q2170.92 26.1121 2176.19 26.1121 Q2183.28 26.1121 2187.13 31.0947 Q2190.97 36.0368 2190.97 45.1919 L2190.97 72.576 L2183.48 72.576 L2183.48 45.4349 Q2183.48 38.913 2181.17 35.7533 Q2178.86 32.5936 2174.12 32.5936 Q2168.33 32.5936 2164.97 36.4419 Q2161.6 40.2903 2161.6 46.9338 L2161.6 72.576 L2154.11 72.576 L2154.11 45.4349 Q2154.11 38.8725 2151.8 35.7533 Q2149.49 32.5936 2144.67 32.5936 Q2138.96 32.5936 2135.6 36.4824 Q2132.24 40.3308 2132.24 46.9338 L2132.24 72.576 L2124.74 72.576 L2124.74 27.2059 L2132.24 27.2059 L2132.24 34.2544 Q2134.79 30.082 2138.35 28.0971 Q2141.92 26.1121 2146.82 26.1121 Q2151.76 26.1121 2155.2 28.6237 Q2158.69 31.1352 2160.35 35.9153 Z\" fill=\"#000000\" fill-rule=\"evenodd\" fill-opacity=\"1\" /><path clip-path=\"url(#clip760)\" d=\"M2205.84 27.2059 L2213.29 27.2059 L2213.29 72.576 L2205.84 72.576 L2205.84 27.2059 M2205.84 9.54393 L2213.29 9.54393 L2213.29 18.9825 L2205.84 18.9825 L2205.84 9.54393 Z\" fill=\"#000000\" fill-rule=\"evenodd\" fill-opacity=\"1\" /><path clip-path=\"url(#clip760)\" d=\"M2266.6 45.1919 L2266.6 72.576 L2259.15 72.576 L2259.15 45.4349 Q2259.15 38.994 2256.64 35.7938 Q2254.13 32.5936 2249.1 32.5936 Q2243.07 32.5936 2239.58 36.4419 Q2236.1 40.2903 2236.1 46.9338 L2236.1 72.576 L2228.61 72.576 L2228.61 27.2059 L2236.1 27.2059 L2236.1 34.2544 Q2238.77 30.163 2242.38 28.1376 Q2246.03 26.1121 2250.76 26.1121 Q2258.58 26.1121 2262.59 30.9732 Q2266.6 35.7938 2266.6 45.1919 Z\" fill=\"#000000\" fill-rule=\"evenodd\" fill-opacity=\"1\" /><path clip-path=\"url(#clip760)\" d=\"M2311.33 49.3643 Q2311.33 41.2625 2307.96 36.8065 Q2304.64 32.3505 2298.61 32.3505 Q2292.61 32.3505 2289.25 36.8065 Q2285.93 41.2625 2285.93 49.3643 Q2285.93 57.4256 2289.25 61.8816 Q2292.61 66.3376 2298.61 66.3376 Q2304.64 66.3376 2307.96 61.8816 Q2311.33 57.4256 2311.33 49.3643 M2318.78 66.9452 Q2318.78 78.5308 2313.63 84.1616 Q2308.49 89.8329 2297.88 89.8329 Q2293.95 89.8329 2290.46 89.2252 Q2286.98 88.6581 2283.7 87.4428 L2283.7 80.1917 Q2286.98 81.9741 2290.18 82.8248 Q2293.38 83.6755 2296.7 83.6755 Q2304.03 83.6755 2307.68 79.8271 Q2311.33 76.0193 2311.33 68.282 L2311.33 64.5957 Q2309.02 68.6061 2305.41 70.5911 Q2301.81 72.576 2296.78 72.576 Q2288.44 72.576 2283.33 66.2161 Q2278.23 59.8562 2278.23 49.3643 Q2278.23 38.832 2283.33 32.472 Q2288.44 26.1121 2296.78 26.1121 Q2301.81 26.1121 2305.41 28.0971 Q2309.02 30.082 2311.33 34.0924 L2311.33 27.2059 L2318.78 27.2059 L2318.78 66.9452 Z\" fill=\"#000000\" fill-rule=\"evenodd\" fill-opacity=\"1\" /><polyline clip-path=\"url(#clip762)\" style=\"stroke:#009af9; stroke-linecap:butt; stroke-linejoin:round; stroke-width:4; stroke-opacity:1; fill:none\" points=\"\n",
       "  336.351,1374.46 1424.36,1287.71 1641.96,1027.45 2077.16,680.431 2277.36,420.17 2294.03,159.909 \n",
       "  \"/>\n",
       "<circle clip-path=\"url(#clip762)\" cx=\"336.351\" cy=\"1374.46\" r=\"14\" fill=\"#e26f46\" fill-rule=\"evenodd\" fill-opacity=\"1\" stroke=\"#000000\" stroke-opacity=\"1\" stroke-width=\"3.2\"/>\n",
       "<circle clip-path=\"url(#clip762)\" cx=\"1424.36\" cy=\"1287.71\" r=\"14\" fill=\"#e26f46\" fill-rule=\"evenodd\" fill-opacity=\"1\" stroke=\"#000000\" stroke-opacity=\"1\" stroke-width=\"3.2\"/>\n",
       "<circle clip-path=\"url(#clip762)\" cx=\"1641.96\" cy=\"1027.45\" r=\"14\" fill=\"#e26f46\" fill-rule=\"evenodd\" fill-opacity=\"1\" stroke=\"#000000\" stroke-opacity=\"1\" stroke-width=\"3.2\"/>\n",
       "<circle clip-path=\"url(#clip762)\" cx=\"2077.16\" cy=\"680.431\" r=\"14\" fill=\"#e26f46\" fill-rule=\"evenodd\" fill-opacity=\"1\" stroke=\"#000000\" stroke-opacity=\"1\" stroke-width=\"3.2\"/>\n",
       "<circle clip-path=\"url(#clip762)\" cx=\"2277.36\" cy=\"420.17\" r=\"14\" fill=\"#e26f46\" fill-rule=\"evenodd\" fill-opacity=\"1\" stroke=\"#000000\" stroke-opacity=\"1\" stroke-width=\"3.2\"/>\n",
       "<circle clip-path=\"url(#clip762)\" cx=\"2294.03\" cy=\"159.909\" r=\"14\" fill=\"#e26f46\" fill-rule=\"evenodd\" fill-opacity=\"1\" stroke=\"#000000\" stroke-opacity=\"1\" stroke-width=\"3.2\"/>\n",
       "<path clip-path=\"url(#clip760)\" d=\"\n",
       "M1914.03 321.906 L2283.58 321.906 L2283.58 166.386 L1914.03 166.386  Z\n",
       "  \" fill=\"#ffffff\" fill-rule=\"evenodd\" fill-opacity=\"1\"/>\n",
       "<polyline clip-path=\"url(#clip760)\" style=\"stroke:#000000; stroke-linecap:butt; stroke-linejoin:round; stroke-width:4; stroke-opacity:1; fill:none\" points=\"\n",
       "  1914.03,321.906 2283.58,321.906 2283.58,166.386 1914.03,166.386 1914.03,321.906 \n",
       "  \"/>\n",
       "<polyline clip-path=\"url(#clip760)\" style=\"stroke:#009af9; stroke-linecap:butt; stroke-linejoin:round; stroke-width:4; stroke-opacity:1; fill:none\" points=\"\n",
       "  1937.09,218.226 2075.43,218.226 \n",
       "  \"/>\n",
       "<path clip-path=\"url(#clip760)\" d=\"M2098.49 199.488 L2102.75 199.488 L2102.75 235.506 L2098.49 235.506 L2098.49 199.488 Z\" fill=\"#000000\" fill-rule=\"evenodd\" fill-opacity=\"1\" /><path clip-path=\"url(#clip760)\" d=\"M2111.66 209.58 L2115.92 209.58 L2115.92 235.506 L2111.66 235.506 L2111.66 209.58 M2111.66 199.488 L2115.92 199.488 L2115.92 204.881 L2111.66 204.881 L2111.66 199.488 Z\" fill=\"#000000\" fill-rule=\"evenodd\" fill-opacity=\"1\" /><path clip-path=\"url(#clip760)\" d=\"M2146.38 219.858 L2146.38 235.506 L2142.12 235.506 L2142.12 219.997 Q2142.12 216.317 2140.69 214.488 Q2139.25 212.659 2136.38 212.659 Q2132.93 212.659 2130.94 214.858 Q2128.95 217.057 2128.95 220.854 L2128.95 235.506 L2124.67 235.506 L2124.67 209.58 L2128.95 209.58 L2128.95 213.608 Q2130.48 211.27 2132.54 210.113 Q2134.62 208.955 2137.33 208.955 Q2141.8 208.955 2144.09 211.733 Q2146.38 214.488 2146.38 219.858 Z\" fill=\"#000000\" fill-rule=\"evenodd\" fill-opacity=\"1\" /><path clip-path=\"url(#clip760)\" d=\"M2177.05 221.479 L2177.05 223.562 L2157.47 223.562 Q2157.75 227.96 2160.11 230.275 Q2162.49 232.566 2166.73 232.566 Q2169.18 232.566 2171.48 231.965 Q2173.79 231.363 2176.06 230.159 L2176.06 234.187 Q2173.77 235.159 2171.36 235.668 Q2168.95 236.178 2166.48 236.178 Q2160.27 236.178 2156.64 232.566 Q2153.03 228.955 2153.03 222.798 Q2153.03 216.432 2156.45 212.705 Q2159.9 208.955 2165.73 208.955 Q2170.97 208.955 2174 212.335 Q2177.05 215.692 2177.05 221.479 M2172.8 220.229 Q2172.75 216.733 2170.83 214.65 Q2168.93 212.567 2165.78 212.567 Q2162.22 212.567 2160.06 214.58 Q2157.93 216.594 2157.61 220.252 L2172.8 220.229 Z\" fill=\"#000000\" fill-rule=\"evenodd\" fill-opacity=\"1\" /><circle clip-path=\"url(#clip760)\" cx=\"2006.26\" cy=\"270.066\" r=\"23\" fill=\"#e26f46\" fill-rule=\"evenodd\" fill-opacity=\"1\" stroke=\"#000000\" stroke-opacity=\"1\" stroke-width=\"5.12\"/>\n",
       "<path clip-path=\"url(#clip760)\" d=\"M2102.77 283.457 L2102.77 297.207 L2098.49 297.207 L2098.49 261.42 L2102.77 261.42 L2102.77 265.356 Q2104.11 263.041 2106.15 261.93 Q2108.21 260.795 2111.06 260.795 Q2115.78 260.795 2118.72 264.545 Q2121.68 268.295 2121.68 274.407 Q2121.68 280.518 2118.72 284.268 Q2115.78 288.018 2111.06 288.018 Q2108.21 288.018 2106.15 286.906 Q2104.11 285.772 2102.77 283.457 M2117.26 274.407 Q2117.26 269.707 2115.32 267.045 Q2113.4 264.36 2110.02 264.36 Q2106.64 264.36 2104.69 267.045 Q2102.77 269.707 2102.77 274.407 Q2102.77 279.106 2104.69 281.791 Q2106.64 284.453 2110.02 284.453 Q2113.4 284.453 2115.32 281.791 Q2117.26 279.106 2117.26 274.407 Z\" fill=\"#000000\" fill-rule=\"evenodd\" fill-opacity=\"1\" /><path clip-path=\"url(#clip760)\" d=\"M2138.79 264.407 Q2135.36 264.407 2133.37 267.092 Q2131.38 269.754 2131.38 274.407 Q2131.38 279.059 2133.35 281.744 Q2135.34 284.406 2138.79 284.406 Q2142.19 284.406 2144.18 281.721 Q2146.17 279.036 2146.17 274.407 Q2146.17 269.8 2144.18 267.115 Q2142.19 264.407 2138.79 264.407 M2138.79 260.795 Q2144.35 260.795 2147.52 264.407 Q2150.69 268.018 2150.69 274.407 Q2150.69 280.772 2147.52 284.406 Q2144.35 288.018 2138.79 288.018 Q2133.21 288.018 2130.04 284.406 Q2126.89 280.772 2126.89 274.407 Q2126.89 268.018 2130.04 264.407 Q2133.21 260.795 2138.79 260.795 Z\" fill=\"#000000\" fill-rule=\"evenodd\" fill-opacity=\"1\" /><path clip-path=\"url(#clip760)\" d=\"M2157.75 261.42 L2162.01 261.42 L2162.01 287.346 L2157.75 287.346 L2157.75 261.42 M2157.75 251.328 L2162.01 251.328 L2162.01 256.721 L2157.75 256.721 L2157.75 251.328 Z\" fill=\"#000000\" fill-rule=\"evenodd\" fill-opacity=\"1\" /><path clip-path=\"url(#clip760)\" d=\"M2192.47 271.698 L2192.47 287.346 L2188.21 287.346 L2188.21 271.837 Q2188.21 268.157 2186.78 266.328 Q2185.34 264.499 2182.47 264.499 Q2179.02 264.499 2177.03 266.698 Q2175.04 268.897 2175.04 272.694 L2175.04 287.346 L2170.76 287.346 L2170.76 261.42 L2175.04 261.42 L2175.04 265.448 Q2176.57 263.11 2178.63 261.953 Q2180.71 260.795 2183.42 260.795 Q2187.89 260.795 2190.18 263.573 Q2192.47 266.328 2192.47 271.698 Z\" fill=\"#000000\" fill-rule=\"evenodd\" fill-opacity=\"1\" /><path clip-path=\"url(#clip760)\" d=\"M2205.18 254.059 L2205.18 261.42 L2213.95 261.42 L2213.95 264.731 L2205.18 264.731 L2205.18 278.805 Q2205.18 281.976 2206.04 282.879 Q2206.92 283.781 2209.58 283.781 L2213.95 283.781 L2213.95 287.346 L2209.58 287.346 Q2204.65 287.346 2202.77 285.518 Q2200.9 283.666 2200.9 278.805 L2200.9 264.731 L2197.77 264.731 L2197.77 261.42 L2200.9 261.42 L2200.9 254.059 L2205.18 254.059 Z\" fill=\"#000000\" fill-rule=\"evenodd\" fill-opacity=\"1\" /><path clip-path=\"url(#clip760)\" d=\"M2236.08 262.184 L2236.08 266.212 Q2234.28 265.286 2232.33 264.823 Q2230.39 264.36 2228.3 264.36 Q2225.13 264.36 2223.54 265.333 Q2221.96 266.305 2221.96 268.249 Q2221.96 269.731 2223.1 270.587 Q2224.23 271.42 2227.66 272.184 L2229.11 272.508 Q2233.65 273.481 2235.55 275.263 Q2237.47 277.022 2237.47 280.194 Q2237.47 283.805 2234.6 285.911 Q2231.75 288.018 2226.75 288.018 Q2224.67 288.018 2222.4 287.601 Q2220.16 287.207 2217.66 286.397 L2217.66 281.999 Q2220.02 283.226 2222.31 283.851 Q2224.6 284.453 2226.85 284.453 Q2229.85 284.453 2231.48 283.434 Q2233.1 282.393 2233.1 280.518 Q2233.1 278.782 2231.92 277.856 Q2230.76 276.93 2226.8 276.073 L2225.32 275.726 Q2221.36 274.893 2219.6 273.18 Q2217.84 271.444 2217.84 268.434 Q2217.84 264.777 2220.43 262.786 Q2223.03 260.795 2227.79 260.795 Q2230.16 260.795 2232.24 261.143 Q2234.32 261.49 2236.08 262.184 Z\" fill=\"#000000\" fill-rule=\"evenodd\" fill-opacity=\"1\" /></svg>\n"
      ]
     },
     "execution_count": 56,
     "metadata": {},
     "output_type": "execute_result"
    }
   ],
   "source": [
    "\n",
    "plot(num_pirates, globaltemperatures, label=\"line\")  \n",
    "scatter!(num_pirates, globaltemperatures, label=\"points\")\n",
    "\n",
    "xlabel!(\"Number of Pirates [Approximate]\")\n",
    "ylabel!(\"Global Temperature (C)\")\n",
    "title!(\"Influence of pirate population on global warming\")\n",
    "xflip!()"
   ]
  },
  {
   "cell_type": "code",
   "execution_count": 57,
   "id": "0daf9637",
   "metadata": {},
   "outputs": [
    {
     "data": {
      "image/svg+xml": [
       "<?xml version=\"1.0\" encoding=\"utf-8\"?>\n",
       "<svg xmlns=\"http://www.w3.org/2000/svg\" xmlns:xlink=\"http://www.w3.org/1999/xlink\" width=\"600\" height=\"400\" viewBox=\"0 0 2400 1600\">\n",
       "<defs>\n",
       "  <clipPath id=\"clip800\">\n",
       "    <rect x=\"0\" y=\"0\" width=\"2400\" height=\"1600\"/>\n",
       "  </clipPath>\n",
       "</defs>\n",
       "<path clip-path=\"url(#clip800)\" d=\"\n",
       "M0 1600 L2400 1600 L2400 0 L0 0  Z\n",
       "  \" fill=\"#ffffff\" fill-rule=\"evenodd\" fill-opacity=\"1\"/>\n",
       "<defs>\n",
       "  <clipPath id=\"clip801\">\n",
       "    <rect x=\"480\" y=\"0\" width=\"1681\" height=\"1600\"/>\n",
       "  </clipPath>\n",
       "</defs>\n",
       "<path clip-path=\"url(#clip800)\" d=\"\n",
       "M169.121 1486.45 L2352.76 1486.45 L2352.76 47.2441 L169.121 47.2441  Z\n",
       "  \" fill=\"#ffffff\" fill-rule=\"evenodd\" fill-opacity=\"1\"/>\n",
       "<defs>\n",
       "  <clipPath id=\"clip802\">\n",
       "    <rect x=\"169\" y=\"47\" width=\"2185\" height=\"1440\"/>\n",
       "  </clipPath>\n",
       "</defs>\n",
       "<polyline clip-path=\"url(#clip802)\" style=\"stroke:#000000; stroke-linecap:butt; stroke-linejoin:round; stroke-width:2; stroke-opacity:0.1; fill:none\" points=\"\n",
       "  230.922,1486.45 230.922,47.2441 \n",
       "  \"/>\n",
       "<polyline clip-path=\"url(#clip802)\" style=\"stroke:#000000; stroke-linecap:butt; stroke-linejoin:round; stroke-width:2; stroke-opacity:0.1; fill:none\" points=\"\n",
       "  745.93,1486.45 745.93,47.2441 \n",
       "  \"/>\n",
       "<polyline clip-path=\"url(#clip802)\" style=\"stroke:#000000; stroke-linecap:butt; stroke-linejoin:round; stroke-width:2; stroke-opacity:0.1; fill:none\" points=\"\n",
       "  1260.94,1486.45 1260.94,47.2441 \n",
       "  \"/>\n",
       "<polyline clip-path=\"url(#clip802)\" style=\"stroke:#000000; stroke-linecap:butt; stroke-linejoin:round; stroke-width:2; stroke-opacity:0.1; fill:none\" points=\"\n",
       "  1775.95,1486.45 1775.95,47.2441 \n",
       "  \"/>\n",
       "<polyline clip-path=\"url(#clip802)\" style=\"stroke:#000000; stroke-linecap:butt; stroke-linejoin:round; stroke-width:2; stroke-opacity:0.1; fill:none\" points=\"\n",
       "  2290.95,1486.45 2290.95,47.2441 \n",
       "  \"/>\n",
       "<polyline clip-path=\"url(#clip800)\" style=\"stroke:#000000; stroke-linecap:butt; stroke-linejoin:round; stroke-width:4; stroke-opacity:1; fill:none\" points=\"\n",
       "  169.121,1486.45 2352.76,1486.45 \n",
       "  \"/>\n",
       "<polyline clip-path=\"url(#clip800)\" style=\"stroke:#000000; stroke-linecap:butt; stroke-linejoin:round; stroke-width:4; stroke-opacity:1; fill:none\" points=\"\n",
       "  230.922,1486.45 230.922,1467.55 \n",
       "  \"/>\n",
       "<polyline clip-path=\"url(#clip800)\" style=\"stroke:#000000; stroke-linecap:butt; stroke-linejoin:round; stroke-width:4; stroke-opacity:1; fill:none\" points=\"\n",
       "  745.93,1486.45 745.93,1467.55 \n",
       "  \"/>\n",
       "<polyline clip-path=\"url(#clip800)\" style=\"stroke:#000000; stroke-linecap:butt; stroke-linejoin:round; stroke-width:4; stroke-opacity:1; fill:none\" points=\"\n",
       "  1260.94,1486.45 1260.94,1467.55 \n",
       "  \"/>\n",
       "<polyline clip-path=\"url(#clip800)\" style=\"stroke:#000000; stroke-linecap:butt; stroke-linejoin:round; stroke-width:4; stroke-opacity:1; fill:none\" points=\"\n",
       "  1775.95,1486.45 1775.95,1467.55 \n",
       "  \"/>\n",
       "<polyline clip-path=\"url(#clip800)\" style=\"stroke:#000000; stroke-linecap:butt; stroke-linejoin:round; stroke-width:4; stroke-opacity:1; fill:none\" points=\"\n",
       "  2290.95,1486.45 2290.95,1467.55 \n",
       "  \"/>\n",
       "<path clip-path=\"url(#clip800)\" d=\"M184.985 1532.02 L214.661 1532.02 L214.661 1535.95 L184.985 1535.95 L184.985 1532.02 Z\" fill=\"#000000\" fill-rule=\"evenodd\" fill-opacity=\"1\" /><path clip-path=\"url(#clip800)\" d=\"M225.564 1544.91 L233.202 1544.91 L233.202 1518.55 L224.892 1520.21 L224.892 1515.95 L233.156 1514.29 L237.832 1514.29 L237.832 1544.91 L245.471 1544.91 L245.471 1548.85 L225.564 1548.85 L225.564 1544.91 Z\" fill=\"#000000\" fill-rule=\"evenodd\" fill-opacity=\"1\" /><path clip-path=\"url(#clip800)\" d=\"M264.915 1517.37 Q261.304 1517.37 259.475 1520.93 Q257.67 1524.47 257.67 1531.6 Q257.67 1538.71 259.475 1542.27 Q261.304 1545.82 264.915 1545.82 Q268.549 1545.82 270.355 1542.27 Q272.184 1538.71 272.184 1531.6 Q272.184 1524.47 270.355 1520.93 Q268.549 1517.37 264.915 1517.37 M264.915 1513.66 Q270.725 1513.66 273.781 1518.27 Q276.86 1522.85 276.86 1531.6 Q276.86 1540.33 273.781 1544.94 Q270.725 1549.52 264.915 1549.52 Q259.105 1549.52 256.026 1544.94 Q252.971 1540.33 252.971 1531.6 Q252.971 1522.85 256.026 1518.27 Q259.105 1513.66 264.915 1513.66 Z\" fill=\"#000000\" fill-rule=\"evenodd\" fill-opacity=\"1\" /><path clip-path=\"url(#clip800)\" d=\"M715.572 1532.02 L745.248 1532.02 L745.248 1535.95 L715.572 1535.95 L715.572 1532.02 Z\" fill=\"#000000\" fill-rule=\"evenodd\" fill-opacity=\"1\" /><path clip-path=\"url(#clip800)\" d=\"M755.386 1514.29 L773.743 1514.29 L773.743 1518.22 L759.669 1518.22 L759.669 1526.7 Q760.687 1526.35 761.706 1526.19 Q762.724 1526 763.743 1526 Q769.53 1526 772.909 1529.17 Q776.289 1532.34 776.289 1537.76 Q776.289 1543.34 772.817 1546.44 Q769.345 1549.52 763.025 1549.52 Q760.849 1549.52 758.581 1549.15 Q756.335 1548.78 753.928 1548.04 L753.928 1543.34 Q756.011 1544.47 758.234 1545.03 Q760.456 1545.58 762.933 1545.58 Q766.937 1545.58 769.275 1543.48 Q771.613 1541.37 771.613 1537.76 Q771.613 1534.15 769.275 1532.04 Q766.937 1529.94 762.933 1529.94 Q761.058 1529.94 759.183 1530.35 Q757.331 1530.77 755.386 1531.65 L755.386 1514.29 Z\" fill=\"#000000\" fill-rule=\"evenodd\" fill-opacity=\"1\" /><path clip-path=\"url(#clip800)\" d=\"M1260.94 1517.37 Q1257.33 1517.37 1255.5 1520.93 Q1253.69 1524.47 1253.69 1531.6 Q1253.69 1538.71 1255.5 1542.27 Q1257.33 1545.82 1260.94 1545.82 Q1264.57 1545.82 1266.38 1542.27 Q1268.21 1538.71 1268.21 1531.6 Q1268.21 1524.47 1266.38 1520.93 Q1264.57 1517.37 1260.94 1517.37 M1260.94 1513.66 Q1266.75 1513.66 1269.8 1518.27 Q1272.88 1522.85 1272.88 1531.6 Q1272.88 1540.33 1269.8 1544.94 Q1266.75 1549.52 1260.94 1549.52 Q1255.13 1549.52 1252.05 1544.94 Q1248.99 1540.33 1248.99 1531.6 Q1248.99 1522.85 1252.05 1518.27 Q1255.13 1513.66 1260.94 1513.66 Z\" fill=\"#000000\" fill-rule=\"evenodd\" fill-opacity=\"1\" /><path clip-path=\"url(#clip800)\" d=\"M1766.22 1514.29 L1784.58 1514.29 L1784.58 1518.22 L1770.51 1518.22 L1770.51 1526.7 Q1771.53 1526.35 1772.54 1526.19 Q1773.56 1526 1774.58 1526 Q1780.37 1526 1783.75 1529.17 Q1787.13 1532.34 1787.13 1537.76 Q1787.13 1543.34 1783.66 1546.44 Q1780.18 1549.52 1773.86 1549.52 Q1771.69 1549.52 1769.42 1549.15 Q1767.17 1548.78 1764.77 1548.04 L1764.77 1543.34 Q1766.85 1544.47 1769.07 1545.03 Q1771.29 1545.58 1773.77 1545.58 Q1777.78 1545.58 1780.11 1543.48 Q1782.45 1541.37 1782.45 1537.76 Q1782.45 1534.15 1780.11 1532.04 Q1777.78 1529.94 1773.77 1529.94 Q1771.9 1529.94 1770.02 1530.35 Q1768.17 1530.77 1766.22 1531.65 L1766.22 1514.29 Z\" fill=\"#000000\" fill-rule=\"evenodd\" fill-opacity=\"1\" /><path clip-path=\"url(#clip800)\" d=\"M2265.64 1544.91 L2273.28 1544.91 L2273.28 1518.55 L2264.97 1520.21 L2264.97 1515.95 L2273.24 1514.29 L2277.91 1514.29 L2277.91 1544.91 L2285.55 1544.91 L2285.55 1548.85 L2265.64 1548.85 L2265.64 1544.91 Z\" fill=\"#000000\" fill-rule=\"evenodd\" fill-opacity=\"1\" /><path clip-path=\"url(#clip800)\" d=\"M2304.99 1517.37 Q2301.38 1517.37 2299.55 1520.93 Q2297.75 1524.47 2297.75 1531.6 Q2297.75 1538.71 2299.55 1542.27 Q2301.38 1545.82 2304.99 1545.82 Q2308.63 1545.82 2310.43 1542.27 Q2312.26 1538.71 2312.26 1531.6 Q2312.26 1524.47 2310.43 1520.93 Q2308.63 1517.37 2304.99 1517.37 M2304.99 1513.66 Q2310.8 1513.66 2313.86 1518.27 Q2316.94 1522.85 2316.94 1531.6 Q2316.94 1540.33 2313.86 1544.94 Q2310.8 1549.52 2304.99 1549.52 Q2299.18 1549.52 2296.11 1544.94 Q2293.05 1540.33 2293.05 1531.6 Q2293.05 1522.85 2296.11 1518.27 Q2299.18 1513.66 2304.99 1513.66 Z\" fill=\"#000000\" fill-rule=\"evenodd\" fill-opacity=\"1\" /><polyline clip-path=\"url(#clip802)\" style=\"stroke:#000000; stroke-linecap:butt; stroke-linejoin:round; stroke-width:2; stroke-opacity:0.1; fill:none\" points=\"\n",
       "  169.121,1445.72 2352.76,1445.72 \n",
       "  \"/>\n",
       "<polyline clip-path=\"url(#clip802)\" style=\"stroke:#000000; stroke-linecap:butt; stroke-linejoin:round; stroke-width:2; stroke-opacity:0.1; fill:none\" points=\"\n",
       "  169.121,1106.28 2352.76,1106.28 \n",
       "  \"/>\n",
       "<polyline clip-path=\"url(#clip802)\" style=\"stroke:#000000; stroke-linecap:butt; stroke-linejoin:round; stroke-width:2; stroke-opacity:0.1; fill:none\" points=\"\n",
       "  169.121,766.846 2352.76,766.846 \n",
       "  \"/>\n",
       "<polyline clip-path=\"url(#clip802)\" style=\"stroke:#000000; stroke-linecap:butt; stroke-linejoin:round; stroke-width:2; stroke-opacity:0.1; fill:none\" points=\"\n",
       "  169.121,427.411 2352.76,427.411 \n",
       "  \"/>\n",
       "<polyline clip-path=\"url(#clip802)\" style=\"stroke:#000000; stroke-linecap:butt; stroke-linejoin:round; stroke-width:2; stroke-opacity:0.1; fill:none\" points=\"\n",
       "  169.121,87.9763 2352.76,87.9763 \n",
       "  \"/>\n",
       "<polyline clip-path=\"url(#clip800)\" style=\"stroke:#000000; stroke-linecap:butt; stroke-linejoin:round; stroke-width:4; stroke-opacity:1; fill:none\" points=\"\n",
       "  169.121,1486.45 169.121,47.2441 \n",
       "  \"/>\n",
       "<polyline clip-path=\"url(#clip800)\" style=\"stroke:#000000; stroke-linecap:butt; stroke-linejoin:round; stroke-width:4; stroke-opacity:1; fill:none\" points=\"\n",
       "  169.121,1445.72 188.019,1445.72 \n",
       "  \"/>\n",
       "<polyline clip-path=\"url(#clip800)\" style=\"stroke:#000000; stroke-linecap:butt; stroke-linejoin:round; stroke-width:4; stroke-opacity:1; fill:none\" points=\"\n",
       "  169.121,1106.28 188.019,1106.28 \n",
       "  \"/>\n",
       "<polyline clip-path=\"url(#clip800)\" style=\"stroke:#000000; stroke-linecap:butt; stroke-linejoin:round; stroke-width:4; stroke-opacity:1; fill:none\" points=\"\n",
       "  169.121,766.846 188.019,766.846 \n",
       "  \"/>\n",
       "<polyline clip-path=\"url(#clip800)\" style=\"stroke:#000000; stroke-linecap:butt; stroke-linejoin:round; stroke-width:4; stroke-opacity:1; fill:none\" points=\"\n",
       "  169.121,427.411 188.019,427.411 \n",
       "  \"/>\n",
       "<polyline clip-path=\"url(#clip800)\" style=\"stroke:#000000; stroke-linecap:butt; stroke-linejoin:round; stroke-width:4; stroke-opacity:1; fill:none\" points=\"\n",
       "  169.121,87.9763 188.019,87.9763 \n",
       "  \"/>\n",
       "<path clip-path=\"url(#clip800)\" d=\"M121.177 1431.51 Q117.566 1431.51 115.737 1435.08 Q113.932 1438.62 113.932 1445.75 Q113.932 1452.86 115.737 1456.42 Q117.566 1459.96 121.177 1459.96 Q124.811 1459.96 126.617 1456.42 Q128.445 1452.86 128.445 1445.75 Q128.445 1438.62 126.617 1435.08 Q124.811 1431.51 121.177 1431.51 M121.177 1427.81 Q126.987 1427.81 130.043 1432.42 Q133.121 1437 133.121 1445.75 Q133.121 1454.48 130.043 1459.08 Q126.987 1463.67 121.177 1463.67 Q115.367 1463.67 112.288 1459.08 Q109.233 1454.48 109.233 1445.75 Q109.233 1437 112.288 1432.42 Q115.367 1427.81 121.177 1427.81 Z\" fill=\"#000000\" fill-rule=\"evenodd\" fill-opacity=\"1\" /><path clip-path=\"url(#clip800)\" d=\"M86.0382 1119.63 L102.358 1119.63 L102.358 1123.56 L80.4133 1123.56 L80.4133 1119.63 Q83.0753 1116.87 87.6586 1112.24 Q92.2651 1107.59 93.4456 1106.25 Q95.691 1103.72 96.5706 1101.99 Q97.4734 1100.23 97.4734 1098.54 Q97.4734 1095.78 95.5289 1094.05 Q93.6076 1092.31 90.5058 1092.31 Q88.3067 1092.31 85.8531 1093.07 Q83.4225 1093.84 80.6447 1095.39 L80.6447 1090.67 Q83.4688 1089.53 85.9225 1088.95 Q88.3762 1088.38 90.4132 1088.38 Q95.7836 1088.38 98.978 1091.06 Q102.172 1093.75 102.172 1098.24 Q102.172 1100.37 101.362 1102.29 Q100.575 1104.19 98.4687 1106.78 Q97.89 1107.45 94.7882 1110.67 Q91.6864 1113.86 86.0382 1119.63 Z\" fill=\"#000000\" fill-rule=\"evenodd\" fill-opacity=\"1\" /><path clip-path=\"url(#clip800)\" d=\"M112.219 1089 L130.575 1089 L130.575 1092.94 L116.501 1092.94 L116.501 1101.41 Q117.52 1101.06 118.538 1100.9 Q119.557 1100.71 120.575 1100.71 Q126.362 1100.71 129.742 1103.89 Q133.121 1107.06 133.121 1112.47 Q133.121 1118.05 129.649 1121.15 Q126.177 1124.23 119.857 1124.23 Q117.682 1124.23 115.413 1123.86 Q113.168 1123.49 110.76 1122.75 L110.76 1118.05 Q112.844 1119.19 115.066 1119.74 Q117.288 1120.3 119.765 1120.3 Q123.77 1120.3 126.107 1118.19 Q128.445 1116.08 128.445 1112.47 Q128.445 1108.86 126.107 1106.76 Q123.77 1104.65 119.765 1104.65 Q117.89 1104.65 116.015 1105.07 Q114.163 1105.48 112.219 1106.36 L112.219 1089 Z\" fill=\"#000000\" fill-rule=\"evenodd\" fill-opacity=\"1\" /><path clip-path=\"url(#clip800)\" d=\"M81.0614 749.566 L99.4178 749.566 L99.4178 753.501 L85.3438 753.501 L85.3438 761.973 Q86.3623 761.626 87.3808 761.464 Q88.3993 761.279 89.4178 761.279 Q95.2049 761.279 98.5845 764.45 Q101.964 767.621 101.964 773.038 Q101.964 778.617 98.4919 781.719 Q95.0197 784.797 88.7003 784.797 Q86.5243 784.797 84.2558 784.427 Q82.0105 784.057 79.6031 783.316 L79.6031 778.617 Q81.6864 779.751 83.9086 780.307 Q86.1308 780.862 88.6077 780.862 Q92.6123 780.862 94.9502 778.756 Q97.2882 776.649 97.2882 773.038 Q97.2882 769.427 94.9502 767.321 Q92.6123 765.214 88.6077 765.214 Q86.7327 765.214 84.8577 765.631 Q83.0058 766.047 81.0614 766.927 L81.0614 749.566 Z\" fill=\"#000000\" fill-rule=\"evenodd\" fill-opacity=\"1\" /><path clip-path=\"url(#clip800)\" d=\"M121.177 752.645 Q117.566 752.645 115.737 756.209 Q113.932 759.751 113.932 766.881 Q113.932 773.987 115.737 777.552 Q117.566 781.094 121.177 781.094 Q124.811 781.094 126.617 777.552 Q128.445 773.987 128.445 766.881 Q128.445 759.751 126.617 756.209 Q124.811 752.645 121.177 752.645 M121.177 748.941 Q126.987 748.941 130.043 753.547 Q133.121 758.131 133.121 766.881 Q133.121 775.608 130.043 780.214 Q126.987 784.797 121.177 784.797 Q115.367 784.797 112.288 780.214 Q109.233 775.608 109.233 766.881 Q109.233 758.131 112.288 753.547 Q115.367 748.941 121.177 748.941 Z\" fill=\"#000000\" fill-rule=\"evenodd\" fill-opacity=\"1\" /><path clip-path=\"url(#clip800)\" d=\"M80.8299 410.131 L103.052 410.131 L103.052 412.122 L90.5058 444.691 L85.6216 444.691 L97.4271 414.066 L80.8299 414.066 L80.8299 410.131 Z\" fill=\"#000000\" fill-rule=\"evenodd\" fill-opacity=\"1\" /><path clip-path=\"url(#clip800)\" d=\"M112.219 410.131 L130.575 410.131 L130.575 414.066 L116.501 414.066 L116.501 422.538 Q117.52 422.191 118.538 422.029 Q119.557 421.844 120.575 421.844 Q126.362 421.844 129.742 425.015 Q133.121 428.187 133.121 433.603 Q133.121 439.182 129.649 442.284 Q126.177 445.362 119.857 445.362 Q117.682 445.362 115.413 444.992 Q113.168 444.622 110.76 443.881 L110.76 439.182 Q112.844 440.316 115.066 440.872 Q117.288 441.427 119.765 441.427 Q123.77 441.427 126.107 439.321 Q128.445 437.214 128.445 433.603 Q128.445 429.992 126.107 427.886 Q123.77 425.779 119.765 425.779 Q117.89 425.779 116.015 426.196 Q114.163 426.613 112.219 427.492 L112.219 410.131 Z\" fill=\"#000000\" fill-rule=\"evenodd\" fill-opacity=\"1\" /><path clip-path=\"url(#clip800)\" d=\"M51.6634 101.321 L59.3023 101.321 L59.3023 74.9555 L50.9921 76.6222 L50.9921 72.3629 L59.256 70.6963 L63.9319 70.6963 L63.9319 101.321 L71.5707 101.321 L71.5707 105.256 L51.6634 105.256 L51.6634 101.321 Z\" fill=\"#000000\" fill-rule=\"evenodd\" fill-opacity=\"1\" /><path clip-path=\"url(#clip800)\" d=\"M91.0151 73.775 Q87.404 73.775 85.5753 77.3398 Q83.7697 80.8814 83.7697 88.011 Q83.7697 95.1174 85.5753 98.6822 Q87.404 102.224 91.0151 102.224 Q94.6493 102.224 96.4548 98.6822 Q98.2835 95.1174 98.2835 88.011 Q98.2835 80.8814 96.4548 77.3398 Q94.6493 73.775 91.0151 73.775 M91.0151 70.0713 Q96.8252 70.0713 99.8808 74.6777 Q102.959 79.261 102.959 88.011 Q102.959 96.7378 99.8808 101.344 Q96.8252 105.928 91.0151 105.928 Q85.2049 105.928 82.1262 101.344 Q79.0707 96.7378 79.0707 88.011 Q79.0707 79.261 82.1262 74.6777 Q85.2049 70.0713 91.0151 70.0713 Z\" fill=\"#000000\" fill-rule=\"evenodd\" fill-opacity=\"1\" /><path clip-path=\"url(#clip800)\" d=\"M121.177 73.775 Q117.566 73.775 115.737 77.3398 Q113.932 80.8814 113.932 88.011 Q113.932 95.1174 115.737 98.6822 Q117.566 102.224 121.177 102.224 Q124.811 102.224 126.617 98.6822 Q128.445 95.1174 128.445 88.011 Q128.445 80.8814 126.617 77.3398 Q124.811 73.775 121.177 73.775 M121.177 70.0713 Q126.987 70.0713 130.043 74.6777 Q133.121 79.261 133.121 88.011 Q133.121 96.7378 130.043 101.344 Q126.987 105.928 121.177 105.928 Q115.367 105.928 112.288 101.344 Q109.233 96.7378 109.233 88.011 Q109.233 79.261 112.288 74.6777 Q115.367 70.0713 121.177 70.0713 Z\" fill=\"#000000\" fill-rule=\"evenodd\" fill-opacity=\"1\" /><polyline clip-path=\"url(#clip802)\" style=\"stroke:#009af9; stroke-linecap:butt; stroke-linejoin:round; stroke-width:4; stroke-opacity:1; fill:none\" points=\"\n",
       "  230.922,87.9763 333.924,345.947 436.926,576.762 539.927,780.423 642.929,956.93 745.93,1106.28 848.932,1228.48 951.934,1323.52 1054.94,1391.41 1157.94,1432.14 \n",
       "  1260.94,1445.72 1363.94,1432.14 1466.94,1391.41 1569.94,1323.52 1672.95,1228.48 1775.95,1106.28 1878.95,956.93 1981.95,780.423 2084.95,576.762 2187.95,345.947 \n",
       "  2290.95,87.9763 \n",
       "  \"/>\n",
       "<path clip-path=\"url(#clip800)\" d=\"\n",
       "M1984.91 198.898 L2279.97 198.898 L2279.97 95.2176 L1984.91 95.2176  Z\n",
       "  \" fill=\"#ffffff\" fill-rule=\"evenodd\" fill-opacity=\"1\"/>\n",
       "<polyline clip-path=\"url(#clip800)\" style=\"stroke:#000000; stroke-linecap:butt; stroke-linejoin:round; stroke-width:4; stroke-opacity:1; fill:none\" points=\"\n",
       "  1984.91,198.898 2279.97,198.898 2279.97,95.2176 1984.91,95.2176 1984.91,198.898 \n",
       "  \"/>\n",
       "<polyline clip-path=\"url(#clip800)\" style=\"stroke:#009af9; stroke-linecap:butt; stroke-linejoin:round; stroke-width:4; stroke-opacity:1; fill:none\" points=\"\n",
       "  2009.17,147.058 2154.75,147.058 \n",
       "  \"/>\n",
       "<path clip-path=\"url(#clip800)\" d=\"M2192.86 166.745 Q2191.05 171.375 2189.34 172.787 Q2187.62 174.199 2184.75 174.199 L2181.35 174.199 L2181.35 170.634 L2183.85 170.634 Q2185.61 170.634 2186.58 169.8 Q2187.55 168.967 2188.73 165.865 L2189.5 163.921 L2179.01 138.412 L2183.53 138.412 L2191.63 158.689 L2199.73 138.412 L2204.24 138.412 L2192.86 166.745 Z\" fill=\"#000000\" fill-rule=\"evenodd\" fill-opacity=\"1\" /><path clip-path=\"url(#clip800)\" d=\"M2211.54 160.402 L2219.17 160.402 L2219.17 134.037 L2210.86 135.703 L2210.86 131.444 L2219.13 129.778 L2223.8 129.778 L2223.8 160.402 L2231.44 160.402 L2231.44 164.338 L2211.54 164.338 L2211.54 160.402 Z\" fill=\"#000000\" fill-rule=\"evenodd\" fill-opacity=\"1\" /></svg>\n"
      ]
     },
     "execution_count": 57,
     "metadata": {},
     "output_type": "execute_result"
    }
   ],
   "source": [
    "\n",
    "x = -10:10\n",
    "y = x .^ 2\n",
    "plot(x, y)"
   ]
  },
  {
   "cell_type": "markdown",
   "id": "21a59b8c",
   "metadata": {},
   "source": [
    "# Julia é rapido mesmo?"
   ]
  },
  {
   "cell_type": "markdown",
   "id": "e2e254fd",
   "metadata": {},
   "source": [
    "$$sum(a) = \\sum_{i=1}^n a_i$$"
   ]
  },
  {
   "cell_type": "code",
   "execution_count": 58,
   "id": "580bedd8",
   "metadata": {},
   "outputs": [],
   "source": [
    "a = rand(10^7); # 1D vector of random numbers, uniform on [0,1]"
   ]
  },
  {
   "cell_type": "code",
   "execution_count": 59,
   "id": "274892b9",
   "metadata": {},
   "outputs": [
    {
     "data": {
      "text/plain": [
       "5.000674864051989e6"
      ]
     },
     "execution_count": 59,
     "metadata": {},
     "output_type": "execute_result"
    }
   ],
   "source": [
    "sum(a)"
   ]
  },
  {
   "cell_type": "code",
   "execution_count": 72,
   "id": "fb9aab07",
   "metadata": {},
   "outputs": [],
   "source": [
    "using Pkg\n",
    "Pkg.add(\"BenchmarkTools\")"
   ]
  },
  {
   "cell_type": "code",
   "execution_count": 60,
   "id": "2e683d58",
   "metadata": {},
   "outputs": [],
   "source": [
    "using BenchmarkTools"
   ]
  },
  {
   "cell_type": "code",
   "execution_count": 74,
   "id": "d8e8e1ba",
   "metadata": {},
   "outputs": [],
   "source": [
    "using Pkg\n",
    "Pkg.add(\"PyCall\")"
   ]
  },
  {
   "cell_type": "code",
   "execution_count": 61,
   "id": "4dc204f8",
   "metadata": {},
   "outputs": [],
   "source": [
    "using PyCall"
   ]
  },
  {
   "cell_type": "code",
   "execution_count": 62,
   "id": "752c26de",
   "metadata": {},
   "outputs": [
    {
     "data": {
      "text/plain": [
       "Dict{Any, Any}()"
      ]
     },
     "execution_count": 62,
     "metadata": {},
     "output_type": "execute_result"
    }
   ],
   "source": [
    "d = Dict()"
   ]
  },
  {
   "cell_type": "code",
   "execution_count": 63,
   "id": "0bcb09c9",
   "metadata": {},
   "outputs": [
    {
     "data": {
      "text/plain": [
       "PyObject <built-in function sum>"
      ]
     },
     "execution_count": 63,
     "metadata": {},
     "output_type": "execute_result"
    }
   ],
   "source": [
    "# get the Python built-in \"sum\" function:\n",
    "pysum = pybuiltin(\"sum\")"
   ]
  },
  {
   "cell_type": "code",
   "execution_count": 64,
   "id": "7b676aee",
   "metadata": {},
   "outputs": [
    {
     "data": {
      "text/plain": [
       "BenchmarkTools.Trial: 7 samples with 1 evaluation.\n",
       " Range \u001b[90m(\u001b[39m\u001b[36m\u001b[1mmin\u001b[22m\u001b[39m … \u001b[35mmax\u001b[39m\u001b[90m):  \u001b[39m\u001b[36m\u001b[1m797.674 ms\u001b[22m\u001b[39m … \u001b[35m839.398 ms\u001b[39m  \u001b[90m┊\u001b[39m GC \u001b[90m(\u001b[39mmin … max\u001b[90m): \u001b[39m0.00% … 0.00%\n",
       " Time  \u001b[90m(\u001b[39m\u001b[34m\u001b[1mmedian\u001b[22m\u001b[39m\u001b[90m):     \u001b[39m\u001b[34m\u001b[1m819.554 ms               \u001b[22m\u001b[39m\u001b[90m┊\u001b[39m GC \u001b[90m(\u001b[39mmedian\u001b[90m):    \u001b[39m0.00%\n",
       " Time  \u001b[90m(\u001b[39m\u001b[32m\u001b[1mmean\u001b[22m\u001b[39m ± \u001b[32mσ\u001b[39m\u001b[90m):   \u001b[39m\u001b[32m\u001b[1m821.346 ms\u001b[22m\u001b[39m ± \u001b[32m 14.748 ms\u001b[39m  \u001b[90m┊\u001b[39m GC \u001b[90m(\u001b[39mmean ± σ\u001b[90m):  \u001b[39m0.00% ± 0.00%\n",
       "\n",
       "  \u001b[39m▁\u001b[39m \u001b[39m \u001b[39m \u001b[39m \u001b[39m \u001b[39m \u001b[39m \u001b[39m \u001b[39m \u001b[39m \u001b[39m \u001b[39m \u001b[39m \u001b[39m \u001b[39m \u001b[39m \u001b[39m \u001b[39m \u001b[39m \u001b[39m \u001b[39m \u001b[39m \u001b[39m▁\u001b[39m \u001b[39m \u001b[39m▁\u001b[34m \u001b[39m\u001b[39m \u001b[39m \u001b[39m \u001b[39m▁\u001b[39m \u001b[39m \u001b[39m \u001b[32m \u001b[39m\u001b[39m \u001b[39m \u001b[39m▁\u001b[39m \u001b[39m \u001b[39m \u001b[39m \u001b[39m \u001b[39m \u001b[39m \u001b[39m \u001b[39m \u001b[39m \u001b[39m \u001b[39m \u001b[39m \u001b[39m \u001b[39m \u001b[39m \u001b[39m \u001b[39m \u001b[39m \u001b[39m \u001b[39m \u001b[39m█\u001b[39m \u001b[39m \n",
       "  \u001b[39m█\u001b[39m▁\u001b[39m▁\u001b[39m▁\u001b[39m▁\u001b[39m▁\u001b[39m▁\u001b[39m▁\u001b[39m▁\u001b[39m▁\u001b[39m▁\u001b[39m▁\u001b[39m▁\u001b[39m▁\u001b[39m▁\u001b[39m▁\u001b[39m▁\u001b[39m▁\u001b[39m▁\u001b[39m▁\u001b[39m▁\u001b[39m▁\u001b[39m▁\u001b[39m█\u001b[39m▁\u001b[39m▁\u001b[39m█\u001b[34m▁\u001b[39m\u001b[39m▁\u001b[39m▁\u001b[39m▁\u001b[39m█\u001b[39m▁\u001b[39m▁\u001b[39m▁\u001b[32m▁\u001b[39m\u001b[39m▁\u001b[39m▁\u001b[39m█\u001b[39m▁\u001b[39m▁\u001b[39m▁\u001b[39m▁\u001b[39m▁\u001b[39m▁\u001b[39m▁\u001b[39m▁\u001b[39m▁\u001b[39m▁\u001b[39m▁\u001b[39m▁\u001b[39m▁\u001b[39m▁\u001b[39m▁\u001b[39m▁\u001b[39m▁\u001b[39m▁\u001b[39m▁\u001b[39m▁\u001b[39m▁\u001b[39m█\u001b[39m \u001b[39m▁\n",
       "  798 ms\u001b[90m           Histogram: frequency by time\u001b[39m          839 ms \u001b[0m\u001b[1m<\u001b[22m\n",
       "\n",
       " Memory estimate\u001b[90m: \u001b[39m\u001b[33m336 bytes\u001b[39m, allocs estimate\u001b[90m: \u001b[39m\u001b[33m6\u001b[39m."
      ]
     },
     "execution_count": 64,
     "metadata": {},
     "output_type": "execute_result"
    }
   ],
   "source": [
    "py_list_bench = @benchmark $pysum($a)"
   ]
  },
  {
   "cell_type": "code",
   "execution_count": 65,
   "id": "b1ea8f0c",
   "metadata": {},
   "outputs": [
    {
     "data": {
      "text/plain": [
       "Dict{Any, Any} with 1 entry:\n",
       "  \"Python built-in\" => 797.674"
      ]
     },
     "execution_count": 65,
     "metadata": {},
     "output_type": "execute_result"
    }
   ],
   "source": [
    "d[\"Python built-in\"] = minimum(py_list_bench.times) / 1e6\n",
    "d"
   ]
  },
  {
   "cell_type": "code",
   "execution_count": 82,
   "id": "328a1129",
   "metadata": {},
   "outputs": [],
   "source": [
    "using Pkg\n",
    "Pkg.add(\"Conda\")"
   ]
  },
  {
   "cell_type": "code",
   "execution_count": 66,
   "id": "ff6bcc22",
   "metadata": {},
   "outputs": [],
   "source": [
    "using Conda"
   ]
  },
  {
   "cell_type": "code",
   "execution_count": 86,
   "id": "7fefccec",
   "metadata": {},
   "outputs": [],
   "source": [
    "# Conda.add(\"numpy\")"
   ]
  },
  {
   "cell_type": "code",
   "execution_count": 67,
   "id": "5a60561d",
   "metadata": {},
   "outputs": [
    {
     "data": {
      "text/plain": [
       "BenchmarkTools.Trial: 910 samples with 1 evaluation.\n",
       " Range \u001b[90m(\u001b[39m\u001b[36m\u001b[1mmin\u001b[22m\u001b[39m … \u001b[35mmax\u001b[39m\u001b[90m):  \u001b[39m\u001b[36m\u001b[1m4.265 ms\u001b[22m\u001b[39m … \u001b[35m  7.710 ms\u001b[39m  \u001b[90m┊\u001b[39m GC \u001b[90m(\u001b[39mmin … max\u001b[90m): \u001b[39m0.00% … 0.00%\n",
       " Time  \u001b[90m(\u001b[39m\u001b[34m\u001b[1mmedian\u001b[22m\u001b[39m\u001b[90m):     \u001b[39m\u001b[34m\u001b[1m5.329 ms               \u001b[22m\u001b[39m\u001b[90m┊\u001b[39m GC \u001b[90m(\u001b[39mmedian\u001b[90m):    \u001b[39m0.00%\n",
       " Time  \u001b[90m(\u001b[39m\u001b[32m\u001b[1mmean\u001b[22m\u001b[39m ± \u001b[32mσ\u001b[39m\u001b[90m):   \u001b[39m\u001b[32m\u001b[1m5.482 ms\u001b[22m\u001b[39m ± \u001b[32m727.638 μs\u001b[39m  \u001b[90m┊\u001b[39m GC \u001b[90m(\u001b[39mmean ± σ\u001b[90m):  \u001b[39m0.00% ± 0.00%\n",
       "\n",
       "  \u001b[39m \u001b[39m \u001b[39m \u001b[39m \u001b[39m \u001b[39m▂\u001b[39m \u001b[39m \u001b[39m▁\u001b[39m \u001b[39m \u001b[39m \u001b[39m \u001b[39m \u001b[39m \u001b[39m▁\u001b[39m▇\u001b[39m█\u001b[39m▂\u001b[39m \u001b[39m \u001b[39m▁\u001b[34m \u001b[39m\u001b[39m \u001b[39m \u001b[32m \u001b[39m\u001b[39m \u001b[39m \u001b[39m \u001b[39m \u001b[39m \u001b[39m \u001b[39m \u001b[39m \u001b[39m \u001b[39m \u001b[39m \u001b[39m \u001b[39m \u001b[39m \u001b[39m▁\u001b[39m▁\u001b[39m▂\u001b[39m▁\u001b[39m \u001b[39m \u001b[39m▁\u001b[39m \u001b[39m \u001b[39m \u001b[39m \u001b[39m \u001b[39m \u001b[39m \u001b[39m \u001b[39m \u001b[39m \u001b[39m \u001b[39m \u001b[39m \u001b[39m \n",
       "  \u001b[39m▄\u001b[39m▅\u001b[39m█\u001b[39m▆\u001b[39m▄\u001b[39m█\u001b[39m▅\u001b[39m█\u001b[39m█\u001b[39m█\u001b[39m▇\u001b[39m▇\u001b[39m▆\u001b[39m▇\u001b[39m▇\u001b[39m█\u001b[39m█\u001b[39m█\u001b[39m█\u001b[39m█\u001b[39m▇\u001b[39m█\u001b[34m▅\u001b[39m\u001b[39m▆\u001b[39m▅\u001b[32m▆\u001b[39m\u001b[39m▆\u001b[39m█\u001b[39m▅\u001b[39m▆\u001b[39m▄\u001b[39m▇\u001b[39m▅\u001b[39m▄\u001b[39m▇\u001b[39m▄\u001b[39m▅\u001b[39m▄\u001b[39m▇\u001b[39m▇\u001b[39m█\u001b[39m█\u001b[39m█\u001b[39m█\u001b[39m▇\u001b[39m▅\u001b[39m█\u001b[39m▄\u001b[39m▄\u001b[39m▂\u001b[39m▃\u001b[39m▂\u001b[39m▄\u001b[39m▂\u001b[39m▂\u001b[39m▁\u001b[39m▁\u001b[39m▂\u001b[39m▂\u001b[39m \u001b[39m▄\n",
       "  4.27 ms\u001b[90m         Histogram: frequency by time\u001b[39m        7.12 ms \u001b[0m\u001b[1m<\u001b[22m\n",
       "\n",
       " Memory estimate\u001b[90m: \u001b[39m\u001b[33m336 bytes\u001b[39m, allocs estimate\u001b[90m: \u001b[39m\u001b[33m6\u001b[39m."
      ]
     },
     "execution_count": 67,
     "metadata": {},
     "output_type": "execute_result"
    }
   ],
   "source": [
    "numpy_sum = pyimport(\"numpy\")[\"sum\"]\n",
    "\n",
    "py_numpy_bench = @benchmark $numpy_sum($a)"
   ]
  },
  {
   "cell_type": "code",
   "execution_count": 68,
   "id": "e1f7fb99",
   "metadata": {},
   "outputs": [
    {
     "data": {
      "text/plain": [
       "Dict{Any, Any} with 2 entries:\n",
       "  \"Python numpy\"    => 4.26513\n",
       "  \"Python built-in\" => 797.674"
      ]
     },
     "execution_count": 68,
     "metadata": {},
     "output_type": "execute_result"
    }
   ],
   "source": [
    "d[\"Python numpy\"] = minimum(py_numpy_bench.times) / 1e6\n",
    "d"
   ]
  },
  {
   "cell_type": "code",
   "execution_count": 69,
   "id": "dd1351b1",
   "metadata": {},
   "outputs": [
    {
     "data": {
      "text/plain": [
       "BenchmarkTools.Trial: 1021 samples with 1 evaluation.\n",
       " Range \u001b[90m(\u001b[39m\u001b[36m\u001b[1mmin\u001b[22m\u001b[39m … \u001b[35mmax\u001b[39m\u001b[90m):  \u001b[39m\u001b[36m\u001b[1m3.901 ms\u001b[22m\u001b[39m … \u001b[35m  7.863 ms\u001b[39m  \u001b[90m┊\u001b[39m GC \u001b[90m(\u001b[39mmin … max\u001b[90m): \u001b[39m0.00% … 0.00%\n",
       " Time  \u001b[90m(\u001b[39m\u001b[34m\u001b[1mmedian\u001b[22m\u001b[39m\u001b[90m):     \u001b[39m\u001b[34m\u001b[1m4.664 ms               \u001b[22m\u001b[39m\u001b[90m┊\u001b[39m GC \u001b[90m(\u001b[39mmedian\u001b[90m):    \u001b[39m0.00%\n",
       " Time  \u001b[90m(\u001b[39m\u001b[32m\u001b[1mmean\u001b[22m\u001b[39m ± \u001b[32mσ\u001b[39m\u001b[90m):   \u001b[39m\u001b[32m\u001b[1m4.887 ms\u001b[22m\u001b[39m ± \u001b[32m762.784 μs\u001b[39m  \u001b[90m┊\u001b[39m GC \u001b[90m(\u001b[39mmean ± σ\u001b[90m):  \u001b[39m0.00% ± 0.00%\n",
       "\n",
       "  \u001b[39m \u001b[39m▁\u001b[39m \u001b[39m \u001b[39m \u001b[39m \u001b[39m█\u001b[39m▅\u001b[39m▂\u001b[39m \u001b[39m \u001b[39m \u001b[39m \u001b[39m \u001b[39m \u001b[39m \u001b[39m \u001b[34m \u001b[39m\u001b[39m \u001b[39m \u001b[39m \u001b[32m \u001b[39m\u001b[39m \u001b[39m \u001b[39m \u001b[39m \u001b[39m \u001b[39m \u001b[39m \u001b[39m \u001b[39m \u001b[39m \u001b[39m \u001b[39m \u001b[39m \u001b[39m \u001b[39m \u001b[39m \u001b[39m \u001b[39m \u001b[39m \u001b[39m \u001b[39m \u001b[39m \u001b[39m \u001b[39m \u001b[39m \u001b[39m \u001b[39m \u001b[39m \u001b[39m \u001b[39m \u001b[39m \u001b[39m \u001b[39m \u001b[39m \u001b[39m \u001b[39m \u001b[39m \u001b[39m \u001b[39m \n",
       "  \u001b[39m▄\u001b[39m█\u001b[39m█\u001b[39m▆\u001b[39m▆\u001b[39m█\u001b[39m█\u001b[39m█\u001b[39m█\u001b[39m█\u001b[39m▇\u001b[39m▇\u001b[39m▇\u001b[39m▆\u001b[39m▆\u001b[39m▅\u001b[39m▆\u001b[34m█\u001b[39m\u001b[39m▅\u001b[39m▆\u001b[39m▄\u001b[32m▆\u001b[39m\u001b[39m▅\u001b[39m▄\u001b[39m▅\u001b[39m▄\u001b[39m▅\u001b[39m▃\u001b[39m▃\u001b[39m▃\u001b[39m▄\u001b[39m▄\u001b[39m▄\u001b[39m▃\u001b[39m▃\u001b[39m▃\u001b[39m▄\u001b[39m▄\u001b[39m▃\u001b[39m▅\u001b[39m▆\u001b[39m▅\u001b[39m▄\u001b[39m▆\u001b[39m▄\u001b[39m▅\u001b[39m▅\u001b[39m▄\u001b[39m▅\u001b[39m▄\u001b[39m▃\u001b[39m▃\u001b[39m▃\u001b[39m▃\u001b[39m▃\u001b[39m▄\u001b[39m▁\u001b[39m▃\u001b[39m▃\u001b[39m \u001b[39m▄\n",
       "  3.9 ms\u001b[90m          Histogram: frequency by time\u001b[39m        6.62 ms \u001b[0m\u001b[1m<\u001b[22m\n",
       "\n",
       " Memory estimate\u001b[90m: \u001b[39m\u001b[33m0 bytes\u001b[39m, allocs estimate\u001b[90m: \u001b[39m\u001b[33m0\u001b[39m."
      ]
     },
     "execution_count": 69,
     "metadata": {},
     "output_type": "execute_result"
    }
   ],
   "source": [
    "j_bench = @benchmark sum($a)"
   ]
  },
  {
   "cell_type": "code",
   "execution_count": 70,
   "id": "9eaaa871",
   "metadata": {},
   "outputs": [
    {
     "data": {
      "text/plain": [
       "Dict{Any, Any} with 3 entries:\n",
       "  \"Python numpy\"    => 4.26513\n",
       "  \"Python built-in\" => 797.674\n",
       "  \"Julia built-in\"  => 3.90138"
      ]
     },
     "execution_count": 70,
     "metadata": {},
     "output_type": "execute_result"
    }
   ],
   "source": [
    "d[\"Julia built-in\"] = minimum(j_bench.times) / 1e6\n",
    "d"
   ]
  }
 ],
 "metadata": {
  "kernelspec": {
   "display_name": "Julia 1.6.1",
   "language": "julia",
   "name": "julia-1.6"
  },
  "language_info": {
   "file_extension": ".jl",
   "mimetype": "application/julia",
   "name": "julia",
   "version": "1.6.1"
  }
 },
 "nbformat": 4,
 "nbformat_minor": 5
}
